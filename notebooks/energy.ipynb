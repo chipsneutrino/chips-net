{
 "cells": [
  {
   "cell_type": "markdown",
   "metadata": {},
   "source": [
    "# CHIPS-CVN Energy Estimation Notebook"
   ]
  },
  {
   "cell_type": "code",
   "execution_count": 1,
   "metadata": {},
   "outputs": [
    {
     "name": "stderr",
     "output_type": "stream",
     "text": [
      "/mnt/storage/jtingey/chips-cvn/env/miniconda/envs/chips-cvn/lib/python3.7/site-packages/statsmodels/tools/_testing.py:19: FutureWarning: pandas.util.testing is deprecated. Use the functions in the public API at pandas.testing instead.\n",
      "  import pandas.util.testing as tm\n"
     ]
    },
    {
     "name": "stdout",
     "output_type": "stream",
     "text": [
      "Welcome to JupyROOT 6.18/04\n",
      "---  4 Physical GPUs, 4 Logical GPUs ---\n"
     ]
    }
   ],
   "source": [
    "import tensorflow as tf\n",
    "import matplotlib.pyplot as plt\n",
    "import seaborn as sns\n",
    "\n",
    "import chipscvn.utils as utils\n",
    "import chipscvn.config as config\n",
    "import chipscvn.data as data\n",
    "import chipscvn.models as models\n",
    "import chipscvn.evaluators as evaluators\n",
    "utils.gpu_setup()  # Setup the GPU's"
   ]
  },
  {
   "cell_type": "markdown",
   "metadata": {},
   "source": [
    "Load the trained model from the configuration, run the energy estimation evaluator and print the columns in the Pandas DataFrame."
   ]
  },
  {
   "cell_type": "code",
   "execution_count": 2,
   "metadata": {},
   "outputs": [
    {
     "name": "stdout",
     "output_type": "stream",
     "text": [
      "--- Running Evaluation ---\n",
      "\n",
      "--- running inference...\n",
      "\n",
      "--- Done (took 786.5434098243713 seconds) ---\n",
      "\n"
     ]
    },
    {
     "name": "stderr",
     "output_type": "stream",
     "text": [
      "2020-04-17 09:57:23.719214: I tensorflow/stream_executor/platform/default/dso_loader.cc:44] Successfully opened dynamic library libcublas.so.10\n",
      "2020-04-17 09:57:24.020413: I tensorflow/stream_executor/platform/default/dso_loader.cc:44] Successfully opened dynamic library libcudnn.so.7\n"
     ]
    }
   ],
   "source": [
    "conf = config.get(\"config/eval_energy.yml\")\n",
    "evaluator = utils.get_evaluator(conf)\n",
    "evaluator.run()"
   ]
  },
  {
   "cell_type": "code",
   "execution_count": 3,
   "metadata": {},
   "outputs": [],
   "source": [
    "evaluator.events.loc[:, 'nuel_cc_qel_e'] = evaluator.events.nuel_cc_qel_e.map(lambda x: x[0])\n",
    "evaluator.events.loc[:, 'nuel_cc_dis_e'] = evaluator.events.nuel_cc_dis_e.map(lambda x: x[0])\n",
    "evaluator.events.loc[:, 'nuel_cc_res_e'] = evaluator.events.nuel_cc_res_e.map(lambda x: x[0])\n",
    "evaluator.events.loc[:, 'nuel_nc_qel_e'] = evaluator.events.nuel_nc_qel_e.map(lambda x: x[0])\n",
    "evaluator.events.loc[:, 'nuel_nc_dis_e'] = evaluator.events.nuel_nc_dis_e.map(lambda x: x[0])\n",
    "evaluator.events.loc[:, 'nuel_nc_res_e'] = evaluator.events.nuel_nc_res_e.map(lambda x: x[0])\n",
    "evaluator.events.loc[:, 'numu_cc_qel_e'] = evaluator.events.numu_cc_qel_e.map(lambda x: x[0])\n",
    "evaluator.events.loc[:, 'numu_cc_dis_e'] = evaluator.events.numu_cc_dis_e.map(lambda x: x[0])\n",
    "evaluator.events.loc[:, 'numu_cc_res_e'] = evaluator.events.numu_cc_res_e.map(lambda x: x[0])\n",
    "evaluator.events.loc[:, 'numu_nc_qel_e'] = evaluator.events.numu_nc_qel_e.map(lambda x: x[0])\n",
    "evaluator.events.loc[:, 'numu_nc_dis_e'] = evaluator.events.numu_nc_dis_e.map(lambda x: x[0])\n",
    "evaluator.events.loc[:, 'numu_nc_res_e'] = evaluator.events.numu_nc_res_e.map(lambda x: x[0])"
   ]
  },
  {
   "cell_type": "code",
   "execution_count": 4,
   "metadata": {},
   "outputs": [
    {
     "data": {
      "text/plain": [
       "<Figure size 1152x720 with 0 Axes>"
      ]
     },
     "metadata": {},
     "output_type": "display_data"
    },
    {
     "data": {
      "image/png": "[encoded data removed]",
      "text/plain": [
       "<Figure size 432x288 with 1 Axes>"
      ]
     },
     "metadata": {
      "needs_background": "light"
     },
     "output_type": "display_data"
    }
   ],
   "source": [
    "categories = [0, 1, 2, 4, 5, 6, 8, 9, 10, 12, 13, 14]\n",
    "events = evaluator.events[evaluator.events[\"t_cat\"].isin(categories)]\n",
    "plt.figure(figsize=(16,10))\n",
    "events.hist(column='t_nuEnergy', bins=50, range=[0,10000])\n",
    "plt.show()"
   ]
  },
  {
   "cell_type": "code",
   "execution_count": 8,
   "metadata": {},
   "outputs": [
    {
     "data": {
      "text/plain": [
       "0        None\n",
       "1        None\n",
       "2        None\n",
       "3        None\n",
       "4        None\n",
       "         ... \n",
       "89339    None\n",
       "89340    None\n",
       "89341    None\n",
       "89342    None\n",
       "89343    None\n",
       "Length: 88245, dtype: object"
      ]
     },
     "execution_count": 8,
     "metadata": {},
     "output_type": "execute_result"
    }
   ],
   "source": [
    "import ROOT\n",
    "nuel_cc_qel_h = ROOT.TH2D(\"nuel_cc_qel\", \"nuel_cc_qel\", 40, 0, 10000, 40, 0, 10000)\n",
    "nuel_cc_res_h = ROOT.TH2D(\"nuel_cc_res\", \"nuel_cc_res\", 40, 0, 10000, 40, 0, 10000)\n",
    "nuel_cc_dis_h = ROOT.TH2D(\"nuel_cc_dis\", \"nuel_cc_dis\", 40, 0, 10000, 40, 0, 10000)\n",
    "numu_cc_qel_h = ROOT.TH2D(\"numu_cc_qel\", \"numu_cc_qel\", 40, 0, 10000, 40, 0, 10000)\n",
    "numu_cc_res_h = ROOT.TH2D(\"numu_cc_res\", \"numu_cc_res\", 40, 0, 10000, 40, 0, 10000)\n",
    "numu_cc_dis_h = ROOT.TH2D(\"numu_cc_dis\", \"numu_cc_dis\", 40, 0, 10000, 40, 0, 10000)\n",
    "nuel_nc_qel_h = ROOT.TH2D(\"nuel_nc_qel\", \"nuel_nc_qel\", 40, 0, 10000, 40, 0, 10000)\n",
    "nuel_nc_res_h = ROOT.TH2D(\"nuel_nc_res\", \"nuel_nc_res\", 40, 0, 10000, 40, 0, 10000)\n",
    "nuel_nc_dis_h = ROOT.TH2D(\"nuel_nc_dis\", \"nuel_nc_dis\", 40, 0, 10000, 40, 0, 10000)\n",
    "numu_nc_qel_h = ROOT.TH2D(\"numu_nc_qel\", \"numu_nc_qel\", 40, 0, 10000, 40, 0, 10000)\n",
    "numu_nc_res_h = ROOT.TH2D(\"numu_nc_res\", \"numu_nc_res\", 40, 0, 10000, 40, 0, 10000)\n",
    "numu_nc_dis_h = ROOT.TH2D(\"numu_nc_dis\", \"numu_nc_dis\", 40, 0, 10000, 40, 0, 10000)\n",
    "\n",
    "nuel_cc_nqel_h = ROOT.TH2D(\"nuel_cc_nqel\", \"nuel_cc_nqel\", 40, 0, 10000, 40, 0, 10000)\n",
    "numu_cc_nqel_h = ROOT.TH2D(\"numu_cc_nqel\", \"numu_cc_nqel\", 40, 0, 10000, 40, 0, 10000)\n",
    "nuel_cc_h = ROOT.TH2D(\"nuel_cc\", \"nuel_cc\", 40, 0, 10000, 40, 0, 10000)\n",
    "numu_cc_h = ROOT.TH2D(\"numu_cc\", \"numu_cc\", 40, 0, 10000, 40, 0, 10000)\n",
    "nuel_nc_h = ROOT.TH2D(\"nuel_nc\", \"nuel_nc\", 40, 0, 10000, 40, 0, 10000)\n",
    "numu_nc_h = ROOT.TH2D(\"numu_nc\", \"numu_nc\", 40, 0, 10000, 40, 0, 10000)\n",
    "nc_h = ROOT.TH2D(\"nc\", \"nc\", 40, 0, 10000, 40, 0, 10000)\n",
    "\n",
    "frac_nuel = 0.114\n",
    "frac_numu = 0.886\n",
    "def fill_plots(row):\n",
    "    cat = row[\"t_cat\"]\n",
    "    if cat == 0:\n",
    "        nuel_cc_qel_h.Fill(row[\"t_nuEnergy\"], row[\"nuel_cc_qel_e\"])\n",
    "        nuel_cc_h.Fill(row[\"t_nuEnergy\"], row[\"nuel_cc_qel_e\"])\n",
    "    elif cat == 1:\n",
    "        nuel_cc_res_h.Fill(row[\"t_nuEnergy\"], row[\"nuel_cc_res_e\"])\n",
    "        nuel_cc_nqel_h.Fill(row[\"t_nuEnergy\"], row[\"nuel_cc_res_e\"])\n",
    "        nuel_cc_h.Fill(row[\"t_nuEnergy\"], row[\"nuel_cc_res_e\"])\n",
    "    elif cat == 2:\n",
    "        nuel_cc_dis_h.Fill(row[\"t_nuEnergy\"], row[\"nuel_cc_dis_e\"])\n",
    "        nuel_cc_nqel_h.Fill(row[\"t_nuEnergy\"], row[\"nuel_cc_dis_e\"])\n",
    "        nuel_cc_h.Fill(row[\"t_nuEnergy\"], row[\"nuel_cc_dis_e\"])\n",
    "    elif cat == 4:\n",
    "        numu_cc_qel_h.Fill(row[\"t_nuEnergy\"], row[\"numu_cc_qel_e\"])\n",
    "        numu_cc_h.Fill(row[\"t_nuEnergy\"], row[\"numu_cc_qel_e\"])\n",
    "    elif cat == 5:\n",
    "        numu_cc_res_h.Fill(row[\"t_nuEnergy\"], row[\"numu_cc_res_e\"])\n",
    "        numu_cc_nqel_h.Fill(row[\"t_nuEnergy\"], row[\"numu_cc_res_e\"])\n",
    "        numu_cc_h.Fill(row[\"t_nuEnergy\"], row[\"numu_cc_res_e\"])\n",
    "    elif cat == 6:\n",
    "        numu_cc_dis_h.Fill(row[\"t_nuEnergy\"], row[\"numu_cc_dis_e\"])\n",
    "        numu_cc_nqel_h.Fill(row[\"t_nuEnergy\"], row[\"numu_cc_dis_e\"])\n",
    "        numu_cc_h.Fill(row[\"t_nuEnergy\"], row[\"numu_cc_dis_e\"])\n",
    "    elif cat == 8:\n",
    "        nuel_nc_qel_h.Fill(row[\"t_nuEnergy\"], row[\"nuel_nc_qel_e\"])\n",
    "        nuel_nc_h.Fill(row[\"t_nuEnergy\"], row[\"nuel_nc_qel_e\"])\n",
    "        nc_h.Fill(row[\"t_nuEnergy\"], row[\"nuel_nc_qel_e\"], frac_nuel)\n",
    "    elif cat == 9:\n",
    "        nuel_nc_res_h.Fill(row[\"t_nuEnergy\"], row[\"nuel_nc_res_e\"])\n",
    "        nuel_nc_h.Fill(row[\"t_nuEnergy\"], row[\"nuel_nc_res_e\"])\n",
    "        nc_h.Fill(row[\"t_nuEnergy\"], row[\"nuel_nc_res_e\"], frac_nuel)\n",
    "    elif cat == 10:\n",
    "        nuel_nc_dis_h.Fill(row[\"t_nuEnergy\"], row[\"nuel_nc_dis_e\"])\n",
    "        nuel_nc_h.Fill(row[\"t_nuEnergy\"], row[\"nuel_nc_dis_e\"])\n",
    "        nc_h.Fill(row[\"t_nuEnergy\"], row[\"nuel_nc_dis_e\"], frac_nuel)\n",
    "    elif cat == 12:\n",
    "        numu_nc_qel_h.Fill(row[\"t_nuEnergy\"], row[\"numu_nc_qel_e\"])\n",
    "        numu_nc_h.Fill(row[\"t_nuEnergy\"], row[\"numu_nc_qel_e\"])\n",
    "        nc_h.Fill(row[\"t_nuEnergy\"], row[\"numu_nc_qel_e\"], frac_numu)\n",
    "    elif cat == 13:\n",
    "        numu_nc_res_h.Fill(row[\"t_nuEnergy\"], row[\"numu_nc_res_e\"])\n",
    "        numu_nc_h.Fill(row[\"t_nuEnergy\"], row[\"numu_nc_res_e\"])\n",
    "        nc_h.Fill(row[\"t_nuEnergy\"], row[\"numu_nc_res_e\"], frac_numu)\n",
    "    elif cat == 14:\n",
    "        numu_nc_dis_h.Fill(row[\"t_nuEnergy\"], row[\"numu_nc_dis_e\"])\n",
    "        numu_nc_h.Fill(row[\"t_nuEnergy\"], row[\"numu_nc_dis_e\"])\n",
    "        nc_h.Fill(row[\"t_nuEnergy\"], row[\"numu_nc_dis_e\"], frac_numu)\n",
    "\n",
    "events.apply(fill_plots, axis=1)"
   ]
  },
  {
   "cell_type": "code",
   "execution_count": 9,
   "metadata": {},
   "outputs": [],
   "source": [
    "hists = []\n",
    "hists.append(nuel_cc_qel_h)\n",
    "hists.append(nuel_cc_res_h)\n",
    "hists.append(nuel_cc_dis_h)\n",
    "hists.append(numu_cc_qel_h)\n",
    "hists.append(numu_cc_res_h)\n",
    "hists.append(numu_cc_dis_h)\n",
    "hists.append(nuel_nc_qel_h)\n",
    "hists.append(nuel_nc_res_h)\n",
    "hists.append(nuel_nc_dis_h)\n",
    "hists.append(numu_nc_qel_h)\n",
    "hists.append(numu_nc_res_h)\n",
    "hists.append(numu_nc_dis_h)\n",
    "hists.append(nuel_cc_nqel_h)\n",
    "hists.append(numu_cc_nqel_h)\n",
    "hists.append(nuel_cc_h)\n",
    "hists.append(numu_cc_h)\n",
    "hists.append(nuel_nc_h)\n",
    "hists.append(numu_nc_h)\n",
    "hists.append(nc_h)\n",
    "\n",
    "for hist in hists:\n",
    "    for i in range(40):\n",
    "        column_total = 0\n",
    "        for j in range(40):\n",
    "            column_total += hist.GetBinContent(i, j)\n",
    "    \n",
    "        for j in range(40):\n",
    "            content = hist.GetBinContent(i, j)\n",
    "            if content != 0:\n",
    "                hist.SetBinContent(i, j, (content/column_total))     "
   ]
  },
  {
   "cell_type": "code",
   "execution_count": 10,
   "metadata": {},
   "outputs": [
    {
     "name": "stderr",
     "output_type": "stream",
     "text": [
      "Warning in <TCanvas::Constructor>: Deleting canvas with same name: test\n"
     ]
    },
    {
     "data": {
      "image/png": "[encoded data removed]",
      "text/plain": [
       "<IPython.core.display.Image object>"
      ]
     },
     "metadata": {},
     "output_type": "display_data"
    }
   ],
   "source": [
    "c = ROOT.TCanvas(\"test\", 'test', 800, 600)\n",
    "c.SetLogz()\n",
    "hists[0].Draw(\"COLZ\")\n",
    "c.Draw()"
   ]
  },
  {
   "cell_type": "code",
   "execution_count": 17,
   "metadata": {},
   "outputs": [],
   "source": [
    "for hist in hists:\n",
    "    with open(\"smearing/\" + hist.GetName() + \".dat\",'w',encoding = 'utf-8') as f:\n",
    "        f.write(\"energy(#\" + hist.GetName() + \")<\\n\")\n",
    "        f.write(\"@energy =\\n\")\n",
    "        for i in range(40):\n",
    "            f.write(\"{0, 40, \")\n",
    "            for j in range(40):\n",
    "                if j is 39:\n",
    "                    f.write(str.format('{0:.5f}', hist.GetBinContent(j, i)))\n",
    "                else:\n",
    "                    f.write(str.format('{0:.5f}, ', hist.GetBinContent(j, i)))\n",
    "            f.write(\"}:\\n\")\n",
    "        f.write(\">\\n\")"
   ]
  },
  {
   "cell_type": "code",
   "execution_count": 10,
   "metadata": {},
   "outputs": [],
   "source": [
    "def true_reco_frac(row):\n",
    "    return (row[\"true_nuEnergy\"]-row[\"pred_nuEnergy\"])/row[\"true_nuEnergy\"]\n",
    "\n",
    "evaluator.events['true_reco_frac_nuEnergy'] = evaluator.events.apply(true_reco_frac, axis=1)\n",
    "selection['true_reco_frac_nuEnergy'] = selection.apply(true_reco_frac, axis=1)"
   ]
  },
  {
   "cell_type": "code",
   "execution_count": 11,
   "metadata": {},
   "outputs": [
    {
     "data": {
      "text/plain": [
       "<Figure size 1152x720 with 0 Axes>"
      ]
     },
     "metadata": {},
     "output_type": "display_data"
    },
    {
     "data": {
      "image/png": "[encoded data removed]",
      "text/plain": [
       "<Figure size 432x288 with 1 Axes>"
      ]
     },
     "metadata": {
      "needs_background": "light"
     },
     "output_type": "display_data"
    }
   ],
   "source": [
    "plt.figure(figsize=(16,10))\n",
    "evaluator.events.hist(column='true_reco_frac_nuEnergy', bins=50, range=[-0.3,0.4])\n",
    "plt.show()"
   ]
  },
  {
   "cell_type": "code",
   "execution_count": 12,
   "metadata": {},
   "outputs": [
    {
     "data": {
      "text/plain": [
       "<Figure size 1152x720 with 0 Axes>"
      ]
     },
     "metadata": {},
     "output_type": "display_data"
    },
    {
     "data": {
      "image/png": "[encoded data removed]",
      "text/plain": [
       "<Figure size 432x288 with 1 Axes>"
      ]
     },
     "metadata": {
      "needs_background": "light"
     },
     "output_type": "display_data"
    }
   ],
   "source": [
    "plt.figure(figsize=(16,10))\n",
    "selection.hist(column='true_reco_frac_nuEnergy', bins=50, range=[-0.3,0.4])\n",
    "plt.show()"
   ]
  },
  {
   "cell_type": "code",
   "execution_count": 13,
   "metadata": {},
   "outputs": [],
   "source": [
    "from scipy.stats import norm\n",
    "std_list = []\n",
    "e_list = []\n",
    "for energy in range(500,5000,500):\n",
    "    upper = energy + 500\n",
    "    subset = selection[(selection[\"true_nuEnergy\"] >= energy)]\n",
    "    subset = subset[(selection[\"true_nuEnergy\"] <= upper)]\n",
    "    mu, std = norm.fit(subset['true_reco_frac_nuEnergy'])\n",
    "    std_list.append(std)\n",
    "    e_list.append(energy+250)"
   ]
  },
  {
   "cell_type": "code",
   "execution_count": 16,
   "metadata": {},
   "outputs": [
    {
     "data": {
      "image/png": "[encoded data removed]",
      "text/plain": [
       "<Figure size 1152x720 with 1 Axes>"
      ]
     },
     "metadata": {
      "needs_background": "light"
     },
     "output_type": "display_data"
    }
   ],
   "source": [
    "plt.figure(figsize=(16,10))\n",
    "plt.plot(e_list, std_list)\n",
    "plt.xlabel(\"True Neutrino Energy (MeV)\")\n",
    "plt.ylabel(\"(True-Reco)/True Neutrino Energy\")\n",
    "plt.xlim(500, 5000)\n",
    "plt.ylim(0, 1)\n",
    "plt.show()"
   ]
  },
  {
   "cell_type": "code",
   "execution_count": 15,
   "metadata": {},
   "outputs": [
    {
     "name": "stdout",
     "output_type": "stream",
     "text": [
      "[750, 1250, 1750, 2250, 2750, 3250, 3750, 4250, 4750]\n",
      "[0.5726357609312007, 0.5313419612334652, 0.4118199289891605, 0.3034171423668263, 0.2299670917820593, 0.18774670381826875, 0.1739888969833453, 0.1739273890513692, 0.18452421432251642]\n"
     ]
    }
   ],
   "source": [
    "print(e_list)\n",
    "print(std_list)"
   ]
  },
  {
   "cell_type": "markdown",
   "metadata": {},
   "source": [
    "energy(#nue_qe)<\n",
    "@energy =\n",
    "{0, 22, 0.5, 0.942308, 0.857143, 0.956522, 0.516667, 0.227907, 0.109718, 0.043956, 0.0741688, 0.0187668, 0.0257143, 0.00310559, 0.0237154, 0.0243902, 0.0106952, 0.0234375, 0.0227273, 0.0175439, 0, 0, 0.0357143, 0, 0}:\n",
    "{0, 22, 0, 0.0192308, 0, 0.0434783, 0.45, 0.683721, 0.46395, 0.252747, 0.104859, 0.077748, 0.0285714, 0.0310559, 0.0158103, 0.00487805, 0.00534759, 0.0078125, 0.0340909, 0.0175439, 0, 0, 0, 0, 0}:\n",
    "{0, 22, 0, 0.0192308, 0, 0, 0.0166667, 0.0883721, 0.410658, 0.596154, 0.450128, 0.235925, 0.131429, 0.0745342, 0.0316206, 0.0341463, 0.0213904, 0.0234375, 0.0227273, 0.0175439, 0.04, 0, 0, 0, 0}:\n",
    "{0, 22, 0.166667, 0, 0, 0, 0, 0, 0.00940439, 0.104396, 0.358056, 0.565684, 0.42, 0.248447, 0.102767, 0.0926829, 0.0213904, 0.0390625, 0.0227273, 0.0175439, 0, 0, 0.0357143, 0, 0}:\n",
    "{0, 22, 0.166667, 0.0192308, 0.142857, 0, 0.00833333, 0, 0.00626959, 0.00274725, 0.00767263, 0.0938338, 0.368571, 0.481366, 0.403162, 0.170732, 0.13369, 0.03125, 0, 0, 0.04, 0, 0, 0, 0}:\n",
    "{0, 22, 0.166667, 0, 0, 0, 0.00833333, 0, 0, 0, 0.00255754, 0.00268097, 0.0228571, 0.158385, 0.395257, 0.502439, 0.406417, 0.101562, 0.102273, 0.0350877, 0, 0, 0, 0, 0}:\n",
    "{0, 22, 0, 0, 0, 0, 0, 0, 0, 0, 0, 0.00268097, 0, 0.00310559, 0.0237154, 0.160976, 0.342246, 0.53125, 0.352273, 0.192982, 0.08, 0, 0.0357143, 0, 0}:\n",
    "{0, 22, 0, 0, 0, 0, 0, 0, 0, 0, 0, 0.00268097, 0, 0, 0.00395257, 0.00487805, 0.0534759, 0.234375, 0.340909, 0.45614, 0.36, 0.214286, 0.0357143, 0, 0}:\n",
    "{0, 22, 0, 0, 0, 0, 0, 0, 0, 0, 0.00255754, 0, 0.00285714, 0, 0, 0.00487805, 0.00534759, 0.0078125, 0.102273, 0.245614, 0.48, 0.785714, 0.857143, 0, 0};\n",
    ">"
   ]
  },
  {
   "cell_type": "code",
   "execution_count": null,
   "metadata": {},
   "outputs": [],
   "source": []
  }
 ],
 "metadata": {
  "kernelspec": {
   "display_name": "Python 3",
   "language": "python",
   "name": "python3"
  },
  "language_info": {
   "codemirror_mode": {
    "name": "ipython",
    "version": 3
   },
   "file_extension": ".py",
   "mimetype": "text/x-python",
   "name": "python",
   "nbconvert_exporter": "python",
   "pygments_lexer": "ipython3",
   "version": "3.8.2"
  }
 },
 "nbformat": 4,
 "nbformat_minor": 4
}
