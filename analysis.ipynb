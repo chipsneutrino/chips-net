{
 "cells": [
  {
   "cell_type": "markdown",
   "metadata": {},
   "source": [
    "# chips-net analysis\n",
    "\n",
    "This notebook contains the full analysis of chipsnet showing the full path taken to the final version...\n",
    "\n",
    "## Finding the best models\n",
    "- [x] [Exploring the data](#explore)\n",
    "- [x] [Which image representation is best?](#repr)\n",
    "- [x] [Which channel configuration is best?](#channel)\n",
    "- [x] [Which training sample is best?](#sample)\n",
    "- [x] [Which categorisation is best?](#cat)\n",
    "- [x] [Does vertex help cosmic classifier?](#cosmic)\n",
    "- [x] [Does primary count help beam classifier?](#beam)\n",
    "- [x] [Does lepton energy help neutrino energy estimation?](#energy)\n",
    "- [x] [Different sample energy estimation](#energy_samples)\n",
    "- [ ] [Final performance and comparison with old reco/pid](#final)\n",
    "\n",
    "## Explainability and resilience\n",
    "- [ ] [Model calibration sensitivity: cosmic classification](#cosmic_calib)\n",
    "- [ ] [Model calibration sensitivity: beam classification](#beam_calib)\n",
    "- [ ] [Model calibration sensitivity: energy estimation](#energy_calib)\n",
    "- [ ] [Clustering: cosmic classification](#cosmic_cluster)\n",
    "- [ ] [Clustering: beam classification](#beam_cluster)\n",
    "- [ ] [Clustering: energy estimation](#energy_cluster)\n",
    "- [ ] [Explanation: cosmic classification](#cosmic_explain)\n",
    "- [ ] [Explanation: beam classification](#beam_explain)\n",
    "- [ ] [Explanation: energy estimation](#energy_explain)"
   ]
  },
  {
   "cell_type": "code",
   "execution_count": 1,
   "metadata": {
    "tags": [
     "parameters"
    ]
   },
   "outputs": [],
   "source": [
    "# Default input parameters for this notebook, they are overridden by 'papermill' at runtime if specified\n",
    "config_path = \"./config/analysis/eval.yaml\"\n",
    "save_path = \"./data/output/\"\n",
    "nuel_map_file = \"/unix/chips/jtingey/production/beam_all/nuel/map/chips_1200/selected_000_sim_map.root\"\n",
    "numu_map_file = \"/unix/chips/jtingey/production/beam_all/numu/map/chips_1200/selected_000_sim_map.root\"\n",
    "cosmic_map_file = \"/unix/chips/jtingey/production/cosmic_all/map/chips_1200/selected_000_sim_map.root\"\n",
    "total_flux_events = 3200000\n",
    "total_uniform_events = 2880000\n",
    "total_cosmic_events = 800000"
   ]
  },
  {
   "cell_type": "code",
   "execution_count": 2,
   "metadata": {},
   "outputs": [],
   "source": [
    "# Standard inports\n",
    "import os\n",
    "import logging\n",
    "import importlib\n",
    "\n",
    "import numpy as np\n",
    "import pandas as pd\n",
    "import matplotlib\n",
    "import matplotlib.pyplot as plt\n",
    "import matplotlib.patches as patches\n",
    "from sklearn.metrics import classification_report\n",
    "from sklearn.metrics import confusion_matrix\n",
    "import seaborn as sns\n",
    "import mplhep as hep\n",
    "import uproot\n",
    "\n",
    "# Setup Tensorflow with correct logging and GPU's for inference\n",
    "import tensorflow as tf\n",
    "os.environ['TF_CPP_MIN_LOG_LEVEL'] = '3'\n",
    "logging.disable(logging.CRITICAL)\n",
    "gpus = tf.config.list_physical_devices('GPU')\n",
    "if tf.config.list_physical_devices('GPU'):\n",
    "    try:  # Currently, memory growth needs to be the same across GPUs\n",
    "        for gpu in gpus:\n",
    "            tf.config.experimental.set_memory_growth(gpu, True)\n",
    "    except RuntimeError as e:  # Memory growth must be set before GPUs have been initialized\n",
    "        print(e)\n",
    "\n",
    "import chipsnet.config\n",
    "import chipsnet.data\n",
    "import chipsnet.models\n",
    "import chipsnet.utils\n",
    "import chipsnet.plotting\n",
    "\n",
    "# Setup matplotlib style using mplhep\n",
    "extra_styling = {\n",
    "    \"text.usetex\": True,\n",
    "    \"pgf.texsystem\": \"pdflatex\",\n",
    "    \"pgf.rcfonts\": False,\n",
    "    \"font.family\": \"serif\",\n",
    "    \"font.serif\": \"Computer Modern Roman\",\n",
    "    \"axes.xmargin\": 0\n",
    "}\n",
    "plt.style.use([hep.style.ROOT, extra_styling])"
   ]
  },
  {
   "cell_type": "code",
   "execution_count": 3,
   "metadata": {},
   "outputs": [],
   "source": [
    "# Reload method to import chipsnet modules on the fly if changes are made to them\n",
    "config = chipsnet.config.get(config_path)\n",
    "def reload():\n",
    "    importlib.reload(chipsnet.config)\n",
    "    importlib.reload(chipsnet.data)\n",
    "    importlib.reload(chipsnet.models)\n",
    "    importlib.reload(chipsnet.utils)\n",
    "    importlib.reload(chipsnet.plotting)\n",
    "    config = chipsnet.config.get(config_path)"
   ]
  },
  {
   "cell_type": "markdown",
   "metadata": {},
   "source": [
    "# Finding the best models"
   ]
  },
  {
   "cell_type": "markdown",
   "metadata": {},
   "source": [
    "<a id='explore'></a>"
   ]
  },
  {
   "cell_type": "markdown",
   "metadata": {},
   "source": [
    "## Exploring the data (explore)"
   ]
  },
  {
   "cell_type": "code",
   "execution_count": 4,
   "metadata": {},
   "outputs": [
    {
     "name": "stdout",
     "output_type": "stream",
     "text": [
      "\n",
      "************************ Evaluating both_cosmic ************************\n",
      "Weights: (81284,0.00048), (31589,0.00008), (80647,0.04158), (31080,0.00236), (31400,38.55726)\n",
      "Cuts:    (83555,0.98220), (81711,0.96096), (46076,0.84543), (7540,0.24013)\n"
     ]
    },
    {
     "ename": "KeyError",
     "evalue": "'beam_final_pred_t_nu_nc_cat_0'",
     "output_type": "error",
     "traceback": [
      "\u001b[0;31m---------------------------------------------------------------------------\u001b[0m",
      "\u001b[0;31mTypeError\u001b[0m                                 Traceback (most recent call last)",
      "\u001b[0;32m/mnt/storage/jtingey/chips-net/.conda/envs/chipsnet/lib/python3.8/site-packages/pandas/core/indexes/base.py\u001b[0m in \u001b[0;36mget_value\u001b[0;34m(self, series, key)\u001b[0m\n\u001b[1;32m   4410\u001b[0m             \u001b[0;32mtry\u001b[0m\u001b[0;34m:\u001b[0m\u001b[0;34m\u001b[0m\u001b[0;34m\u001b[0m\u001b[0m\n\u001b[0;32m-> 4411\u001b[0;31m                 \u001b[0;32mreturn\u001b[0m \u001b[0mlibindex\u001b[0m\u001b[0;34m.\u001b[0m\u001b[0mget_value_at\u001b[0m\u001b[0;34m(\u001b[0m\u001b[0ms\u001b[0m\u001b[0;34m,\u001b[0m \u001b[0mkey\u001b[0m\u001b[0;34m)\u001b[0m\u001b[0;34m\u001b[0m\u001b[0;34m\u001b[0m\u001b[0m\n\u001b[0m\u001b[1;32m   4412\u001b[0m             \u001b[0;32mexcept\u001b[0m \u001b[0mIndexError\u001b[0m\u001b[0;34m:\u001b[0m\u001b[0;34m\u001b[0m\u001b[0;34m\u001b[0m\u001b[0m\n",
      "\u001b[0;32mpandas/_libs/index.pyx\u001b[0m in \u001b[0;36mpandas._libs.index.get_value_at\u001b[0;34m()\u001b[0m\n",
      "\u001b[0;32mpandas/_libs/index.pyx\u001b[0m in \u001b[0;36mpandas._libs.index.get_value_at\u001b[0;34m()\u001b[0m\n",
      "\u001b[0;32mpandas/_libs/util.pxd\u001b[0m in \u001b[0;36mpandas._libs.util.get_value_at\u001b[0;34m()\u001b[0m\n",
      "\u001b[0;32mpandas/_libs/util.pxd\u001b[0m in \u001b[0;36mpandas._libs.util.validate_indexer\u001b[0;34m()\u001b[0m\n",
      "\u001b[0;31mTypeError\u001b[0m: 'str' object cannot be interpreted as an integer",
      "\nDuring handling of the above exception, another exception occurred:\n",
      "\u001b[0;31mKeyError\u001b[0m                                  Traceback (most recent call last)",
      "\u001b[0;32m<ipython-input-4-2e4e72a9cb25>\u001b[0m in \u001b[0;36m<module>\u001b[0;34m\u001b[0m\n\u001b[0;32m----> 1\u001b[0;31m \u001b[0mboth_ev\u001b[0m\u001b[0;34m,\u001b[0m \u001b[0mboth_out\u001b[0m \u001b[0;34m=\u001b[0m \u001b[0mchipsnet\u001b[0m\u001b[0;34m.\u001b[0m\u001b[0mutils\u001b[0m\u001b[0;34m.\u001b[0m\u001b[0mevaluate\u001b[0m\u001b[0;34m(\u001b[0m\u001b[0mconfig\u001b[0m\u001b[0;34m,\u001b[0m \u001b[0;34m\"both_cosmic\"\u001b[0m\u001b[0;34m)\u001b[0m\u001b[0;34m\u001b[0m\u001b[0;34m\u001b[0m\u001b[0m\n\u001b[0m\u001b[1;32m      2\u001b[0m \u001b[0mflux_ev\u001b[0m\u001b[0;34m,\u001b[0m \u001b[0mflux_out\u001b[0m \u001b[0;34m=\u001b[0m \u001b[0mchipsnet\u001b[0m\u001b[0;34m.\u001b[0m\u001b[0mutils\u001b[0m\u001b[0;34m.\u001b[0m\u001b[0mevaluate\u001b[0m\u001b[0;34m(\u001b[0m\u001b[0mconfig\u001b[0m\u001b[0;34m,\u001b[0m \u001b[0;34m\"flux_cosmic\"\u001b[0m\u001b[0;34m)\u001b[0m\u001b[0;34m\u001b[0m\u001b[0;34m\u001b[0m\u001b[0m\n\u001b[1;32m      3\u001b[0m \u001b[0muniform_ev\u001b[0m\u001b[0;34m,\u001b[0m \u001b[0muniform_out\u001b[0m \u001b[0;34m=\u001b[0m \u001b[0mchipsnet\u001b[0m\u001b[0;34m.\u001b[0m\u001b[0mutils\u001b[0m\u001b[0;34m.\u001b[0m\u001b[0mevaluate\u001b[0m\u001b[0;34m(\u001b[0m\u001b[0mconfig\u001b[0m\u001b[0;34m,\u001b[0m \u001b[0;34m\"uniform_cosmic\"\u001b[0m\u001b[0;34m)\u001b[0m\u001b[0;34m\u001b[0m\u001b[0;34m\u001b[0m\u001b[0m\n",
      "\u001b[0;32m/mnt/storage/jtingey/chips-net/chipsnet/utils.py\u001b[0m in \u001b[0;36mevaluate\u001b[0;34m(config, data_name, m_names, m_cats)\u001b[0m\n\u001b[1;32m    176\u001b[0m \u001b[0;34m\u001b[0m\u001b[0m\n\u001b[1;32m    177\u001b[0m         \u001b[0;31m# Combine categories into fully combined ones\u001b[0m\u001b[0;34m\u001b[0m\u001b[0;34m\u001b[0m\u001b[0;34m\u001b[0m\u001b[0m\n\u001b[0;32m--> 178\u001b[0;31m         \u001b[0mevents\u001b[0m \u001b[0;34m=\u001b[0m \u001b[0mfull_comb_combine\u001b[0m\u001b[0;34m(\u001b[0m\u001b[0mevents\u001b[0m\u001b[0;34m,\u001b[0m \u001b[0mm_cat\u001b[0m\u001b[0;34m,\u001b[0m \u001b[0mprefix\u001b[0m\u001b[0;34m=\u001b[0m\u001b[0mm_name\u001b[0m \u001b[0;34m+\u001b[0m \u001b[0;34m\"_\"\u001b[0m\u001b[0;34m)\u001b[0m\u001b[0;34m\u001b[0m\u001b[0;34m\u001b[0m\u001b[0m\n\u001b[0m\u001b[1;32m    179\u001b[0m \u001b[0;34m\u001b[0m\u001b[0m\n\u001b[1;32m    180\u001b[0m         \u001b[0;31m# Run classification and print report\u001b[0m\u001b[0;34m\u001b[0m\u001b[0;34m\u001b[0m\u001b[0;34m\u001b[0m\u001b[0m\n",
      "\u001b[0;32m/mnt/storage/jtingey/chips-net/chipsnet/utils.py\u001b[0m in \u001b[0;36mfull_comb_combine\u001b[0;34m(events, map_type, prefix)\u001b[0m\n\u001b[1;32m    531\u001b[0m     \u001b[0;32melif\u001b[0m \u001b[0mmap_type\u001b[0m \u001b[0;34m==\u001b[0m \u001b[0;34m\"t_nu_nc_cat\"\u001b[0m\u001b[0;34m:\u001b[0m\u001b[0;34m\u001b[0m\u001b[0;34m\u001b[0m\u001b[0m\n\u001b[1;32m    532\u001b[0m         \u001b[0mapply_prefix\u001b[0m \u001b[0;34m=\u001b[0m \u001b[0mprefix\u001b[0m \u001b[0;34m+\u001b[0m \u001b[0;34m\"pred_t_nu_nc_cat_\"\u001b[0m\u001b[0;34m\u001b[0m\u001b[0;34m\u001b[0m\u001b[0m\n\u001b[0;32m--> 533\u001b[0;31m         \u001b[0mevents\u001b[0m\u001b[0;34m[\u001b[0m\u001b[0;34m\"scores\"\u001b[0m\u001b[0;34m]\u001b[0m \u001b[0;34m=\u001b[0m \u001b[0mevents\u001b[0m\u001b[0;34m.\u001b[0m\u001b[0mapply\u001b[0m\u001b[0;34m(\u001b[0m\u001b[0mnu_nc_comb_apply\u001b[0m\u001b[0;34m,\u001b[0m \u001b[0maxis\u001b[0m\u001b[0;34m=\u001b[0m\u001b[0;36m1\u001b[0m\u001b[0;34m,\u001b[0m \u001b[0margs\u001b[0m\u001b[0;34m=\u001b[0m\u001b[0;34m(\u001b[0m\u001b[0mapply_prefix\u001b[0m\u001b[0;34m,\u001b[0m\u001b[0;34m)\u001b[0m\u001b[0;34m)\u001b[0m\u001b[0;34m\u001b[0m\u001b[0;34m\u001b[0m\u001b[0m\n\u001b[0m\u001b[1;32m    534\u001b[0m     \u001b[0;32melif\u001b[0m \u001b[0mmap_type\u001b[0m \u001b[0;34m==\u001b[0m \u001b[0;34m\"t_nc_cat\"\u001b[0m\u001b[0;34m:\u001b[0m\u001b[0;34m\u001b[0m\u001b[0;34m\u001b[0m\u001b[0m\n\u001b[1;32m    535\u001b[0m         \u001b[0mapply_prefix\u001b[0m \u001b[0;34m=\u001b[0m \u001b[0mprefix\u001b[0m \u001b[0;34m+\u001b[0m \u001b[0;34m\"pred_t_nc_cat_\"\u001b[0m\u001b[0;34m\u001b[0m\u001b[0;34m\u001b[0m\u001b[0m\n",
      "\u001b[0;32m/mnt/storage/jtingey/chips-net/.conda/envs/chipsnet/lib/python3.8/site-packages/pandas/core/frame.py\u001b[0m in \u001b[0;36mapply\u001b[0;34m(self, func, axis, raw, result_type, args, **kwds)\u001b[0m\n\u001b[1;32m   6876\u001b[0m             \u001b[0mkwds\u001b[0m\u001b[0;34m=\u001b[0m\u001b[0mkwds\u001b[0m\u001b[0;34m,\u001b[0m\u001b[0;34m\u001b[0m\u001b[0;34m\u001b[0m\u001b[0m\n\u001b[1;32m   6877\u001b[0m         )\n\u001b[0;32m-> 6878\u001b[0;31m         \u001b[0;32mreturn\u001b[0m \u001b[0mop\u001b[0m\u001b[0;34m.\u001b[0m\u001b[0mget_result\u001b[0m\u001b[0;34m(\u001b[0m\u001b[0;34m)\u001b[0m\u001b[0;34m\u001b[0m\u001b[0;34m\u001b[0m\u001b[0m\n\u001b[0m\u001b[1;32m   6879\u001b[0m \u001b[0;34m\u001b[0m\u001b[0m\n\u001b[1;32m   6880\u001b[0m     \u001b[0;32mdef\u001b[0m \u001b[0mapplymap\u001b[0m\u001b[0;34m(\u001b[0m\u001b[0mself\u001b[0m\u001b[0;34m,\u001b[0m \u001b[0mfunc\u001b[0m\u001b[0;34m)\u001b[0m \u001b[0;34m->\u001b[0m \u001b[0;34m\"DataFrame\"\u001b[0m\u001b[0;34m:\u001b[0m\u001b[0;34m\u001b[0m\u001b[0;34m\u001b[0m\u001b[0m\n",
      "\u001b[0;32m/mnt/storage/jtingey/chips-net/.conda/envs/chipsnet/lib/python3.8/site-packages/pandas/core/apply.py\u001b[0m in \u001b[0;36mget_result\u001b[0;34m(self)\u001b[0m\n\u001b[1;32m    184\u001b[0m             \u001b[0;32mreturn\u001b[0m \u001b[0mself\u001b[0m\u001b[0;34m.\u001b[0m\u001b[0mapply_raw\u001b[0m\u001b[0;34m(\u001b[0m\u001b[0;34m)\u001b[0m\u001b[0;34m\u001b[0m\u001b[0;34m\u001b[0m\u001b[0m\n\u001b[1;32m    185\u001b[0m \u001b[0;34m\u001b[0m\u001b[0m\n\u001b[0;32m--> 186\u001b[0;31m         \u001b[0;32mreturn\u001b[0m \u001b[0mself\u001b[0m\u001b[0;34m.\u001b[0m\u001b[0mapply_standard\u001b[0m\u001b[0;34m(\u001b[0m\u001b[0;34m)\u001b[0m\u001b[0;34m\u001b[0m\u001b[0;34m\u001b[0m\u001b[0m\n\u001b[0m\u001b[1;32m    187\u001b[0m \u001b[0;34m\u001b[0m\u001b[0m\n\u001b[1;32m    188\u001b[0m     \u001b[0;32mdef\u001b[0m \u001b[0mapply_empty_result\u001b[0m\u001b[0;34m(\u001b[0m\u001b[0mself\u001b[0m\u001b[0;34m)\u001b[0m\u001b[0;34m:\u001b[0m\u001b[0;34m\u001b[0m\u001b[0;34m\u001b[0m\u001b[0m\n",
      "\u001b[0;32m/mnt/storage/jtingey/chips-net/.conda/envs/chipsnet/lib/python3.8/site-packages/pandas/core/apply.py\u001b[0m in \u001b[0;36mapply_standard\u001b[0;34m(self)\u001b[0m\n\u001b[1;32m    293\u001b[0m \u001b[0;34m\u001b[0m\u001b[0m\n\u001b[1;32m    294\u001b[0m             \u001b[0;32mtry\u001b[0m\u001b[0;34m:\u001b[0m\u001b[0;34m\u001b[0m\u001b[0;34m\u001b[0m\u001b[0m\n\u001b[0;32m--> 295\u001b[0;31m                 result = libreduction.compute_reduction(\n\u001b[0m\u001b[1;32m    296\u001b[0m                     \u001b[0mvalues\u001b[0m\u001b[0;34m,\u001b[0m \u001b[0mself\u001b[0m\u001b[0;34m.\u001b[0m\u001b[0mf\u001b[0m\u001b[0;34m,\u001b[0m \u001b[0maxis\u001b[0m\u001b[0;34m=\u001b[0m\u001b[0mself\u001b[0m\u001b[0;34m.\u001b[0m\u001b[0maxis\u001b[0m\u001b[0;34m,\u001b[0m \u001b[0mdummy\u001b[0m\u001b[0;34m=\u001b[0m\u001b[0mdummy\u001b[0m\u001b[0;34m,\u001b[0m \u001b[0mlabels\u001b[0m\u001b[0;34m=\u001b[0m\u001b[0mlabels\u001b[0m\u001b[0;34m\u001b[0m\u001b[0;34m\u001b[0m\u001b[0m\n\u001b[1;32m    297\u001b[0m                 )\n",
      "\u001b[0;32mpandas/_libs/reduction.pyx\u001b[0m in \u001b[0;36mpandas._libs.reduction.compute_reduction\u001b[0;34m()\u001b[0m\n",
      "\u001b[0;32mpandas/_libs/reduction.pyx\u001b[0m in \u001b[0;36mpandas._libs.reduction.Reducer.get_result\u001b[0;34m()\u001b[0m\n",
      "\u001b[0;32m/mnt/storage/jtingey/chips-net/.conda/envs/chipsnet/lib/python3.8/site-packages/pandas/core/apply.py\u001b[0m in \u001b[0;36mf\u001b[0;34m(x)\u001b[0m\n\u001b[1;32m    111\u001b[0m \u001b[0;34m\u001b[0m\u001b[0m\n\u001b[1;32m    112\u001b[0m             \u001b[0;32mdef\u001b[0m \u001b[0mf\u001b[0m\u001b[0;34m(\u001b[0m\u001b[0mx\u001b[0m\u001b[0;34m)\u001b[0m\u001b[0;34m:\u001b[0m\u001b[0;34m\u001b[0m\u001b[0;34m\u001b[0m\u001b[0m\n\u001b[0;32m--> 113\u001b[0;31m                 \u001b[0;32mreturn\u001b[0m \u001b[0mfunc\u001b[0m\u001b[0;34m(\u001b[0m\u001b[0mx\u001b[0m\u001b[0;34m,\u001b[0m \u001b[0;34m*\u001b[0m\u001b[0margs\u001b[0m\u001b[0;34m,\u001b[0m \u001b[0;34m**\u001b[0m\u001b[0mkwds\u001b[0m\u001b[0;34m)\u001b[0m\u001b[0;34m\u001b[0m\u001b[0;34m\u001b[0m\u001b[0m\n\u001b[0m\u001b[1;32m    114\u001b[0m \u001b[0;34m\u001b[0m\u001b[0m\n\u001b[1;32m    115\u001b[0m         \u001b[0;32melse\u001b[0m\u001b[0;34m:\u001b[0m\u001b[0;34m\u001b[0m\u001b[0;34m\u001b[0m\u001b[0m\n",
      "\u001b[0;32m/mnt/storage/jtingey/chips-net/chipsnet/utils.py\u001b[0m in \u001b[0;36mnu_nc_comb_apply\u001b[0;34m(event, apply_prefix)\u001b[0m\n\u001b[1;32m    488\u001b[0m         \u001b[0mnuel_cc_value\u001b[0m \u001b[0;34m=\u001b[0m \u001b[0;36m0.0\u001b[0m\u001b[0;34m\u001b[0m\u001b[0;34m\u001b[0m\u001b[0m\n\u001b[1;32m    489\u001b[0m         \u001b[0;32mfor\u001b[0m \u001b[0mcat\u001b[0m \u001b[0;32min\u001b[0m \u001b[0mnuel_cc_cats\u001b[0m\u001b[0;34m:\u001b[0m\u001b[0;34m\u001b[0m\u001b[0;34m\u001b[0m\u001b[0m\n\u001b[0;32m--> 490\u001b[0;31m             \u001b[0mnuel_cc_value\u001b[0m \u001b[0;34m=\u001b[0m \u001b[0mnuel_cc_value\u001b[0m \u001b[0;34m+\u001b[0m \u001b[0mevent\u001b[0m\u001b[0;34m[\u001b[0m\u001b[0mstr\u001b[0m\u001b[0;34m(\u001b[0m\u001b[0mapply_prefix\u001b[0m\u001b[0;34m)\u001b[0m \u001b[0;34m+\u001b[0m \u001b[0mstr\u001b[0m\u001b[0;34m(\u001b[0m\u001b[0mcat\u001b[0m\u001b[0;34m)\u001b[0m\u001b[0;34m]\u001b[0m\u001b[0;34m\u001b[0m\u001b[0;34m\u001b[0m\u001b[0m\n\u001b[0m\u001b[1;32m    491\u001b[0m \u001b[0;34m\u001b[0m\u001b[0m\n\u001b[1;32m    492\u001b[0m         \u001b[0mnumu_cc_cats\u001b[0m \u001b[0;34m=\u001b[0m \u001b[0;34m[\u001b[0m\u001b[0;36m6\u001b[0m\u001b[0;34m,\u001b[0m \u001b[0;36m7\u001b[0m\u001b[0;34m,\u001b[0m \u001b[0;36m8\u001b[0m\u001b[0;34m,\u001b[0m \u001b[0;36m9\u001b[0m\u001b[0;34m,\u001b[0m \u001b[0;36m10\u001b[0m\u001b[0;34m,\u001b[0m \u001b[0;36m11\u001b[0m\u001b[0;34m]\u001b[0m\u001b[0;34m\u001b[0m\u001b[0;34m\u001b[0m\u001b[0m\n",
      "\u001b[0;32m/mnt/storage/jtingey/chips-net/.conda/envs/chipsnet/lib/python3.8/site-packages/pandas/core/series.py\u001b[0m in \u001b[0;36m__getitem__\u001b[0;34m(self, key)\u001b[0m\n\u001b[1;32m    869\u001b[0m         \u001b[0mkey\u001b[0m \u001b[0;34m=\u001b[0m \u001b[0mcom\u001b[0m\u001b[0;34m.\u001b[0m\u001b[0mapply_if_callable\u001b[0m\u001b[0;34m(\u001b[0m\u001b[0mkey\u001b[0m\u001b[0;34m,\u001b[0m \u001b[0mself\u001b[0m\u001b[0;34m)\u001b[0m\u001b[0;34m\u001b[0m\u001b[0;34m\u001b[0m\u001b[0m\n\u001b[1;32m    870\u001b[0m         \u001b[0;32mtry\u001b[0m\u001b[0;34m:\u001b[0m\u001b[0;34m\u001b[0m\u001b[0;34m\u001b[0m\u001b[0m\n\u001b[0;32m--> 871\u001b[0;31m             \u001b[0mresult\u001b[0m \u001b[0;34m=\u001b[0m \u001b[0mself\u001b[0m\u001b[0;34m.\u001b[0m\u001b[0mindex\u001b[0m\u001b[0;34m.\u001b[0m\u001b[0mget_value\u001b[0m\u001b[0;34m(\u001b[0m\u001b[0mself\u001b[0m\u001b[0;34m,\u001b[0m \u001b[0mkey\u001b[0m\u001b[0;34m)\u001b[0m\u001b[0;34m\u001b[0m\u001b[0;34m\u001b[0m\u001b[0m\n\u001b[0m\u001b[1;32m    872\u001b[0m \u001b[0;34m\u001b[0m\u001b[0m\n\u001b[1;32m    873\u001b[0m             \u001b[0;32mif\u001b[0m \u001b[0;32mnot\u001b[0m \u001b[0mis_scalar\u001b[0m\u001b[0;34m(\u001b[0m\u001b[0mresult\u001b[0m\u001b[0;34m)\u001b[0m\u001b[0;34m:\u001b[0m\u001b[0;34m\u001b[0m\u001b[0;34m\u001b[0m\u001b[0m\n",
      "\u001b[0;32m/mnt/storage/jtingey/chips-net/.conda/envs/chipsnet/lib/python3.8/site-packages/pandas/core/indexes/base.py\u001b[0m in \u001b[0;36mget_value\u001b[0;34m(self, series, key)\u001b[0m\n\u001b[1;32m   4417\u001b[0m                     \u001b[0;32mraise\u001b[0m \u001b[0mInvalidIndexError\u001b[0m\u001b[0;34m(\u001b[0m\u001b[0mkey\u001b[0m\u001b[0;34m)\u001b[0m\u001b[0;34m\u001b[0m\u001b[0;34m\u001b[0m\u001b[0m\n\u001b[1;32m   4418\u001b[0m                 \u001b[0;32melse\u001b[0m\u001b[0;34m:\u001b[0m\u001b[0;34m\u001b[0m\u001b[0;34m\u001b[0m\u001b[0m\n\u001b[0;32m-> 4419\u001b[0;31m                     \u001b[0;32mraise\u001b[0m \u001b[0me1\u001b[0m\u001b[0;34m\u001b[0m\u001b[0;34m\u001b[0m\u001b[0m\n\u001b[0m\u001b[1;32m   4420\u001b[0m             \u001b[0;32mexcept\u001b[0m \u001b[0mException\u001b[0m\u001b[0;34m:\u001b[0m\u001b[0;34m\u001b[0m\u001b[0;34m\u001b[0m\u001b[0m\n\u001b[1;32m   4421\u001b[0m                 \u001b[0;32mraise\u001b[0m \u001b[0me1\u001b[0m\u001b[0;34m\u001b[0m\u001b[0;34m\u001b[0m\u001b[0m\n",
      "\u001b[0;32m/mnt/storage/jtingey/chips-net/.conda/envs/chipsnet/lib/python3.8/site-packages/pandas/core/indexes/base.py\u001b[0m in \u001b[0;36mget_value\u001b[0;34m(self, series, key)\u001b[0m\n\u001b[1;32m   4403\u001b[0m         \u001b[0mk\u001b[0m \u001b[0;34m=\u001b[0m \u001b[0mself\u001b[0m\u001b[0;34m.\u001b[0m\u001b[0m_convert_scalar_indexer\u001b[0m\u001b[0;34m(\u001b[0m\u001b[0mk\u001b[0m\u001b[0;34m,\u001b[0m \u001b[0mkind\u001b[0m\u001b[0;34m=\u001b[0m\u001b[0;34m\"getitem\"\u001b[0m\u001b[0;34m)\u001b[0m\u001b[0;34m\u001b[0m\u001b[0;34m\u001b[0m\u001b[0m\n\u001b[1;32m   4404\u001b[0m         \u001b[0;32mtry\u001b[0m\u001b[0;34m:\u001b[0m\u001b[0;34m\u001b[0m\u001b[0;34m\u001b[0m\u001b[0m\n\u001b[0;32m-> 4405\u001b[0;31m             \u001b[0;32mreturn\u001b[0m \u001b[0mself\u001b[0m\u001b[0;34m.\u001b[0m\u001b[0m_engine\u001b[0m\u001b[0;34m.\u001b[0m\u001b[0mget_value\u001b[0m\u001b[0;34m(\u001b[0m\u001b[0ms\u001b[0m\u001b[0;34m,\u001b[0m \u001b[0mk\u001b[0m\u001b[0;34m,\u001b[0m \u001b[0mtz\u001b[0m\u001b[0;34m=\u001b[0m\u001b[0mgetattr\u001b[0m\u001b[0;34m(\u001b[0m\u001b[0mseries\u001b[0m\u001b[0;34m.\u001b[0m\u001b[0mdtype\u001b[0m\u001b[0;34m,\u001b[0m \u001b[0;34m\"tz\"\u001b[0m\u001b[0;34m,\u001b[0m \u001b[0;32mNone\u001b[0m\u001b[0;34m)\u001b[0m\u001b[0;34m)\u001b[0m\u001b[0;34m\u001b[0m\u001b[0;34m\u001b[0m\u001b[0m\n\u001b[0m\u001b[1;32m   4406\u001b[0m         \u001b[0;32mexcept\u001b[0m \u001b[0mKeyError\u001b[0m \u001b[0;32mas\u001b[0m \u001b[0me1\u001b[0m\u001b[0;34m:\u001b[0m\u001b[0;34m\u001b[0m\u001b[0;34m\u001b[0m\u001b[0m\n\u001b[1;32m   4407\u001b[0m             \u001b[0;32mif\u001b[0m \u001b[0mlen\u001b[0m\u001b[0;34m(\u001b[0m\u001b[0mself\u001b[0m\u001b[0;34m)\u001b[0m \u001b[0;34m>\u001b[0m \u001b[0;36m0\u001b[0m \u001b[0;32mand\u001b[0m \u001b[0;34m(\u001b[0m\u001b[0mself\u001b[0m\u001b[0;34m.\u001b[0m\u001b[0mholds_integer\u001b[0m\u001b[0;34m(\u001b[0m\u001b[0;34m)\u001b[0m \u001b[0;32mor\u001b[0m \u001b[0mself\u001b[0m\u001b[0;34m.\u001b[0m\u001b[0mis_boolean\u001b[0m\u001b[0;34m(\u001b[0m\u001b[0;34m)\u001b[0m\u001b[0;34m)\u001b[0m\u001b[0;34m:\u001b[0m\u001b[0;34m\u001b[0m\u001b[0;34m\u001b[0m\u001b[0m\n",
      "\u001b[0;32mpandas/_libs/index.pyx\u001b[0m in \u001b[0;36mpandas._libs.index.IndexEngine.get_value\u001b[0;34m()\u001b[0m\n",
      "\u001b[0;32mpandas/_libs/index.pyx\u001b[0m in \u001b[0;36mpandas._libs.index.IndexEngine.get_value\u001b[0;34m()\u001b[0m\n",
      "\u001b[0;32mpandas/_libs/index.pyx\u001b[0m in \u001b[0;36mpandas._libs.index.IndexEngine.get_loc\u001b[0;34m()\u001b[0m\n",
      "\u001b[0;32mpandas/_libs/hashtable_class_helper.pxi\u001b[0m in \u001b[0;36mpandas._libs.hashtable.PyObjectHashTable.get_item\u001b[0;34m()\u001b[0m\n",
      "\u001b[0;32mpandas/_libs/hashtable_class_helper.pxi\u001b[0m in \u001b[0;36mpandas._libs.hashtable.PyObjectHashTable.get_item\u001b[0;34m()\u001b[0m\n",
      "\u001b[0;31mKeyError\u001b[0m: 'beam_final_pred_t_nu_nc_cat_0'"
     ]
    }
   ],
   "source": [
    "both_ev, both_out = chipsnet.utils.evaluate(config, \"both_cosmic\")\n",
    "flux_ev, flux_out = chipsnet.utils.evaluate(config, \"flux_cosmic\")\n",
    "uniform_ev, uniform_out = chipsnet.utils.evaluate(config, \"uniform_cosmic\")"
   ]
  },
  {
   "cell_type": "code",
   "execution_count": null,
   "metadata": {},
   "outputs": [],
   "source": [
    "fig, axs = plt.subplots(1, 1, figsize=(18, 5), gridspec_kw={'hspace': 0.3})\n",
    "cats = np.arange(5)\n",
    "axs.bar(\n",
    "    cats, \n",
    "    [len(both_ev[(both_ev.t_nu_type == 0) & (both_ev.t_sign_type == 0) & (both_ev.t_cosmic_cat == 0)]), \n",
    "     len(both_ev[(both_ev.t_nu_type == 0) & (both_ev.t_sign_type == 1) & (both_ev.t_cosmic_cat == 0)]), \n",
    "     len(both_ev[(both_ev.t_nu_type == 1) & (both_ev.t_sign_type == 0) & (both_ev.t_cosmic_cat == 0)]), \n",
    "     len(both_ev[(both_ev.t_nu_type == 1) & (both_ev.t_sign_type == 1) & (both_ev.t_cosmic_cat == 0)]), \n",
    "     len(both_ev[both_ev.t_cosmic_cat == 1])],\n",
    "    color=\"firebrick\")\n",
    "axs.set_xticks(cats)\n",
    "axs.set_xticklabels(('$\\\\nu_{e}$', '$\\\\bar{\\\\nu_{e}}$', '$\\\\nu_{\\mu}$', '$\\\\bar{\\\\nu_{\\mu}}$', 'cosmic muons'))\n",
    "axs.set_ylabel(\"Test events\")\n",
    "chipsnet.plotting.save(save_path + \"nu_types\")"
   ]
  },
  {
   "cell_type": "code",
   "execution_count": null,
   "metadata": {},
   "outputs": [],
   "source": [
    "def plot_training_sample(events, scale, save_name):\n",
    "    data = [\n",
    "        len(events[events[\"t_nu_nc_cat\"] == i])\n",
    "        for i in range(len(chipsnet.data.MAP_NU_NC_COMB_CAT[\"labels\"]))\n",
    "    ]\n",
    "    del data[16]\n",
    "    data = [x * scale for x in data]\n",
    "\n",
    "    labels = chipsnet.data.MAP_NU_NC_COMB_CAT[\"labels\"]\n",
    "    del labels[16]\n",
    "    cats = np.arange(len(labels))\n",
    "    width = 1\n",
    "\n",
    "    fig, axs = plt.subplots(1, 1, figsize=(12, 5), gridspec_kw={\"hspace\": 0.3})\n",
    "    axs.bar(cats, data, color=\"royalblue\", width=width, label=\"training sample\", edgecolor='black')\n",
    "    axs.set_xticks(cats)\n",
    "    axs.set_xticklabels(labels, fontsize=14, rotation=\"vertical\")\n",
    "    axs.set_ylabel(\"Training events\")\n",
    "    axs.set_yscale('log')\n",
    "    #axs.set_ylim(20e3, 10e5)\n",
    "    chipsnet.plotting.save(save_name)"
   ]
  },
  {
   "cell_type": "code",
   "execution_count": null,
   "metadata": {},
   "outputs": [],
   "source": [
    "plot_training_sample(both_ev, (total_flux_events+total_uniform_events+total_cosmic_events) / config.eval.examples, save_path + \"both_sample\")"
   ]
  },
  {
   "cell_type": "code",
   "execution_count": null,
   "metadata": {},
   "outputs": [],
   "source": [
    "plot_training_sample(flux_ev, (total_flux_events+total_cosmic_events) / config.eval.examples, save_path + \"flux_sample\")"
   ]
  },
  {
   "cell_type": "code",
   "execution_count": null,
   "metadata": {},
   "outputs": [],
   "source": [
    "plot_training_sample(uniform_ev, (total_uniform_events+total_cosmic_events) / config.eval.examples, save_path + \"uniform_sample\")"
   ]
  },
  {
   "cell_type": "code",
   "execution_count": null,
   "metadata": {},
   "outputs": [],
   "source": [
    "chipsnet.plotting.plot_cats(uniform_ev, flux_ev, chipsnet.data.MAP_INT_TYPE, save_path)"
   ]
  },
  {
   "cell_type": "code",
   "execution_count": null,
   "metadata": {},
   "outputs": [],
   "source": [
    "chipsnet.plotting.plot_cats(uniform_ev, flux_ev, chipsnet.data.MAP_ALL_CAT, save_path)"
   ]
  },
  {
   "cell_type": "code",
   "execution_count": null,
   "metadata": {},
   "outputs": [],
   "source": [
    "chipsnet.plotting.plot_cats(uniform_ev, flux_ev, chipsnet.data.MAP_FULL_COMB_CAT, save_path)"
   ]
  },
  {
   "cell_type": "code",
   "execution_count": null,
   "metadata": {},
   "outputs": [],
   "source": [
    "chipsnet.plotting.plot_cats(uniform_ev, flux_ev, chipsnet.data.MAP_NU_NC_COMB_CAT, save_path)"
   ]
  },
  {
   "cell_type": "code",
   "execution_count": null,
   "metadata": {},
   "outputs": [],
   "source": [
    "chipsnet.plotting.plot_cats(uniform_ev, flux_ev, chipsnet.data.MAP_NC_COMB_CAT, save_path)"
   ]
  },
  {
   "cell_type": "code",
   "execution_count": null,
   "metadata": {},
   "outputs": [],
   "source": [
    "line_g = matplotlib.lines.Line2D([], [], c='green')\n",
    "line_r = matplotlib.lines.Line2D([], [], c='red')\n",
    "\n",
    "fig, axs = plt.subplots(1, 3, figsize=(18, 5), gridspec_kw={'hspace': 0.3})\n",
    "axs[0].hist(flux_ev[\"t_vtx_x\"]/100, range=(-12.5, 12.5), bins=25, color='green', histtype='step')\n",
    "axs[0].hist(flux_ev[\"r_vtx_x\"]*1250/100, range=(-12.5, 12.5), bins=25, color='red', histtype='step')\n",
    "#axs[0].legend(loc=\"upper left\", handles=[line_g, line_r], labels=[\"true\", \"reco\"])\n",
    "axs[0].set_xlabel('Vertex x-position (m)', fontsize=20)\n",
    "axs[0].set_ylabel('Frequency', fontsize=20)\n",
    "\n",
    "axs[1].hist(flux_ev[\"t_vtx_y\"]/100, range=(-12.5, 12.5), bins=25, color='green', histtype='step')\n",
    "axs[1].hist(flux_ev[\"r_vtx_y\"]*1250/100, range=(-12.5, 12.5), bins=25, color='red', histtype='step')\n",
    "#axs[1].legend(loc=\"upper left\", handles=[line_g, line_r], labels=[\"true\", \"reco\"])\n",
    "axs[1].set_xlabel('Vertex y-position (m)', fontsize=20)\n",
    "\n",
    "axs[2].hist(flux_ev[\"t_vtx_z\"]/100, range=(-6, 10), bins=25, color='green', histtype='step')\n",
    "axs[2].hist(flux_ev[\"r_vtx_z\"]*600/100, range=(-6, 10), bins=25, color='red', histtype='step')\n",
    "#axs[2].legend(loc=\"upper left\", handles=[line_g, line_r], labels=[\"true\", \"reco\"])\n",
    "axs[2].set_xlabel('Vertex z-position (m)', fontsize=20)\n",
    "chipsnet.plotting.save(save_path + \"vtx_positions\")"
   ]
  },
  {
   "cell_type": "code",
   "execution_count": null,
   "metadata": {},
   "outputs": [],
   "source": [
    "fig, axs = plt.subplots(1, 3, figsize=(18, 5), gridspec_kw={'hspace': 0.3})\n",
    "axs[0].hist(flux_ev[\"t_vtx_x\"]/100-(flux_ev[\"r_vtx_x\"]*1250/100), range=(-7, 2), bins=50, color='black', histtype='step')\n",
    "axs[0].set_xlabel('Vertex true-reco x-position (m)', fontsize=20)\n",
    "axs[0].set_ylabel('Frequency', fontsize=20)\n",
    "\n",
    "axs[1].hist(flux_ev[\"t_vtx_y\"]/100-(flux_ev[\"r_vtx_y\"]*1250/100), range=(-2, 2), bins=50, color='black', histtype='step')\n",
    "axs[1].set_xlabel('Vertex true-reco y-position (m)', fontsize=20)\n",
    "\n",
    "axs[2].hist(flux_ev[\"t_vtx_z\"]/100-(flux_ev[\"r_vtx_z\"]*600/100), range=(-2, 8), bins=50, color='black', histtype='step')\n",
    "axs[2].set_xlabel('Vertex true-reco z-position (m)', fontsize=20)\n",
    "chipsnet.plotting.save(save_path + \"true_reco_vtx\")"
   ]
  },
  {
   "cell_type": "code",
   "execution_count": null,
   "metadata": {},
   "outputs": [],
   "source": [
    "line_g = matplotlib.lines.Line2D([], [], c='green')\n",
    "line_b = matplotlib.lines.Line2D([], [], c='blue')\n",
    "line_r = matplotlib.lines.Line2D([], [], c='red')\n",
    "\n",
    "fig, axs = plt.subplots(1, 1, figsize=(8, 5), gridspec_kw={'hspace': 0.3})\n",
    "axs.hist(flux_ev[flux_ev[\"t_comb_cat\"] == 0][\"t_nu_energy\"]/1000, weights=flux_ev[flux_ev[\"t_comb_cat\"] == 0][\"w\"],\n",
    "         range=(0, 10), bins=40, color='green', histtype='step', density=True)\n",
    "axs.hist(flux_ev[flux_ev[\"t_comb_cat\"] == 1][\"t_nu_energy\"]/1000, weights=flux_ev[flux_ev[\"t_comb_cat\"] == 1][\"w\"],\n",
    "         range=(0, 10), bins=40, color='blue', histtype='step', density=True)\n",
    "axs.hist(flux_ev[flux_ev[\"t_comb_cat\"] == 2][\"t_nu_energy\"]/1000, weights=flux_ev[flux_ev[\"t_comb_cat\"] == 2][\"w\"],\n",
    "         range=(0, 10), bins=40, color='red', histtype='step', density=True)\n",
    "axs.legend(loc=\"upper left\", handles=[line_g, line_b, line_r], labels=[\"$\\\\nu_{e}$ CC\", \"$\\\\nu_{\\mu}$ CC\", \"NC\"])\n",
    "axs.set_xlabel('Neutrino energy (GeV)', fontsize=20)\n",
    "axs.set_ylabel('Fraction of events', fontsize=20)\n",
    "chipsnet.plotting.save(save_path + \"nu_energies\")"
   ]
  },
  {
   "cell_type": "code",
   "execution_count": null,
   "metadata": {},
   "outputs": [],
   "source": [
    "# Setup an images dictionary to hold example images\n",
    "image_size = [64, 64]\n",
    "images_dict = {\"r_charge_map_origin\": [], \"r_charge_map_iso\": [], \"r_charge_map_vtx\": [],\n",
    "               \"r_time_map_origin\": [], \"r_time_map_iso\": [], \"r_time_map_vtx\": [], \"r_hough_map_vtx\": []}\n",
    "true_dict = {\"t_code\": []}\n",
    "               \n",
    "# Load the images into the dictionary\n",
    "nuel_file = uproot.open(nuel_map_file)\n",
    "numu_file = uproot.open(numu_map_file)\n",
    "cosmic_file = uproot.open(cosmic_map_file)\n",
    "for image_name in images_dict.keys():\n",
    "    images_dict[image_name].extend(nuel_file['reco'].array(image_name))\n",
    "    images_dict[image_name].extend(numu_file['reco'].array(image_name))\n",
    "    images_dict[image_name].extend(cosmic_file['reco'].array(image_name))\n",
    "for truth_info in true_dict.keys():\n",
    "    true_dict[truth_info].extend(nuel_file['true'].array(truth_info))\n",
    "    true_dict[truth_info].extend(numu_file['true'].array(truth_info))\n",
    "    true_dict[truth_info].extend(cosmic_file['true'].array(truth_info))    \n",
    "\n",
    "# Calculate fraction of hits in the endcaps\n",
    "cap_total = 0\n",
    "barrel_total = 0\n",
    "for event in images_dict['r_charge_map_vtx']:\n",
    "    sections = np.split(event, [18, 46], axis=0)\n",
    "    cap_total += (sections[0].sum() + sections[2].sum())\n",
    "    barrel_total += sections[1].sum()\n",
    "\n",
    "# This is with cosmic events included\n",
    "print(\"Fraction of deposited charge in endcaps = {}\".format(cap_total/(cap_total+barrel_total)))"
   ]
  },
  {
   "cell_type": "code",
   "execution_count": null,
   "metadata": {},
   "outputs": [],
   "source": [
    "print(true_dict[\"t_code\"][41])\n",
    "chipsnet.plotting.plot_hit_time(images_dict, 41, save_path+\"nuel_ccqel_event\")"
   ]
  },
  {
   "cell_type": "code",
   "execution_count": null,
   "metadata": {},
   "outputs": [],
   "source": [
    "print(true_dict[\"t_code\"][2037])\n",
    "chipsnet.plotting.plot_hit_time(images_dict, 2037, save_path+\"numu_ccdis_event\")"
   ]
  },
  {
   "cell_type": "code",
   "execution_count": null,
   "metadata": {},
   "outputs": [],
   "source": [
    "print(true_dict[\"t_code\"][4017])\n",
    "chipsnet.plotting.plot_hit_time(images_dict, 4017, save_path+\"cosmic_event\")"
   ]
  },
  {
   "cell_type": "code",
   "execution_count": null,
   "metadata": {},
   "outputs": [],
   "source": [
    "print(true_dict[\"t_code\"][2031])\n",
    "chipsnet.plotting.plot_hit_time(images_dict, 2031, save_path+\"numu_ncdis_event\")"
   ]
  },
  {
   "cell_type": "code",
   "execution_count": null,
   "metadata": {},
   "outputs": [],
   "source": [
    "chipsnet.plotting.plot_hough(images_dict, [41, 2037, 2031], save_path+\"hough_events\")"
   ]
  },
  {
   "cell_type": "code",
   "execution_count": null,
   "metadata": {},
   "outputs": [],
   "source": [
    "chipsnet.plotting.plot_8bit_range(images_dict, save_path=save_path)"
   ]
  },
  {
   "cell_type": "code",
   "execution_count": null,
   "metadata": {},
   "outputs": [],
   "source": [
    "chipsnet.plotting.plot_cuts(config, flux_ev, save_path)"
   ]
  },
  {
   "cell_type": "code",
   "execution_count": null,
   "metadata": {},
   "outputs": [],
   "source": [
    "# Tidy up\n",
    "del both_ev, both_out\n",
    "del flux_ev, flux_out\n",
    "del uniform_ev, uniform_out\n",
    "del images_dict"
   ]
  },
  {
   "cell_type": "markdown",
   "metadata": {},
   "source": [
    "<a id='repr'></a>"
   ]
  },
  {
   "cell_type": "markdown",
   "metadata": {},
   "source": [
    "## Which image representation is best? (repr)\n",
    "* The theta/phi representation as viewed from the roughly reconstructed interaction vertex is clearly the best\n",
    "* It does seem to do this by sacrificing a bit of purity for greater efficiency, but overall its still better.\n",
    "* The fact that both origin view representations are similar, hints that the parameterisation is less important and where you view the interaction from is key."
   ]
  },
  {
   "cell_type": "code",
   "execution_count": null,
   "metadata": {},
   "outputs": [],
   "source": [
    "v_ev, v_out = chipsnet.utils.evaluate(config, \"v_ct_flux\", [\"repr_v_ct\"], [\"t_nu_nc_cat\"])  # Vertex theta/phi repr\n",
    "o_ev, o_out = chipsnet.utils.evaluate(config, \"o_ct_flux\", [\"repr_o_ct\"], [\"t_nu_nc_cat\"])  # Origin theta/phi repr\n",
    "i_ev, i_out = chipsnet.utils.evaluate(config, \"i_ct_flux\", [\"repr_i_ct\"], [\"t_nu_nc_cat\"])  # Origin x+/x- repr"
   ]
  },
  {
   "cell_type": "code",
   "execution_count": null,
   "metadata": {},
   "outputs": [],
   "source": [
    "chipsnet.plotting.plot_curves([v_out[0], o_out[0], i_out[0]], 0, save_path+\"repr_nuel_curves\")"
   ]
  },
  {
   "cell_type": "code",
   "execution_count": null,
   "metadata": {},
   "outputs": [],
   "source": [
    "chipsnet.plotting.plot_curves([v_out[0], o_out[0], i_out[0]], 1, save_path+\"repr_numu_curves\")"
   ]
  },
  {
   "cell_type": "code",
   "execution_count": null,
   "metadata": {},
   "outputs": [],
   "source": [
    "chipsnet.plotting.plot_e_hists([v_out[0], o_out[0], i_out[0]], v_ev, save_path+\"repr_hists\")"
   ]
  },
  {
   "cell_type": "code",
   "execution_count": null,
   "metadata": {},
   "outputs": [],
   "source": [
    "# Tidy up\n",
    "del v_ev, v_out\n",
    "del o_ev, o_out\n",
    "del i_ev, i_out"
   ]
  },
  {
   "cell_type": "markdown",
   "metadata": {},
   "source": [
    "<a id='channel'></a>"
   ]
  },
  {
   "cell_type": "markdown",
   "metadata": {},
   "source": [
    "## Which channel configuration is best? (channel)\n",
    "* The differences are much smaller than you would expect given the extra info you would think the extra channels provide\n",
    "* Overall having all three channels together does make a difference\n",
    "* It also is much better to have the seperate stems for each channel rather than using a single 3 channel image"
   ]
  },
  {
   "cell_type": "code",
   "execution_count": null,
   "metadata": {},
   "outputs": [],
   "source": [
    "c_ev, c_out = chipsnet.utils.evaluate(config, \"v_c_flux\", [\"repr_v_c\"], [\"t_nu_nc_cat\"])  # Just charge channel\n",
    "ct_ev, ct_out = chipsnet.utils.evaluate(config, \"v_ct_flux\", [\"repr_v_ct\"], [\"t_nu_nc_cat\"])  # Charge+time channels\n",
    "cth_ev, cth_out = chipsnet.utils.evaluate(config,\"v_cth_flux\", [\"repr_v_cth\"], [\"t_nu_nc_cat\"])  # Charge+time+hough channels\n",
    "cth_stacked_ev, cth_stacked_out = chipsnet.utils.evaluate(config,\"v_cth_flux_stacked\", [\"repr_v_cth_stacked\"], [\"t_nu_nc_cat\"])  # Charge+time+hough channels stacked"
   ]
  },
  {
   "cell_type": "code",
   "execution_count": null,
   "metadata": {},
   "outputs": [],
   "source": [
    "chipsnet.plotting.plot_curves([c_out[0], ct_out[0], cth_out[0], cth_stacked_out[0]], 0, save_path+\"channel_nuel_curves\")"
   ]
  },
  {
   "cell_type": "code",
   "execution_count": null,
   "metadata": {},
   "outputs": [],
   "source": [
    "chipsnet.plotting.plot_curves([c_out[0], ct_out[0], cth_out[0], cth_stacked_out[0]], 1, save_path+\"channel_numu_curves\")"
   ]
  },
  {
   "cell_type": "code",
   "execution_count": null,
   "metadata": {},
   "outputs": [],
   "source": [
    "chipsnet.plotting.plot_e_hists([c_out[0], ct_out[0], cth_out[0], cth_stacked_out[0]], c_ev, save_path+\"channel_hists\")"
   ]
  },
  {
   "cell_type": "code",
   "execution_count": null,
   "metadata": {},
   "outputs": [],
   "source": [
    "# Tidy up\n",
    "del c_ev, c_out\n",
    "del ct_ev, ct_out\n",
    "del cth_ev, cth_out\n",
    "del cth_stacked_ev, cth_stacked_out"
   ]
  },
  {
   "cell_type": "markdown",
   "metadata": {},
   "source": [
    "<a id='sample'></a>"
   ]
  },
  {
   "cell_type": "markdown",
   "metadata": {},
   "source": [
    "## Which training sample is best? (sample)\n",
    "* The training sample you use and its relative number of events for each category makes a significant difference to performance.\n",
    "* As expected training on a beam flux distribution is much better than a uniform sample.\n",
    "* Bolstering the underepresented categories in the beam flux however leads to much better performance in seperating CC and NC types."
   ]
  },
  {
   "cell_type": "code",
   "execution_count": null,
   "metadata": {},
   "outputs": [],
   "source": [
    "events, outputs = chipsnet.utils.evaluate(\n",
    "    config, \n",
    "    \"flux\", \n",
    "    [\"sample_both\", \"sample_flux\", \"sample_uniform\"],\n",
    "    [\"t_nu_nc_cat\", \"t_nu_nc_cat\", \"t_nu_nc_cat\"]\n",
    ")"
   ]
  },
  {
   "cell_type": "code",
   "execution_count": null,
   "metadata": {},
   "outputs": [],
   "source": [
    "chipsnet.plotting.plot_curves([outputs[0], outputs[1], outputs[2]], 0, save_path+\"sample_nuel_curves\")"
   ]
  },
  {
   "cell_type": "code",
   "execution_count": null,
   "metadata": {},
   "outputs": [],
   "source": [
    "chipsnet.plotting.plot_curves([outputs[0], outputs[1], outputs[2]], 1, save_path+\"sample_numu_curves\")"
   ]
  },
  {
   "cell_type": "code",
   "execution_count": null,
   "metadata": {},
   "outputs": [],
   "source": [
    "chipsnet.plotting.plot_e_hists([outputs[0], outputs[1], outputs[2]], events, save_path+\"sample_hists\")"
   ]
  },
  {
   "cell_type": "code",
   "execution_count": null,
   "metadata": {},
   "outputs": [],
   "source": [
    "chipsnet.plotting.plot_combined_values(events, \"sample_both_\", save_path+\"sample_both_values\")"
   ]
  },
  {
   "cell_type": "code",
   "execution_count": null,
   "metadata": {},
   "outputs": [],
   "source": [
    "chipsnet.plotting.plot_combined_values(events, \"sample_flux_\", save_path+\"sample_flux_values\")"
   ]
  },
  {
   "cell_type": "code",
   "execution_count": null,
   "metadata": {},
   "outputs": [],
   "source": [
    "chipsnet.plotting.plot_combined_values(events, \"sample_uniform_\", save_path+\"sample_uniform_values\")"
   ]
  },
  {
   "cell_type": "code",
   "execution_count": null,
   "metadata": {},
   "outputs": [],
   "source": [
    "plt.figure(figsize=(16,8))\n",
    "sns.heatmap(outputs[0][\"cat_matrix\"], annot=False, vmin=0.0, vmax=1.0)\n",
    "plt.xlabel('True', fontsize = 30)\n",
    "plt.ylabel('Predicted', fontsize = 30)\n",
    "chipsnet.plotting.save(save_path + \"sample_both_matrix\")"
   ]
  },
  {
   "cell_type": "code",
   "execution_count": null,
   "metadata": {},
   "outputs": [],
   "source": [
    "plt.figure(figsize=(16,8))\n",
    "sns.heatmap(outputs[1][\"cat_matrix\"], annot=False, vmin=0.0, vmax=1.0)\n",
    "plt.xlabel('True', fontsize = 30)\n",
    "plt.ylabel('Predicted', fontsize = 30)\n",
    "chipsnet.plotting.save(save_path + \"sample_flux_matrix\")"
   ]
  },
  {
   "cell_type": "code",
   "execution_count": null,
   "metadata": {},
   "outputs": [],
   "source": [
    "plt.figure(figsize=(16,8))\n",
    "sns.heatmap(outputs[2][\"cat_matrix\"], annot=False, vmin=0.0, vmax=1.0)\n",
    "plt.xlabel('True', fontsize = 30)\n",
    "plt.ylabel('Predicted', fontsize = 30)\n",
    "chipsnet.plotting.save(save_path + \"sample_uniform_matrix\")"
   ]
  },
  {
   "cell_type": "code",
   "execution_count": null,
   "metadata": {},
   "outputs": [],
   "source": [
    "# Tidy up\n",
    "del events, outputs"
   ]
  },
  {
   "cell_type": "markdown",
   "metadata": {},
   "source": [
    "<a id='cat'></a>"
   ]
  },
  {
   "cell_type": "markdown",
   "metadata": {},
   "source": [
    "## Which categorisation is best? (cat)\n",
    "* It looks like the split learner using [\"t_comb_cat\", \"t_cc_type\", \"t_nc_type\"] is the best\n",
    "* Still need to look at how well it splits apart to cc and nc types for full analysis\n",
    "* A close second is then \"t_nu_nc_cat\" maybe this is still reasonable to use to simplify other studies"
   ]
  },
  {
   "cell_type": "code",
   "execution_count": null,
   "metadata": {},
   "outputs": [],
   "source": [
    "events, outputs = chipsnet.utils.evaluate(\n",
    "    config, \n",
    "    \"flux\", \n",
    "    [\"cat_t_final_cat\", \"cat_t_all_cat\", \"cat_t_comb_cat\", \"cat_t_nu_nc_cat\", \"cat_t_nc_cat\", \"cat_split\", \"cat_split_learn\"], \n",
    "    [\"t_final_cat\", \"t_all_cat\", \"t_comb_cat\", \"t_nu_nc_cat\", \"t_nc_cat\", \"t_comb_cat\", \"t_comb_cat\"]\n",
    ")"
   ]
  },
  {
   "cell_type": "code",
   "execution_count": null,
   "metadata": {},
   "outputs": [],
   "source": [
    "chipsnet.plotting.plot_curves([outputs[3], outputs[0], outputs[1], outputs[5]], 0, save_path+\"cat_nuel_curves\")"
   ]
  },
  {
   "cell_type": "code",
   "execution_count": null,
   "metadata": {},
   "outputs": [],
   "source": [
    "chipsnet.plotting.plot_curves([outputs[3], outputs[0], outputs[1], outputs[5]], 1, save_path+\"cat_numu_curves\")"
   ]
  },
  {
   "cell_type": "code",
   "execution_count": null,
   "metadata": {},
   "outputs": [],
   "source": [
    "chipsnet.plotting.plot_e_hists([outputs[3], outputs[0], outputs[1], outputs[5]], events, save_path+\"cat_hists\")"
   ]
  },
  {
   "cell_type": "code",
   "execution_count": null,
   "metadata": {},
   "outputs": [],
   "source": [
    "# Tidy up\n",
    "del events, outputs"
   ]
  },
  {
   "cell_type": "markdown",
   "metadata": {},
   "source": [
    "<a id='cosmic'></a>"
   ]
  },
  {
   "cell_type": "markdown",
   "metadata": {},
   "source": [
    "## Does vertex help cosmic classifier? (cosmic)\n",
    "* Can't really come to a full conclusion without knowing if the events that pass will contaminate our signal\n",
    "* Looks like adding the vertex position and time, makes the average values better, by the number of events that get accepted gets worse."
   ]
  },
  {
   "cell_type": "code",
   "execution_count": null,
   "metadata": {},
   "outputs": [],
   "source": [
    "events, outputs = chipsnet.utils.process_ds(\n",
    "    config, \n",
    "    \"flux_cosmic\",\n",
    "    [\"cosmic\", \"cosmic_vtx\", \"cosmic_vtx_learn\"],\n",
    "    model_cats=[\"t_cosmic_cat\", \"t_cosmic_cat\", \"t_cosmic_cat\"],\n",
    "    verbose=True\n",
    ")"
   ]
  },
  {
   "cell_type": "code",
   "execution_count": null,
   "metadata": {},
   "outputs": [],
   "source": [
    "bins = 50\n",
    "hist_range = (0, 0.002)\n",
    "fig, axs = plt.subplots(1, 1, figsize=(5, 5))\n",
    "axs.hist(\n",
    "    events[events[\"t_cosmic_cat\"] == 0][\"cosmic_pred_t_cosmic_cat\"],\n",
    "    weights=events[events[\"t_cosmic_cat\"] == 0][\"w\"],\n",
    "    range=hist_range,\n",
    "    bins=bins,\n",
    "    color=\"green\",\n",
    "    histtype=\"step\",\n",
    ")\n",
    "axs.hist(\n",
    "    events[events[\"t_cosmic_cat\"] == 1][\"cosmic_pred_t_cosmic_cat\"],\n",
    "    weights=events[events[\"t_cosmic_cat\"] == 1][\"w\"],\n",
    "    range=hist_range,\n",
    "    bins=bins,\n",
    "    color=\"blue\",\n",
    "    histtype=\"step\",\n",
    ")\n",
    "axs.set_xlabel(\"Cosmic score\", fontsize=17)\n",
    "axs.set_yscale(\"log\")\n",
    "plt.show()"
   ]
  },
  {
   "cell_type": "code",
   "execution_count": null,
   "metadata": {},
   "outputs": [],
   "source": [
    "# Tidy up\n",
    "del events, outputs"
   ]
  },
  {
   "cell_type": "markdown",
   "metadata": {},
   "source": [
    "<a id='beam'></a>"
   ]
  },
  {
   "cell_type": "markdown",
   "metadata": {},
   "source": [
    "## Does primary count help beam classifier? (beam)\n",
    "* Yes it does help, not a huge effect but it definitely add something, which makes sense\n",
    "* The \"learned\" version of the multitask weights seems to work best.\n",
    "* Still need to combine with the correct category type to see if that has a different effect."
   ]
  },
  {
   "cell_type": "code",
   "execution_count": null,
   "metadata": {},
   "outputs": [],
   "source": [
    "events, outputs = chipsnet.utils.process_ds(\n",
    "    config, \n",
    "    \"flux\", \n",
    "    [\"beam\", \"beam_primaries\", \"beam_primaries_learn\"],\n",
    "    [\"t_nu_nc_cat\", \"t_nu_nc_cat\", \"t_nu_nc_cat\"]\n",
    ")"
   ]
  },
  {
   "cell_type": "code",
   "execution_count": null,
   "metadata": {},
   "outputs": [],
   "source": [
    "chipsnet.plotting.plot_curves([outputs[0], outputs[1], outputs[2]], save_path+\"beam_curves\")"
   ]
  },
  {
   "cell_type": "code",
   "execution_count": null,
   "metadata": {},
   "outputs": [],
   "source": [
    "chipsnet.plotting.plot_e_hists([outputs[0], outputs[1], outputs[2]], events, save_path+\"beam_hists\")"
   ]
  },
  {
   "cell_type": "code",
   "execution_count": null,
   "metadata": {},
   "outputs": [],
   "source": [
    "chipsnet.utils.print_output_comparison([outputs[0], outputs[1], outputs[2]])"
   ]
  },
  {
   "cell_type": "code",
   "execution_count": null,
   "metadata": {},
   "outputs": [],
   "source": [
    "# Tidy up\n",
    "del events, outputs"
   ]
  },
  {
   "cell_type": "markdown",
   "metadata": {},
   "source": [
    "<a id='energy'></a>"
   ]
  },
  {
   "cell_type": "markdown",
   "metadata": {},
   "source": [
    "## Does lepton energy help neutrino energy estimation? (energy)\n",
    "* There doesn't seem to be a noticable difference when both are trained together\n",
    "* This has only been testing on nuel cc, it may be different for numu cc\n",
    "* As its negligable we will train together using the learned approach as that seems best"
   ]
  },
  {
   "cell_type": "code",
   "execution_count": null,
   "metadata": {},
   "outputs": [],
   "source": [
    "events = chipsnet.utils.predict_energies(config, \"flux\", [\"energy\", \"lepton\", \"energy_lepton\", \"energy_lepton_learn\"])"
   ]
  },
  {
   "cell_type": "code",
   "execution_count": null,
   "metadata": {},
   "outputs": [],
   "source": [
    "fig, axs = plt.subplots(1, 2, figsize=(12, 5), gridspec_kw={\"hspace\": 0.1, \"wspace\": 0.2})\n",
    "e_list, std_list = chipsnet.utils.frac_e_vs_par(events[events[\"t_comb_cat\"] == 0], fit_name=\"energy_frac_nu_energy\")\n",
    "axs[0].plot(e_list, std_list)\n",
    "e_list, std_list = chipsnet.utils.frac_e_vs_par(events[events[\"t_comb_cat\"] == 0], fit_name=\"energy_lepton_frac_nu_energy\")\n",
    "axs[0].plot(e_list, std_list)\n",
    "e_list, std_list = chipsnet.utils.frac_e_vs_par(events[events[\"t_comb_cat\"] == 0], fit_name=\"energy_lepton_learn_frac_nu_energy\")\n",
    "axs[0].plot(e_list, std_list)\n",
    "axs[0].label_outer()\n",
    "axs[0].set(ylabel=r\"(True-reco)/true nu energy\", xlabel=r\"nu energy\")\n",
    "axs[0].set_ylim(0, 0.3)\n",
    "axs[0].grid()\n",
    "e_list, std_list = chipsnet.utils.frac_e_vs_par(events[events[\"t_comb_cat\"] == 0], par=\"t_lep_energy\", fit_name=\"lepton_frac_lep_energy\")\n",
    "axs[1].plot(e_list, std_list)\n",
    "e_list, std_list = chipsnet.utils.frac_e_vs_par(events[events[\"t_comb_cat\"] == 0], par=\"t_lep_energy\", fit_name=\"energy_lepton_frac_lep_energy\")\n",
    "axs[1].plot(e_list, std_list)\n",
    "e_list, std_list = chipsnet.utils.frac_e_vs_par(events[events[\"t_comb_cat\"] == 0], par=\"t_lep_energy\", fit_name=\"energy_lepton_learn_frac_lep_energy\")\n",
    "axs[1].plot(e_list, std_list)\n",
    "axs[1].label_outer()\n",
    "axs[1].set(ylabel=r\"(True-reco)/true lep energy\", xlabel=r\"lep energy\")\n",
    "axs[1].set_ylim(0, 0.3)\n",
    "axs[1].grid()\n",
    "plt.show()"
   ]
  },
  {
   "cell_type": "code",
   "execution_count": null,
   "metadata": {},
   "outputs": [],
   "source": [
    "fig, axs = plt.subplots(1, 2, figsize=(12, 5), gridspec_kw={\"hspace\": 0.1, \"wspace\": 0.2})\n",
    "axs[0].hist(events[events[\"t_comb_cat\"] == 0]['energy_frac_nu_energy'], range=(-0.3, 0.3), bins=40, histtype='step')\n",
    "axs[0].hist(events[events[\"t_comb_cat\"] == 0]['energy_lepton_frac_nu_energy'], range=(-0.3, 0.3), bins=40, histtype='step')\n",
    "axs[0].hist(events[events[\"t_comb_cat\"] == 0]['energy_lepton_learn_frac_nu_energy'], range=(-0.3, 0.3), bins=40, histtype='step')\n",
    "axs[0].set(xlabel=r\"(True-reco)/true nu energy\", ylabel=r\"Events\")\n",
    "axs[0].label_outer()\n",
    "axs[0].set_ylim(0, 2000)\n",
    "axs[1].hist(events[events[\"t_comb_cat\"] == 0]['lepton_frac_lep_energy'], range=(-0.3, 0.3), bins=40, histtype='step')\n",
    "axs[1].hist(events[events[\"t_comb_cat\"] == 0]['energy_lepton_frac_lep_energy'], range=(-0.3, 0.3), bins=40, histtype='step')\n",
    "axs[1].hist(events[events[\"t_comb_cat\"] == 0]['energy_lepton_learn_frac_lep_energy'], range=(-0.3, 0.3), bins=40, histtype='step')\n",
    "axs[1].set(xlabel=r\"(True-reco)/true lep energy\", ylabel=r\"Events\")\n",
    "axs[1].label_outer()\n",
    "axs[1].set_ylim(0, 2000)\n",
    "plt.show()"
   ]
  },
  {
   "cell_type": "code",
   "execution_count": null,
   "metadata": {},
   "outputs": [],
   "source": [
    "print(events[events[\"t_comb_cat\"] == 0]['energy_frac_nu_energy'].describe())\n",
    "print(events[events[\"t_comb_cat\"] == 0]['energy_lepton_frac_nu_energy'].describe())\n",
    "print(events[events[\"t_comb_cat\"] == 0]['energy_lepton_learn_frac_nu_energy'].describe())"
   ]
  },
  {
   "cell_type": "code",
   "execution_count": null,
   "metadata": {},
   "outputs": [],
   "source": [
    "# Tidy up\n",
    "del events"
   ]
  },
  {
   "cell_type": "markdown",
   "metadata": {},
   "source": [
    "<a id='energy_samples'></a>"
   ]
  },
  {
   "cell_type": "markdown",
   "metadata": {},
   "source": [
    "## Different sample energy estimation (energy_samples)\n",
    "* The vertex location for muon events greatly effects the energy reconstruction performance due to not being fully contained.\n",
    "* Can reach 5% energy resolution of QEL and MEC electrons.\n",
    "* Lots of the DIS/RES are not having their true lepton energy found which is odd."
   ]
  },
  {
   "cell_type": "code",
   "execution_count": null,
   "metadata": {},
   "outputs": [],
   "source": [
    "# All the different interaction type samples and associated models\n",
    "nuel_cccoh_ev = chipsnet.utils.predict_energies(config, \"nuel_cccoh\", [\"nuel_cccoh_energy\"])\n",
    "nuel_ccdis_ev = chipsnet.utils.predict_energies(config, \"nuel_ccdis\", [\"nuel_ccdis_energy\"])\n",
    "nuel_ccqel_ev = chipsnet.utils.predict_energies(config, \"nuel_ccqel\", [\"nuel_ccqel_energy\"])\n",
    "nuel_ccres_ev = chipsnet.utils.predict_energies(config, \"nuel_ccres\", [\"nuel_ccres_energy\"])\n",
    "nuel_ccmec_ev = chipsnet.utils.predict_energies(config, \"nuel_ccmec\", [\"nuel_ccmec_energy\"])\n",
    "nuel_ccqelmec_ev = chipsnet.utils.predict_energies(config, \"nuel_ccqelmec\", [\"nuel_ccqelmec_energy\"])\n",
    "numu_cccoh_ev = chipsnet.utils.predict_energies(config, \"numu_cccoh\", [\"numu_cccoh_energy\"])\n",
    "numu_ccdis_ev = chipsnet.utils.predict_energies(config, \"numu_ccdis\", [\"numu_ccdis_energy\"])\n",
    "numu_ccqel_ev = chipsnet.utils.predict_energies(config, \"numu_ccqel\", [\"numu_ccqel_energy\"])\n",
    "numu_ccres_ev = chipsnet.utils.predict_energies(config, \"numu_ccres\", [\"numu_ccres_energy\"])\n",
    "numu_ccmec_ev = chipsnet.utils.predict_energies(config, \"numu_ccmec\", [\"numu_ccmec_energy\"])\n",
    "numu_ccqelmec_ev = chipsnet.utils.predict_energies(config, \"numu_ccqelmec\", [\"numu_ccqelmec_energy\"])\n",
    "flux_ev = chipsnet.utils.predict_energies(config, \"flux\", [\"nuel_cc_energy\", \"numu_cc_energy\", \"nc_energy\"])"
   ]
  },
  {
   "cell_type": "code",
   "execution_count": null,
   "metadata": {},
   "outputs": [],
   "source": [
    "fig, axs = plt.subplots(1, 2, figsize=(12, 5), gridspec_kw={\"hspace\": 0.1, \"wspace\": 0.2})\n",
    "axs[0].hist(nuel_ccqel_ev['t_nu_energy'], range=(0, 10000), bins=50, histtype='step')\n",
    "axs[0].hist(nuel_ccqel_ev['nuel_ccqel_energy_pred_t_nu_energy'], range=(0, 10000), bins=50, histtype='step')\n",
    "axs[0].set(xlabel=r\"nu energy\", ylabel=r\"Events\")\n",
    "axs[0].label_outer()\n",
    "axs[0].set_ylim(0, 800)\n",
    "axs[1].hist(nuel_ccqel_ev['t_lep_energy'], range=(0, 10000), bins=50, histtype='step')\n",
    "axs[1].hist(nuel_ccqel_ev['nuel_ccqel_energy_pred_t_lep_energy'], range=(0, 10000), bins=50, histtype='step')\n",
    "axs[1].set(xlabel=r\"lep energy\", ylabel=r\"Events\")\n",
    "axs[1].label_outer()\n",
    "axs[1].set_ylim(0, 800)\n",
    "plt.show()"
   ]
  },
  {
   "cell_type": "code",
   "execution_count": null,
   "metadata": {},
   "outputs": [],
   "source": [
    "e_range = [[0, 8000], [0, 8000]]\n",
    "e_bins = [40, 40]\n",
    "fig, axs = plt.subplots(6, 2, figsize=(10, 20), gridspec_kw={\"hspace\": 0.1, \"wspace\": 0.1})\n",
    "axs[0, 0].hist2d(nuel_cccoh_ev[\"t_nu_energy\"], nuel_cccoh_ev[\"nuel_cccoh_energy_pred_t_nu_energy\"],\n",
    "                 range=e_range, bins=e_bins, cmap=\"Reds\")\n",
    "axs[0, 0].grid()\n",
    "axs[0, 0].label_outer()\n",
    "axs[0, 0].set(ylabel=r\"Reco energy (MeV)\")\n",
    "axs[0, 0].set_title(r\"nuel\")\n",
    "axs[1, 0].hist2d(nuel_ccdis_ev[\"t_nu_energy\"], nuel_ccdis_ev[\"nuel_ccdis_energy_pred_t_nu_energy\"],\n",
    "                 range=e_range, bins=e_bins, cmap=\"Reds\")\n",
    "axs[1, 0].grid()\n",
    "axs[1, 0].label_outer()\n",
    "axs[1, 0].set(ylabel=r\"Reco energy (MeV)\")\n",
    "axs[2, 0].hist2d(nuel_ccqel_ev[\"t_nu_energy\"], nuel_ccqel_ev[\"nuel_ccqel_energy_pred_t_nu_energy\"],\n",
    "                 range=e_range, bins=e_bins, cmap=\"Reds\")\n",
    "axs[2, 0].grid()\n",
    "axs[2, 0].label_outer()\n",
    "axs[2, 0].set(ylabel=r\"Reco energy (MeV)\")\n",
    "axs[3, 0].hist2d(nuel_ccres_ev[\"t_nu_energy\"], nuel_ccres_ev[\"nuel_ccres_energy_pred_t_nu_energy\"],\n",
    "                 range=e_range, bins=e_bins, cmap=\"Reds\")\n",
    "axs[3, 0].grid()\n",
    "axs[3, 0].label_outer()\n",
    "axs[3, 0].set(ylabel=r\"Reco energy (MeV)\")\n",
    "axs[4, 0].hist2d(nuel_ccmec_ev[\"t_nu_energy\"], nuel_ccmec_ev[\"nuel_ccmec_energy_pred_t_nu_energy\"],\n",
    "                 range=e_range, bins=e_bins, cmap=\"Reds\")\n",
    "axs[4, 0].grid()\n",
    "axs[4, 0].label_outer()\n",
    "axs[5, 0].hist2d(nuel_ccqelmec_ev[\"t_nu_energy\"], nuel_ccqelmec_ev[\"nuel_ccqelmec_energy_pred_t_nu_energy\"],\n",
    "                 range=e_range, bins=e_bins, cmap=\"Reds\")\n",
    "axs[5, 0].grid()\n",
    "axs[5, 0].label_outer()\n",
    "axs[5, 0].set(xlabel=r\"True energy (MeV)\", ylabel=r\"Reco energy (MeV)\")\n",
    "axs[5, 0].set(xlabel=r\"True energy (MeV)\", ylabel=r\"Reco energy (MeV)\")\n",
    "axs[0, 1].hist2d(numu_cccoh_ev[\"t_nu_energy\"], numu_cccoh_ev[\"numu_cccoh_energy_pred_t_nu_energy\"],\n",
    "                 range=e_range, bins=e_bins, cmap=\"Reds\")\n",
    "axs[0, 1].grid()\n",
    "axs[0, 1].label_outer()\n",
    "axs[0, 1].set_title(r\"numu\")\n",
    "axs[0, 1].text(8000, 2250, \"CC-COH\", rotation=-90)\n",
    "axs[1, 1].hist2d(numu_ccdis_ev[\"t_nu_energy\"], numu_ccdis_ev[\"numu_ccdis_energy_pred_t_nu_energy\"],\n",
    "                 range=e_range, bins=e_bins, cmap=\"Reds\")\n",
    "axs[1, 1].grid()\n",
    "axs[1, 1].label_outer()\n",
    "axs[1, 1].text(8000, 2250, \"CC-DIS\", rotation=-90)\n",
    "axs[2, 1].hist2d(numu_ccqel_ev[\"t_nu_energy\"], numu_ccqel_ev[\"numu_ccqel_energy_pred_t_nu_energy\"],\n",
    "                 range=e_range, bins=e_bins, cmap=\"Reds\")\n",
    "axs[2, 1].grid()\n",
    "axs[2, 1].label_outer()\n",
    "axs[2, 1].text(8000, 2250, \"CC-QEL\", rotation=-90)\n",
    "axs[3, 1].hist2d(numu_ccres_ev[\"t_nu_energy\"], numu_ccres_ev[\"numu_ccres_energy_pred_t_nu_energy\"],\n",
    "                 range=e_range, bins=e_bins, cmap=\"Reds\")\n",
    "axs[3, 1].grid()\n",
    "axs[3, 1].label_outer()\n",
    "axs[3, 1].text(8000, 2250, \"CC-RES\", rotation=-90)\n",
    "axs[4, 1].hist2d(numu_ccmec_ev[\"t_nu_energy\"], numu_ccmec_ev[\"numu_ccmec_energy_pred_t_nu_energy\"],\n",
    "                 range=e_range, bins=e_bins, cmap=\"Reds\")\n",
    "axs[4, 1].grid()\n",
    "axs[4, 1].label_outer()\n",
    "axs[4, 1].text(8000, 2250, \"CC-MEC\", rotation=-90)\n",
    "axs[5, 1].hist2d(numu_ccqelmec_ev[\"t_nu_energy\"], numu_ccqelmec_ev[\"numu_ccqelmec_energy_pred_t_nu_energy\"],\n",
    "                 range=e_range, bins=e_bins, cmap=\"Reds\")\n",
    "axs[5, 1].grid()\n",
    "axs[5, 1].label_outer()\n",
    "axs[5, 1].set(xlabel=r\"True energy (MeV)\")\n",
    "axs[5, 1].text(8000, 2250, \"CC-QELMEC\", rotation=-90)\n",
    "chipsnet.plotting.save(save_path + \"true_vs_reco_energy_cc\")"
   ]
  },
  {
   "cell_type": "code",
   "execution_count": null,
   "metadata": {},
   "outputs": [],
   "source": [
    "e_range = [[0, 8000], [0, 8000]]\n",
    "e_bins = [40, 40]\n",
    "fig, axs = plt.subplots(1, 3, figsize=(15, 4), gridspec_kw={\"hspace\": 0.1, \"wspace\": 0.1})\n",
    "axs[0].hist2d(flux_ev[flux_ev[\"t_comb_cat\"] == 0][\"t_nu_energy\"], flux_ev[flux_ev[\"t_comb_cat\"] == 0][\"nuel_cc_energy_pred_t_nu_energy\"],\n",
    "              range=e_range, bins=e_bins, weights=flux_ev[flux_ev[\"t_comb_cat\"] == 0][\"w\"], cmap=\"Reds\")\n",
    "axs[0].grid()\n",
    "axs[0].label_outer()\n",
    "axs[0].set(xlabel=r\"True energy (MeV)\", ylabel=r\"Reco energy (MeV)\")\n",
    "axs[0].set_title(r\"Nuel CC\")\n",
    "axs[1].hist2d(flux_ev[flux_ev[\"t_comb_cat\"] == 1][\"t_nu_energy\"], flux_ev[flux_ev[\"t_comb_cat\"] == 1][\"numu_cc_energy_pred_t_nu_energy\"],\n",
    "              range=e_range, bins=e_bins, weights=flux_ev[flux_ev[\"t_comb_cat\"] == 1][\"w\"], cmap=\"Reds\")\n",
    "axs[1].grid()\n",
    "axs[1].label_outer()\n",
    "axs[1].set(xlabel=r\"True energy (MeV)\")\n",
    "axs[1].set_title(r\"Numu CC\")\n",
    "axs[2].hist2d(flux_ev[flux_ev[\"t_comb_cat\"] == 2][\"t_nu_energy\"], flux_ev[flux_ev[\"t_comb_cat\"] == 2][\"nc_energy_pred_t_nu_energy\"],\n",
    "              range=e_range, bins=e_bins, weights=flux_ev[flux_ev[\"t_comb_cat\"] == 2][\"w\"], cmap=\"Reds\")\n",
    "axs[2].grid()\n",
    "axs[2].label_outer()\n",
    "axs[2].set(xlabel=r\"True energy (MeV)\")\n",
    "axs[2].set_title(r\"NC\")\n",
    "chipsnet.plotting.save(save_path + \"true_vs_reco_energy_comb\")"
   ]
  },
  {
   "cell_type": "code",
   "execution_count": null,
   "metadata": {},
   "outputs": [],
   "source": [
    "fig, axs = plt.subplots(6, 2, figsize=(10, 20), gridspec_kw={\"hspace\": 0.1, \"wspace\": 0.1})\n",
    "e_list, std_list = chipsnet.utils.frac_e_vs_par(nuel_cccoh_ev, fit_name=\"nuel_cccoh_energy_frac_nu_energy\")\n",
    "axs[0, 0].plot(e_list, std_list)\n",
    "e_list, std_list = chipsnet.utils.frac_e_vs_par(nuel_cccoh_ev, par=\"t_lep_energy\", fit_name=\"nuel_cccoh_energy_frac_lep_energy\")\n",
    "axs[0, 0].plot(e_list, std_list)\n",
    "axs[0, 0].label_outer()\n",
    "axs[0, 0].set(ylabel=r\"(True-reco)/true E\")\n",
    "axs[0, 0].set_title(r\"nuel\")\n",
    "axs[0, 0].set_ylim(0, 0.5)\n",
    "axs[0, 0].grid()\n",
    "e_list, std_list = chipsnet.utils.frac_e_vs_par(nuel_ccdis_ev, fit_name=\"nuel_ccdis_energy_frac_nu_energy\")\n",
    "axs[1, 0].plot(e_list, std_list)\n",
    "e_list, std_list = chipsnet.utils.frac_e_vs_par(nuel_ccdis_ev, par=\"t_lep_energy\", fit_name=\"nuel_ccdis_energy_frac_lep_energy\")\n",
    "axs[1, 0].plot(e_list, std_list)\n",
    "axs[1, 0].label_outer()\n",
    "axs[1, 0].set(ylabel=r\"(True-reco)/true E\")\n",
    "axs[1, 0].set_ylim(0, 0.5)\n",
    "axs[1, 0].grid()\n",
    "e_list, std_list = chipsnet.utils.frac_e_vs_par(nuel_ccqel_ev, fit_name=\"nuel_ccqel_energy_frac_nu_energy\")\n",
    "axs[2, 0].plot(e_list, std_list)\n",
    "e_list, std_list = chipsnet.utils.frac_e_vs_par(nuel_ccqel_ev, par=\"t_lep_energy\", fit_name=\"nuel_ccqel_energy_frac_lep_energy\")\n",
    "axs[2, 0].plot(e_list, std_list)\n",
    "axs[2, 0].label_outer()\n",
    "axs[2, 0].set(ylabel=r\"(True-reco)/true E\")\n",
    "axs[2, 0].set_ylim(0, 0.5)\n",
    "axs[2, 0].grid()\n",
    "e_list, std_list = chipsnet.utils.frac_e_vs_par(nuel_ccres_ev, fit_name=\"nuel_ccres_energy_frac_nu_energy\")\n",
    "axs[3, 0].plot(e_list, std_list)\n",
    "e_list, std_list = chipsnet.utils.frac_e_vs_par(nuel_ccres_ev, par=\"t_lep_energy\", fit_name=\"nuel_ccres_energy_frac_lep_energy\")\n",
    "axs[3, 0].plot(e_list, std_list)\n",
    "axs[3, 0].label_outer()\n",
    "axs[3, 0].set(ylabel=r\"(True-reco)/true E\")\n",
    "axs[3, 0].set_ylim(0, 0.5)\n",
    "axs[3, 0].grid()\n",
    "e_list, std_list = chipsnet.utils.frac_e_vs_par(nuel_ccmec_ev, fit_name=\"nuel_ccmec_energy_frac_nu_energy\")\n",
    "axs[4, 0].plot(e_list, std_list)\n",
    "e_list, std_list = chipsnet.utils.frac_e_vs_par(nuel_ccmec_ev, par=\"t_lep_energy\", fit_name=\"nuel_ccmec_energy_frac_lep_energy\")\n",
    "axs[4, 0].plot(e_list, std_list)\n",
    "axs[4, 0].label_outer()\n",
    "axs[4, 0].set(ylabel=r\"(True-reco)/true E\")\n",
    "axs[4, 0].set_ylim(0, 0.5)\n",
    "axs[4, 0].grid()\n",
    "e_list, std_list = chipsnet.utils.frac_e_vs_par(nuel_ccqelmec_ev, fit_name=\"nuel_ccqelmec_energy_frac_nu_energy\")\n",
    "axs[5, 0].plot(e_list, std_list)\n",
    "e_list, std_list = chipsnet.utils.frac_e_vs_par(nuel_ccqelmec_ev, par=\"t_lep_energy\", fit_name=\"nuel_ccqelmec_energy_frac_lep_energy\")\n",
    "axs[5, 0].plot(e_list, std_list)\n",
    "axs[5, 0].label_outer()\n",
    "axs[5, 0].set(xlabel=r\"Neutrino energy (MeV)\", ylabel=r\"(True-reco)/true E\")\n",
    "axs[5, 0].set_ylim(0, 0.5)\n",
    "axs[5, 0].grid()\n",
    "e_list, std_list = chipsnet.utils.frac_e_vs_par(numu_cccoh_ev, fit_name=\"numu_cccoh_energy_frac_nu_energy\")\n",
    "axs[0, 1].plot(e_list, std_list)\n",
    "e_list, std_list = chipsnet.utils.frac_e_vs_par(numu_cccoh_ev, par=\"t_lep_energy\", fit_name=\"numu_cccoh_energy_frac_lep_energy\")\n",
    "axs[0, 1].plot(e_list, std_list)\n",
    "axs[0, 1].label_outer()\n",
    "axs[0, 1].set_title(r\"numu\")\n",
    "axs[0, 1].text(8000, 0.15, \"CC-COH\", rotation=-90)\n",
    "axs[0, 1].set_ylim(0, 0.5)\n",
    "axs[0, 1].grid()\n",
    "e_list, std_list = chipsnet.utils.frac_e_vs_par(numu_ccdis_ev, fit_name=\"numu_ccdis_energy_frac_nu_energy\")\n",
    "axs[1, 1].plot(e_list, std_list)\n",
    "e_list, std_list = chipsnet.utils.frac_e_vs_par(numu_ccdis_ev, par=\"t_lep_energy\", fit_name=\"numu_ccdis_energy_frac_lep_energy\")\n",
    "axs[1, 1].plot(e_list, std_list)\n",
    "axs[1, 1].label_outer()\n",
    "axs[1, 1].text(8000, 0.15, \"CC-DIS\", rotation=-90)\n",
    "axs[1, 1].set_ylim(0, 0.5)\n",
    "axs[1, 1].grid()\n",
    "e_list, std_list = chipsnet.utils.frac_e_vs_par(numu_ccqel_ev, fit_name=\"numu_ccqel_energy_frac_nu_energy\")\n",
    "axs[2, 1].plot(e_list, std_list)\n",
    "e_list, std_list = chipsnet.utils.frac_e_vs_par(numu_ccqel_ev, par=\"t_lep_energy\", fit_name=\"numu_ccqel_energy_frac_lep_energy\")\n",
    "axs[2, 1].plot(e_list, std_list)\n",
    "axs[2, 1].label_outer()\n",
    "axs[2, 1].text(8000, 0.15, \"CC-QEL\", rotation=-90)\n",
    "axs[2, 1].set_ylim(0, 0.5)\n",
    "axs[2, 1].grid()\n",
    "e_list, std_list = chipsnet.utils.frac_e_vs_par(numu_ccres_ev, fit_name=\"numu_ccres_energy_frac_nu_energy\")\n",
    "axs[3, 1].plot(e_list, std_list)\n",
    "e_list, std_list = chipsnet.utils.frac_e_vs_par(numu_ccres_ev, par=\"t_lep_energy\", fit_name=\"numu_ccres_energy_frac_lep_energy\")\n",
    "axs[3, 1].plot(e_list, std_list)\n",
    "axs[3, 1].label_outer()\n",
    "axs[3, 1].text(8000, 0.15, \"CC-RES\", rotation=-90)\n",
    "axs[3, 1].set_ylim(0, 0.5)\n",
    "axs[3, 1].grid()\n",
    "e_list, std_list = chipsnet.utils.frac_e_vs_par(numu_ccmec_ev, fit_name=\"numu_ccmec_energy_frac_nu_energy\")\n",
    "axs[4, 1].plot(e_list, std_list)\n",
    "e_list, std_list = chipsnet.utils.frac_e_vs_par(numu_ccmec_ev, par=\"t_lep_energy\", fit_name=\"numu_ccmec_energy_frac_lep_energy\")\n",
    "axs[4, 1].plot(e_list, std_list)\n",
    "axs[4, 1].label_outer()\n",
    "axs[4, 1].text(8000, 0.15, \"CC-MEC\", rotation=-90)\n",
    "axs[4, 1].set_ylim(0, 0.5)\n",
    "axs[4, 1].grid()\n",
    "e_list, std_list = chipsnet.utils.frac_e_vs_par(numu_ccqelmec_ev, fit_name=\"numu_ccqelmec_energy_frac_nu_energy\")\n",
    "axs[5, 1].plot(e_list, std_list)\n",
    "e_list, std_list = chipsnet.utils.frac_e_vs_par(numu_ccqelmec_ev, par=\"t_lep_energy\", fit_name=\"numu_ccqelmec_energy_frac_lep_energy\")\n",
    "axs[5, 1].plot(e_list, std_list)\n",
    "axs[5, 1].label_outer()\n",
    "axs[5, 1].set(xlabel=r\"Neutrino energy (MeV)\")\n",
    "axs[5, 1].text(8000, 0.15, \"CC-QELMEC\", rotation=-90)\n",
    "axs[5, 1].set_ylim(0, 0.5)\n",
    "axs[5, 1].grid()\n",
    "chipsnet.plotting.save(save_path + \"true_vs_frac_energy\")"
   ]
  },
  {
   "cell_type": "code",
   "execution_count": null,
   "metadata": {},
   "outputs": [],
   "source": [
    "fig, axs = plt.subplots(5, 2, figsize=(10, 20), gridspec_kw={\"hspace\": 0.1, \"wspace\": 0.1})\n",
    "e_list, std_list = chipsnet.utils.frac_e_vs_par(nuel_cccoh_ev, par=\"t_vtx_x\", low=-1250, high=1250, bin_size=100, fit_name=\"nuel_cccoh_energy_frac_nu_energy\")\n",
    "axs[0, 0].plot(e_list, std_list)\n",
    "e_list, std_list = chipsnet.utils.frac_e_vs_par(nuel_cccoh_ev[(nuel_cccoh_ev[\"t_lep_energy\"] > 0.0)], par=\"t_vtx_x\", low=-1250, high=1250, bin_size=100, fit_name=\"nuel_cccoh_energy_frac_lep_energy\")\n",
    "axs[0, 0].plot(e_list, std_list)\n",
    "axs[0, 0].label_outer()\n",
    "axs[0, 0].set(ylabel=r\"(True-reco)/true E\")\n",
    "axs[0, 0].set_title(r\"nuel\")\n",
    "axs[0, 0].set_ylim(0, 0.5)\n",
    "axs[0, 0].grid()\n",
    "e_list, std_list = chipsnet.utils.frac_e_vs_par(nuel_ccdis_ev, par=\"t_vtx_x\", low=-1250, high=1250, bin_size=100, fit_name=\"nuel_ccdis_energy_frac_nu_energy\")\n",
    "axs[1, 0].plot(e_list, std_list)\n",
    "e_list, std_list = chipsnet.utils.frac_e_vs_par(nuel_ccdis_ev[(nuel_ccdis_ev[\"t_lep_energy\"] > 0.0)], par=\"t_vtx_x\", low=-1250, high=1250, bin_size=100, fit_name=\"nuel_ccdis_energy_frac_lep_energy\")\n",
    "axs[1, 0].plot(e_list, std_list)\n",
    "axs[1, 0].label_outer()\n",
    "axs[1, 0].set(ylabel=r\"(True-reco)/true E\")\n",
    "axs[1, 0].set_ylim(0, 0.5)\n",
    "axs[1, 0].grid()\n",
    "e_list, std_list = chipsnet.utils.frac_e_vs_par(nuel_ccqel_ev, par=\"t_vtx_x\", low=-1250, high=1250, bin_size=100, fit_name=\"nuel_ccqel_energy_frac_nu_energy\")\n",
    "axs[2, 0].plot(e_list, std_list)\n",
    "e_list, std_list = chipsnet.utils.frac_e_vs_par(nuel_ccqel_ev[(nuel_ccqel_ev[\"t_lep_energy\"] > 0.0)], par=\"t_vtx_x\", low=-1250, high=1250, bin_size=100, fit_name=\"nuel_ccqel_energy_frac_lep_energy\")\n",
    "axs[2, 0].plot(e_list, std_list)\n",
    "axs[2, 0].label_outer()\n",
    "axs[2, 0].set(ylabel=r\"(True-reco)/true E\")\n",
    "axs[2, 0].set_ylim(0, 0.5)\n",
    "axs[2, 0].grid()\n",
    "e_list, std_list = chipsnet.utils.frac_e_vs_par(nuel_ccres_ev, par=\"t_vtx_x\", low=-1250, high=1250, bin_size=100, fit_name=\"nuel_ccres_energy_frac_nu_energy\")\n",
    "axs[3, 0].plot(e_list, std_list)\n",
    "e_list, std_list = chipsnet.utils.frac_e_vs_par(nuel_ccres_ev[(nuel_ccres_ev[\"t_lep_energy\"] > 0.0)], par=\"t_vtx_x\", low=-1250, high=1250, bin_size=100, fit_name=\"nuel_ccres_energy_frac_lep_energy\")\n",
    "axs[3, 0].plot(e_list, std_list)\n",
    "axs[3, 0].label_outer()\n",
    "axs[3, 0].set(ylabel=r\"(True-reco)/true E\")\n",
    "axs[3, 0].set_ylim(0, 0.5)\n",
    "axs[3, 0].grid()\n",
    "e_list, std_list = chipsnet.utils.frac_e_vs_par(nuel_ccmec_ev, par=\"t_vtx_x\", low=-1250, high=1250, bin_size=100, fit_name=\"nuel_ccmec_energy_frac_nu_energy\")\n",
    "axs[4, 0].plot(e_list, std_list)\n",
    "e_list, std_list = chipsnet.utils.frac_e_vs_par(nuel_ccmec_ev[(nuel_ccmec_ev[\"t_lep_energy\"] > 0.0)], par=\"t_vtx_x\", low=-1250, high=1250, bin_size=100, fit_name=\"nuel_ccmec_energy_frac_lep_energy\")\n",
    "axs[4, 0].plot(e_list, std_list)\n",
    "axs[4, 0].label_outer()\n",
    "axs[4, 0].set(xlabel=r\"Vertex x-position (cm)\", ylabel=r\"(True-reco)/true E\")\n",
    "axs[4, 0].set_ylim(0, 0.5)\n",
    "axs[4, 0].grid()\n",
    "e_list, std_list = chipsnet.utils.frac_e_vs_par(numu_cccoh_ev, par=\"t_vtx_x\", low=-1250, high=1250, bin_size=100, fit_name=\"numu_cccoh_energy_frac_nu_energy\")\n",
    "axs[0, 1].plot(e_list, std_list)\n",
    "e_list, std_list = chipsnet.utils.frac_e_vs_par(numu_cccoh_ev[(numu_cccoh_ev[\"t_lep_energy\"] > 0.0)], par=\"t_vtx_x\", low=-1250, high=1250, bin_size=100, fit_name=\"numu_cccoh_energy_frac_lep_energy\")\n",
    "axs[0, 1].plot(e_list, std_list)\n",
    "axs[0, 1].label_outer()\n",
    "axs[0, 1].set_title(r\"numu\")\n",
    "axs[0, 1].text(1200, 0.15, \"CC-COH\", rotation=-90)\n",
    "axs[0, 1].set_ylim(0, 0.5)\n",
    "axs[0, 1].grid()\n",
    "e_list, std_list = chipsnet.utils.frac_e_vs_par(numu_ccdis_ev, par=\"t_vtx_x\", low=-1250, high=1250, bin_size=100, fit_name=\"numu_ccdis_energy_frac_nu_energy\")\n",
    "axs[1, 1].plot(e_list, std_list)\n",
    "e_list, std_list = chipsnet.utils.frac_e_vs_par(numu_ccdis_ev[(numu_ccdis_ev[\"t_lep_energy\"] > 0.0)], par=\"t_vtx_x\", low=-1250, high=1250, bin_size=100, fit_name=\"numu_ccdis_energy_frac_lep_energy\")\n",
    "axs[1, 1].plot(e_list, std_list)\n",
    "axs[1, 1].label_outer()\n",
    "axs[1, 1].text(1200, 0.15, \"CC-DIS\", rotation=-90)\n",
    "axs[1, 1].set_ylim(0, 0.5)\n",
    "axs[1, 1].grid()\n",
    "e_list, std_list = chipsnet.utils.frac_e_vs_par(numu_ccqel_ev, par=\"t_vtx_x\", low=-1250, high=1250, bin_size=100, fit_name=\"numu_ccqel_energy_frac_nu_energy\")\n",
    "axs[2, 1].plot(e_list, std_list)\n",
    "e_list, std_list = chipsnet.utils.frac_e_vs_par(numu_ccqel_ev[(numu_ccqel_ev[\"t_lep_energy\"] > 0.0)], par=\"t_vtx_x\", low=-1250, high=1250, bin_size=100, fit_name=\"numu_ccqel_energy_frac_lep_energy\")\n",
    "axs[2, 1].plot(e_list, std_list)\n",
    "axs[2, 1].label_outer()\n",
    "axs[2, 1].text(1200, 0.15, \"CC-QEL\", rotation=-90)\n",
    "axs[2, 1].set_ylim(0, 0.5)\n",
    "axs[2, 1].grid()\n",
    "e_list, std_list = chipsnet.utils.frac_e_vs_par(numu_ccres_ev, par=\"t_vtx_x\", low=-1250, high=1250, bin_size=100, fit_name=\"numu_ccres_energy_frac_nu_energy\")\n",
    "axs[3, 1].plot(e_list, std_list)\n",
    "e_list, std_list = chipsnet.utils.frac_e_vs_par(numu_ccres_ev[(numu_ccres_ev[\"t_lep_energy\"] > 0.0)], par=\"t_vtx_x\", low=-1250, high=1250, bin_size=100, fit_name=\"numu_ccres_energy_frac_lep_energy\")\n",
    "axs[3, 1].plot(e_list, std_list)\n",
    "axs[3, 1].label_outer()\n",
    "axs[3, 1].text(1200, 0.15, \"CC-RES\", rotation=-90)\n",
    "axs[3, 1].set_ylim(0, 0.5)\n",
    "axs[3, 1].grid()\n",
    "e_list, std_list = chipsnet.utils.frac_e_vs_par(numu_ccmec_ev, par=\"t_vtx_x\", low=-1250, high=1250, bin_size=100, fit_name=\"numu_ccmec_energy_frac_nu_energy\")\n",
    "axs[4, 1].plot(e_list, std_list)\n",
    "e_list, std_list = chipsnet.utils.frac_e_vs_par(numu_ccmec_ev[(numu_ccmec_ev[\"t_lep_energy\"] > 0.0)], par=\"t_vtx_x\", low=-1250, high=1250, bin_size=100, fit_name=\"numu_ccmec_energy_frac_lep_energy\")\n",
    "axs[4, 1].plot(e_list, std_list)\n",
    "axs[4, 1].label_outer()\n",
    "axs[4, 1].set(xlabel=r\"Vertex x-position (cm)\")\n",
    "axs[4, 1].text(1200, 0.15, \"CC-MEC\", rotation=-90)\n",
    "axs[4, 1].set_ylim(0, 0.5)\n",
    "axs[4, 1].grid()\n",
    "chipsnet.plotting.save(save_path + \"vtx_vs_frac_energy\")"
   ]
  },
  {
   "cell_type": "code",
   "execution_count": null,
   "metadata": {},
   "outputs": [],
   "source": [
    "# Tidy up\n",
    "del nuel_cccoh_ev\n",
    "del nuel_ccdis_ev\n",
    "del nuel_ccqel_ev\n",
    "del nuel_ccres_ev\n",
    "del nuel_ccmec_ev\n",
    "del nuel_ccqelmec_ev\n",
    "del numu_cccoh_ev\n",
    "del numu_ccdis_ev\n",
    "del numu_ccqel_ev\n",
    "del numu_ccres_ev\n",
    "del numu_ccmec_ev\n",
    "del numu_ccqelmec_ev\n",
    "del flux_ev"
   ]
  },
  {
   "cell_type": "markdown",
   "metadata": {},
   "source": [
    "<a id='final'></a>"
   ]
  },
  {
   "cell_type": "markdown",
   "metadata": {},
   "source": [
    "## Final performance and comparison with old reco/pid (final)\n",
    "* 1\n",
    "* 2\n",
    "* 3"
   ]
  },
  {
   "cell_type": "code",
   "execution_count": null,
   "metadata": {},
   "outputs": [],
   "source": [
    "data_name = \"flux_cosmic\"\n",
    "cosmic_name = \"cosmic_vtx\"\n",
    "beam_name = \"beam_final\""
   ]
  },
  {
   "cell_type": "code",
   "execution_count": null,
   "metadata": {},
   "outputs": [],
   "source": [
    "# Get the dataframe from the dataset name\n",
    "events = chipsnet.utils.data_from_conf(config, data_name).testing_df(config.eval.examples)"
   ]
  },
  {
   "cell_type": "code",
   "execution_count": null,
   "metadata": {},
   "outputs": [],
   "source": [
    "# Run the cosmic model inference\n",
    "events = chipsnet.utils.run_inference(\n",
    "    events,\n",
    "    chipsnet.utils.model_from_conf(config, cosmic_name),\n",
    "    seperate_channels=config.data.seperate_channels,\n",
    "    reco_pars=config.model.reco_pars\n",
    ")"
   ]
  },
  {
   "cell_type": "code",
   "execution_count": null,
   "metadata": {},
   "outputs": [],
   "source": [
    "# Run the beam model inference\n",
    "events = chipsnet.utils.run_inference(\n",
    "    events,\n",
    "    chipsnet.utils.model_from_conf(config, beam_name),\n",
    "    seperate_channels=config.data.seperate_channels,\n",
    "    reco_pars=config.model.reco_pars\n",
    ")"
   ]
  },
  {
   "cell_type": "code",
   "execution_count": null,
   "metadata": {},
   "outputs": [],
   "source": [
    "# Apply the event weights\n",
    "events = chipsnet.utils.apply_weights(\n",
    "    events,\n",
    "    total_num=config.eval.weights.total,\n",
    "    nuel_frac=config.eval.weights.nuel,\n",
    "    anuel_frac=config.eval.weights.anuel,\n",
    "    numu_frac=config.eval.weights.numu,\n",
    "    anumu_frac=config.eval.weights.anumu,\n",
    "    cosmic_frac=config.eval.weights.cosmic,\n",
    "    verbose=True,\n",
    ")"
   ]
  },
  {
   "cell_type": "code",
   "execution_count": null,
   "metadata": {},
   "outputs": [],
   "source": [
    "# Apply the standard cuts\n",
    "events = chipsnet.utils.apply_standard_cuts(\n",
    "    events,\n",
    "    cosmic_cut=config.eval.cuts.cosmic,\n",
    "    q_cut=config.eval.cuts.q,\n",
    "    h_cut=config.eval.cuts.h,\n",
    "    theta_cut=config.eval.cuts.theta,\n",
    "    phi_cut=config.eval.cuts.phi,\n",
    "    verbose=True,\n",
    ")"
   ]
  },
  {
   "cell_type": "code",
   "execution_count": null,
   "metadata": {},
   "outputs": [],
   "source": [
    "# Run curve calculation\n",
    "curves_output = chipsnet.utils.calculate_curves(events, verbose=True)\n",
    "outputs = {\n",
    "    \"cuts\": curves_output[\"cuts\"],\n",
    "    \"sig_effs\": curves_output[\"sig_effs\"],\n",
    "    \"bkg_effs\": curves_output[\"bkg_effs\"],\n",
    "    \"purs\": curves_output[\"purs\"],\n",
    "    \"foms\": curves_output[\"foms\"],\n",
    "    \"fom_effs\": curves_output[\"fom_effs\"],\n",
    "    \"fom_purs\": curves_output[\"fom_purs\"],\n",
    "    \"sig_effs_auc\": curves_output[\"sig_effs_auc\"],\n",
    "    \"bkg_effs_auc\": curves_output[\"bkg_effs_auc\"],\n",
    "    \"pur_auc\": curves_output[\"pur_auc\"],\n",
    "    \"fom_auc\": curves_output[\"fom_auc\"],\n",
    "    \"roc_auc\": curves_output[\"roc_auc\"],\n",
    "}"
   ]
  },
  {
   "cell_type": "code",
   "execution_count": null,
   "metadata": {},
   "outputs": [],
   "source": [
    "chipsnet.plotting.plot_history(config, \"repr_v_ct\", save_path+\"repr_history\")"
   ]
  },
  {
   "cell_type": "code",
   "execution_count": null,
   "metadata": {},
   "outputs": [],
   "source": [
    "def combined_process(config, data_name, cosmic_name, beam_name):\n",
    "\n",
    "    \n",
    "\n",
    "\n",
    "    \n",
    "\n",
    "    \n",
    "    # TODO: THINK ABOUT HOW TO DO CLASSIFICATION CORRECTLY, not just >0.5\n",
    "    # DO WE NEED TWO, ONE FOR COMB AND ONE MORE SPECIFIC\n",
    "    class_prefix = \"pred_t_comb_cat_\"\n",
    "    events[\"comb_cat_class\"] = events.apply(\n",
    "        chipsnet.utils.classify, axis=1, args=(3, class_prefix)\n",
    "    )\n",
    "    class_prefix = \"pred_t_nu_nc_cat_\"\n",
    "    events[\"nu_nc_cat_class\"] = events.apply(\n",
    "        chipsnet.utils.classify, axis=1, args=(18, class_prefix),\n",
    "    )\n",
    "    \n",
    "    # Calculate classification reports\n",
    "    comb_report = classification_report(\n",
    "        events[\"t_comb_cat\"],\n",
    "        events[\"comb_cat_class\"],\n",
    "        labels=[x for x in range(4)],\n",
    "        target_names=chipsnet.data.MAP_FULL_COMB_CAT[\"labels\"],\n",
    "        sample_weight=events[\"w\"],\n",
    "        zero_division=0,\n",
    "    )\n",
    "    print(comb_report)\n",
    "    cat_report = classification_report(\n",
    "        events[\"t_nu_nc_cat\"],\n",
    "        events[\"nu_nc_cat_class\"],\n",
    "        labels=[x for x in range(19)],\n",
    "        target_names=chipsnet.data.MAP_NU_NC_COMB_CAT[\"labels\"],\n",
    "        sample_weight=events[\"w\"],\n",
    "        zero_division=0,\n",
    "    )\n",
    "    print(cat_report)\n",
    "    \n",
    "    # Calculate confusion matrices\n",
    "    matrix_comb = confusion_matrix(\n",
    "        events[\"t_comb_cat\"],\n",
    "        events[\"comb_cat_class\"],\n",
    "        labels=[x for x in range(4)],\n",
    "        sample_weight=events[\"w\"],\n",
    "        normalize=\"true\",\n",
    "    )\n",
    "    matrix_comb = np.rot90(matrix_comb, 1)\n",
    "    matrix_comb = pd.DataFrame(matrix_comb)\n",
    "    outputs[\"comb_matrices\"] = [matrix_comb]\n",
    "\n",
    "    matrix_full = confusion_matrix(\n",
    "        events[\"t_nu_nc_cat\"],\n",
    "        events[\"nu_nc_cat_class\"],\n",
    "        labels=[x for x in range(19)],\n",
    "        sample_weight=events[\"w\"],\n",
    "        normalize=\"true\",\n",
    "    )\n",
    "    matrix_full = np.rot90(matrix_full, 1)\n",
    "    matrix_full = pd.DataFrame(matrix_full)\n",
    "    outputs[\"all_matrices\"] = [matrix_full]\n",
    "    \n",
    "    return events, outputs"
   ]
  },
  {
   "cell_type": "code",
   "execution_count": null,
   "metadata": {},
   "outputs": [],
   "source": [
    "events, outputs = chipsnet.utils.process_ds(\n",
    "    config, \"flux_cosmic\", \n",
    "    [\"cosmic_vtx\", \"beam_final\"],\n",
    "    [\"t_cosmic_cat\", \"t_comb_cat\"],\n",
    "    verbose=True\n",
    ")"
   ]
  },
  {
   "cell_type": "code",
   "execution_count": null,
   "metadata": {},
   "outputs": [],
   "source": [
    "events.columns"
   ]
  },
  {
   "cell_type": "code",
   "execution_count": null,
   "metadata": {},
   "outputs": [],
   "source": [
    "# Tidy up\n",
    "del events, outputs"
   ]
  },
  {
   "cell_type": "code",
   "execution_count": null,
   "metadata": {},
   "outputs": [],
   "source": [
    "def combined_process(config, data_name, cosmic_name, beam_name):\n",
    "    # Get the dataframe from the dataset name\n",
    "    events = chipsnet.utils.data_from_conf(config, data_name).testing_df(config.eval.examples)\n",
    "    \n",
    "    # Run the cosmic model inference\n",
    "    events = chipsnet.utils.run_inference(\n",
    "        events,\n",
    "        chipsnet.utils.model_from_conf(config, cosmic_name),\n",
    "        unstack=config.data.unstack,\n",
    "        reco_pars=config.model.reco_pars\n",
    "    )\n",
    "    \n",
    "    # Run the beam model inference\n",
    "    events = chipsnet.utils.run_inference(\n",
    "        events,\n",
    "        chipsnet.utils.model_from_conf(config, beam_name),\n",
    "        unstack=config.data.unstack,\n",
    "        reco_pars=config.model.reco_pars\n",
    "    )\n",
    "    \n",
    "    # Apply the event weights\n",
    "    events = chipsnet.utils.apply_weights(\n",
    "        events,\n",
    "        total_num=config.eval.weights.total,\n",
    "        nuel_frac=config.eval.weights.nuel,\n",
    "        anuel_frac=config.eval.weights.anuel,\n",
    "        numu_frac=config.eval.weights.numu,\n",
    "        anumu_frac=config.eval.weights.anumu,\n",
    "        cosmic_frac=config.eval.weights.cosmic,\n",
    "        verbose=True,\n",
    "    )\n",
    "\n",
    "    # Apply the standard cuts\n",
    "    events = chipsnet.utils.apply_standard_cuts(\n",
    "        events,\n",
    "        cosmic_cut=config.eval.cuts.cosmic,\n",
    "        q_cut=config.eval.cuts.q,\n",
    "        h_cut=config.eval.cuts.h,\n",
    "        theta_cut=config.eval.cuts.theta,\n",
    "        phi_cut=config.eval.cuts.phi,\n",
    "        verbose=True,\n",
    "    )\n",
    "    \n",
    "    # Combine beam categories into fully combined ones\n",
    "    events = chipsnet.utils.full_comb_combine(events, \"t_nu_nc_cat\")\n",
    "    \n",
    "    # Run curve calculation\n",
    "    curves_output = chipsnet.utils.calculate_curves(events, verbose=True)\n",
    "    outputs = {\n",
    "        \"cuts\": [curves_output[\"cuts\"]],\n",
    "        \"sig_effs\": [curves_output[\"sig_effs\"]],\n",
    "        \"bkg_effs\": [curves_output[\"bkg_effs\"]],\n",
    "        \"purs\": [curves_output[\"purs\"]],\n",
    "        \"foms\": [curves_output[\"foms\"]],\n",
    "        \"fom_effs\": [curves_output[\"fom_effs\"]],\n",
    "        \"fom_purs\": [curves_output[\"fom_purs\"]],\n",
    "        \"sig_effs_auc\": [curves_output[\"sig_effs_auc\"]],\n",
    "        \"bkg_effs_auc\": [curves_output[\"bkg_effs_auc\"]],\n",
    "        \"pur_auc\": [curves_output[\"pur_auc\"]],\n",
    "        \"fom_auc\": [curves_output[\"fom_auc\"]],\n",
    "        \"roc_auc\": [curves_output[\"roc_auc\"]],\n",
    "        \"comb_matrices\": [],\n",
    "        \"all_matrices\": []\n",
    "    }\n",
    "    \n",
    "    # TODO: THINK ABOUT HOW TO DO CLASSIFICATION CORRECTLY, not just >0.5\n",
    "    # DO WE NEED TWO, ONE FOR COMB AND ONE MORE SPECIFIC\n",
    "    class_prefix = \"pred_t_comb_cat_\"\n",
    "    events[\"comb_cat_class\"] = events.apply(\n",
    "        chipsnet.utils.classify, axis=1, args=(3, class_prefix)\n",
    "    )\n",
    "    class_prefix = \"pred_t_nu_nc_cat_\"\n",
    "    events[\"nu_nc_cat_class\"] = events.apply(\n",
    "        chipsnet.utils.classify, axis=1, args=(18, class_prefix),\n",
    "    )\n",
    "    \n",
    "    # Calculate classification reports\n",
    "    comb_report = classification_report(\n",
    "        events[\"t_comb_cat\"],\n",
    "        events[\"comb_cat_class\"],\n",
    "        labels=[x for x in range(4)],\n",
    "        target_names=chipsnet.data.MAP_FULL_COMB_CAT[\"labels\"],\n",
    "        sample_weight=events[\"w\"],\n",
    "        zero_division=0,\n",
    "    )\n",
    "    print(comb_report)\n",
    "    cat_report = classification_report(\n",
    "        events[\"t_nu_nc_cat\"],\n",
    "        events[\"nu_nc_cat_class\"],\n",
    "        labels=[x for x in range(19)],\n",
    "        target_names=chipsnet.data.MAP_NU_NC_COMB_CAT[\"labels\"],\n",
    "        sample_weight=events[\"w\"],\n",
    "        zero_division=0,\n",
    "    )\n",
    "    print(cat_report)\n",
    "    \n",
    "    # Calculate confusion matrices\n",
    "    matrix_comb = confusion_matrix(\n",
    "        events[\"t_comb_cat\"],\n",
    "        events[\"comb_cat_class\"],\n",
    "        labels=[x for x in range(4)],\n",
    "        sample_weight=events[\"w\"],\n",
    "        normalize=\"true\",\n",
    "    )\n",
    "    matrix_comb = np.rot90(matrix_comb, 1)\n",
    "    matrix_comb = pd.DataFrame(matrix_comb)\n",
    "    outputs[\"comb_matrices\"] = [matrix_comb]\n",
    "\n",
    "    matrix_full = confusion_matrix(\n",
    "        events[\"t_nu_nc_cat\"],\n",
    "        events[\"nu_nc_cat_class\"],\n",
    "        labels=[x for x in range(19)],\n",
    "        sample_weight=events[\"w\"],\n",
    "        normalize=\"true\",\n",
    "    )\n",
    "    matrix_full = np.rot90(matrix_full, 1)\n",
    "    matrix_full = pd.DataFrame(matrix_full)\n",
    "    outputs[\"all_matrices\"] = [matrix_full]\n",
    "    \n",
    "    return events, outputs"
   ]
  },
  {
   "cell_type": "code",
   "execution_count": null,
   "metadata": {},
   "outputs": [],
   "source": [
    "events, outputs = combined_process(config, \"flux_cosmic\", \"cosmic_vtx\", \"beam_primaries\")"
   ]
  },
  {
   "cell_type": "code",
   "execution_count": null,
   "metadata": {},
   "outputs": [],
   "source": [
    "plt.figure(figsize=(10, 10))\n",
    "sns.heatmap(\n",
    "    outputs[\"comb_matrices\"][0],\n",
    "    annot=True, \n",
    "    vmin=0.0, \n",
    "    vmax=1.0,\n",
    "    xticklabels=chipsnet.data.MAP_FULL_COMB_CAT[\"labels\"],\n",
    "    yticklabels=chipsnet.data.MAP_FULL_COMB_CAT[\"labels\"][::-1],\n",
    "    cbar=False,\n",
    "    square=True,\n",
    "    linewidth=1,\n",
    "    linecolor=\"grey\",\n",
    "    cmap=\"Reds\")\n",
    "plt.tick_params(axis='both', which='both',\n",
    "                bottom=False, top=False, left=False, right=False)\n",
    "plt.xlabel('True category', fontsize = 30)\n",
    "plt.ylabel('Predicted category', fontsize = 30)\n",
    "plt.show()"
   ]
  },
  {
   "cell_type": "code",
   "execution_count": null,
   "metadata": {},
   "outputs": [],
   "source": [
    "fig, axs = plt.subplots(1, 1, figsize=(10, 10))\n",
    "sns.heatmap(\n",
    "    outputs[\"all_matrices\"][0],\n",
    "    annot=False, \n",
    "    vmin=0.0, \n",
    "    vmax=1.0,\n",
    "    xticklabels=chipsnet.data.MAP_NU_NC_COMB_CAT[\"labels\"],\n",
    "    yticklabels=chipsnet.data.MAP_NU_NC_COMB_CAT[\"labels\"][::-1],\n",
    "    cbar=False,\n",
    "    square=True,\n",
    "    linewidth=1,\n",
    "    linecolor=\"grey\",\n",
    "    cmap=\"Reds\")\n",
    "axs.tick_params(axis='both', which='both',\n",
    "                bottom=False, top=False, left=False, right=False)\n",
    "axs.set_xlabel('True category', fontsize = 30)\n",
    "axs.set_ylabel('Predicted category', fontsize = 30)\n",
    "axs.add_patch(patches.Rectangle((0, 13), 6, 6, linewidth=3, edgecolor='black', facecolor='none'))\n",
    "axs.add_patch(patches.Rectangle((6, 7), 6, 6, linewidth=3, edgecolor='black', facecolor='none'))\n",
    "axs.add_patch(patches.Rectangle((12, 1), 6, 6, linewidth=3, edgecolor='black', facecolor='none'))\n",
    "axs.add_patch(patches.Rectangle((18, 0), 1, 1, linewidth=3, edgecolor='black', facecolor='none'))\n",
    "plt.show()"
   ]
  },
  {
   "cell_type": "code",
   "execution_count": null,
   "metadata": {},
   "outputs": [],
   "source": [
    "chipsnet.plotting.plot_curves([outputs], save_path+\"final_curves\")"
   ]
  },
  {
   "cell_type": "code",
   "execution_count": null,
   "metadata": {},
   "outputs": [],
   "source": [
    "chipsnet.plotting.plot_e_hists([outputs], events, save_path+\"final_hists\")"
   ]
  },
  {
   "cell_type": "code",
   "execution_count": null,
   "metadata": {},
   "outputs": [],
   "source": [
    "chipsnet.plotting.plot_history_comparison(config, [\"cosmic_vtx\", \"beam_primaries\"], save_path+\"final_history\")"
   ]
  },
  {
   "cell_type": "code",
   "execution_count": null,
   "metadata": {},
   "outputs": [],
   "source": [
    "# Tidy up\n",
    "del final_ev, final_out"
   ]
  },
  {
   "cell_type": "markdown",
   "metadata": {},
   "source": [
    "# Explainability and resilience"
   ]
  },
  {
   "cell_type": "markdown",
   "metadata": {},
   "source": [
    "<a id='cosmic_calib'></a>"
   ]
  },
  {
   "cell_type": "markdown",
   "metadata": {},
   "source": [
    "## Model calibration sensitivity: cosmic classification (cosmic_calib)\n",
    "* 1\n",
    "* 2\n",
    "* 3"
   ]
  },
  {
   "cell_type": "code",
   "execution_count": null,
   "metadata": {},
   "outputs": [],
   "source": [
    "ev_0, out_0 = chipsnet.utils.process_ds(config, \"flux_cosmic\", [\"cosmic_vtx\"], model_cats=[\"t_cosmic_cat\"], verbose=True)\n",
    "ev_10, out_10 = chipsnet.utils.process_ds(config, \"flux_cosmic_factor_10\", [\"cosmic_vtx\"], model_cats=[\"t_cosmic_cat\"], verbose=True)\n",
    "ev_20, out_20 = chipsnet.utils.process_ds(config, \"flux_cosmic_factor_20\", [\"cosmic_vtx\"], model_cats=[\"t_cosmic_cat\"], verbose=True)\n",
    "ev_50, out_50 = chipsnet.utils.process_ds(config, \"flux_cosmic_factor_50\", [\"cosmic_vtx\"], model_cats=[\"t_cosmic_cat\"], verbose=True)"
   ]
  },
  {
   "cell_type": "code",
   "execution_count": null,
   "metadata": {},
   "outputs": [],
   "source": [
    "# Tidy up\n",
    "del ev_0, out_0\n",
    "del ev_10, out_10\n",
    "del ev_20, out_20\n",
    "del ev_50, out_50"
   ]
  },
  {
   "cell_type": "markdown",
   "metadata": {},
   "source": [
    "<a id='beam_calib'></a>"
   ]
  },
  {
   "cell_type": "markdown",
   "metadata": {},
   "source": [
    "## Model calibration sensitivity: beam classification (beam_calib)\n",
    "* 1\n",
    "* 2\n",
    "* 3"
   ]
  },
  {
   "cell_type": "code",
   "execution_count": null,
   "metadata": {},
   "outputs": [],
   "source": [
    "ev_0, out_0 = chipsnet.utils.process_ds(config, \"flux\", [\"beam_primaries\"])\n",
    "ev_10, out_10 = chipsnet.utils.process_ds(config, \"flux_factor_10\", [\"beam_primaries\"])\n",
    "ev_20, out_20 = chipsnet.utils.process_ds(config, \"flux_factor_20\", [\"beam_primaries\"])\n",
    "ev_50, out_50 = chipsnet.utils.process_ds(config, \"flux_factor_50\", [\"beam_primaries\"])"
   ]
  },
  {
   "cell_type": "code",
   "execution_count": null,
   "metadata": {},
   "outputs": [],
   "source": [
    "chipsnet.plotting.plot_curves([out_0[0], out_10[0], out_20[0], out_50[0]], save_path+\"beam_calib_curves\")"
   ]
  },
  {
   "cell_type": "code",
   "execution_count": null,
   "metadata": {},
   "outputs": [],
   "source": [
    "chipsnet.plotting.plot_e_hists([out_0[0], out_10[0], out_20[0], out_50[0]], ev_0, save_path+\"beam_calib_hists\")"
   ]
  },
  {
   "cell_type": "code",
   "execution_count": null,
   "metadata": {},
   "outputs": [],
   "source": [
    "chipsnet.utils.print_output_comparison([out_0[0], out_10[0], out_20[0], out_50[0]])"
   ]
  },
  {
   "cell_type": "code",
   "execution_count": null,
   "metadata": {},
   "outputs": [],
   "source": [
    "# Tidy up\n",
    "del ev_0, out_0\n",
    "del ev_10, out_10\n",
    "del ev_20, out_20\n",
    "del ev_50, out_50"
   ]
  },
  {
   "cell_type": "markdown",
   "metadata": {},
   "source": [
    "<a id='energy_calib'></a>"
   ]
  },
  {
   "cell_type": "markdown",
   "metadata": {},
   "source": [
    "## Model calibration sensitivity: energy estimation (energy_calib)\n",
    "* 1\n",
    "* 2\n",
    "* 3"
   ]
  },
  {
   "cell_type": "code",
   "execution_count": null,
   "metadata": {},
   "outputs": [],
   "source": [
    "ev_0, out_0 = chipsnet.utils.predict_energies(config, \"flux\", [\"nuel_cc_energy\"])\n",
    "ev_10, out_10 = chipsnet.utils.predict_energies(config, \"flux_factor_10\", [\"nuel_cc_energy\"])\n",
    "ev_20, out_20 = chipsnet.utils.predict_energies(config, \"flux_factor_20\", [\"nuel_cc_energy\"])\n",
    "ev_50, out_50 = chipsnet.utils.predict_energies(config, \"flux_factor_50\", [\"nuel_cc_energy\"])"
   ]
  },
  {
   "cell_type": "code",
   "execution_count": null,
   "metadata": {},
   "outputs": [],
   "source": [
    "e_range = [[0, 8000], [0, 8000]]\n",
    "e_bins = [40, 40]\n",
    "fig, axs = plt.subplots(1, 4, figsize=(20, 4), gridspec_kw={\"hspace\": 0.1, \"wspace\": 0.1})\n",
    "axs[0].hist2d(v_cth_flux_ev[v_cth_flux_ev[\"t_comb_cat\"] == 0][\"t_nuEnergy\"], v_cth_flux_ev[v_cth_flux_ev[\"t_comb_cat\"] == 0][\"nuel_cc_energy_pred_t_nuEnergy\"],\n",
    "              range=e_range, bins=e_bins, weights=v_cth_flux_ev[v_cth_flux_ev[\"t_comb_cat\"] == 0][\"w\"], cmap=\"Reds\")\n",
    "axs[0].grid()\n",
    "axs[0].label_outer()\n",
    "axs[0].set(xlabel=r\"True energy (MeV)\", ylabel=r\"Reco energy (MeV)\")\n",
    "axs[0].set_title(r\"0\")\n",
    "axs[1].hist2d(v_cth_flux_10_ev[v_cth_flux_10_ev[\"t_comb_cat\"] == 0][\"t_nuEnergy\"], v_cth_flux_10_ev[v_cth_flux_10_ev[\"t_comb_cat\"] == 0][\"nuel_cc_energy_pred_t_nuEnergy\"],\n",
    "              range=e_range, bins=e_bins, weights=v_cth_flux_10_ev[v_cth_flux_10_ev[\"t_comb_cat\"] == 0][\"w\"], cmap=\"Reds\")\n",
    "axs[1].grid()\n",
    "axs[1].label_outer()\n",
    "axs[1].set(xlabel=r\"True energy (MeV)\")\n",
    "axs[1].set_title(r\"10\")\n",
    "axs[2].hist2d(v_cth_flux_20_ev[v_cth_flux_20_ev[\"t_comb_cat\"] == 0][\"t_nuEnergy\"], v_cth_flux_20_ev[v_cth_flux_20_ev[\"t_comb_cat\"] == 0][\"nuel_cc_energy_pred_t_nuEnergy\"],\n",
    "              range=e_range, bins=e_bins, weights=v_cth_flux_20_ev[v_cth_flux_20_ev[\"t_comb_cat\"] == 0][\"w\"], cmap=\"Reds\")\n",
    "axs[2].grid()\n",
    "axs[2].label_outer()\n",
    "axs[2].set(xlabel=r\"True energy (MeV)\")\n",
    "axs[2].set_title(r\"20\")\n",
    "axs[3].hist2d(v_cth_flux_50_ev[v_cth_flux_50_ev[\"t_comb_cat\"] == 0][\"t_nuEnergy\"], v_cth_flux_50_ev[v_cth_flux_50_ev[\"t_comb_cat\"] == 0][\"nuel_cc_energy_pred_t_nuEnergy\"],\n",
    "              range=e_range, bins=e_bins, weights=v_cth_flux_50_ev[v_cth_flux_50_ev[\"t_comb_cat\"] == 0][\"w\"], cmap=\"Reds\")\n",
    "axs[3].grid()\n",
    "axs[3].label_outer()\n",
    "axs[3].set(xlabel=r\"True energy (MeV)\")\n",
    "axs[3].set_title(r\"50\")\n",
    "chipsnet.plotting.save(save_path + \"true_vs_reco_energy_comb\")"
   ]
  },
  {
   "cell_type": "code",
   "execution_count": null,
   "metadata": {},
   "outputs": [],
   "source": [
    "e_range = [[0, 8000], [0, 8000]]\n",
    "e_bins = [40, 40]\n",
    "fig, axs = plt.subplots(1, 4, figsize=(20, 4), gridspec_kw={\"hspace\": 0.1, \"wspace\": 0.1})\n",
    "e_list, std_list = frac_e_vs_e(v_cth_flux_ev)\n",
    "axs[0].plot(e_list, std_list)\n",
    "axs[0].grid()\n",
    "axs[0].label_outer()\n",
    "axs[0].set(xlabel=r\"True energy (MeV)\", ylabel=r\"Reco energy (MeV)\")\n",
    "axs[0].set_title(r\"0\")\n",
    "axs[0].set_ylim(0, 0.5)\n",
    "e_list, std_list = frac_e_vs_e(v_cth_flux_10_ev)\n",
    "axs[1].plot(e_list, std_list)\n",
    "axs[1].grid()\n",
    "axs[1].label_outer()\n",
    "axs[1].set(xlabel=r\"True energy (MeV)\")\n",
    "axs[1].set_title(r\"10\")\n",
    "axs[1].set_ylim(0, 0.5)\n",
    "e_list, std_list = frac_e_vs_e(v_cth_flux_20_ev)\n",
    "axs[2].plot(e_list, std_list)\n",
    "axs[2].grid()\n",
    "axs[2].label_outer()\n",
    "axs[2].set(xlabel=r\"True energy (MeV)\")\n",
    "axs[2].set_title(r\"20\")\n",
    "axs[2].set_ylim(0, 0.5)\n",
    "e_list, std_list = frac_e_vs_e(v_cth_flux_50_ev)\n",
    "axs[3].plot(e_list, std_list)\n",
    "axs[3].grid()\n",
    "axs[3].label_outer()\n",
    "axs[3].set(xlabel=r\"True energy (MeV)\")\n",
    "axs[3].set_title(r\"50\")\n",
    "axs[3].set_ylim(0, 0.5)\n",
    "chipsnet.plotting.save(save_path + \"true_vs_reco_energy_comb\")"
   ]
  },
  {
   "cell_type": "code",
   "execution_count": null,
   "metadata": {},
   "outputs": [],
   "source": [
    "# Tidy up\n",
    "del ev_0, out_0\n",
    "del ev_10, out_10\n",
    "del ev_20, out_20\n",
    "del ev_50, out_50"
   ]
  },
  {
   "cell_type": "markdown",
   "metadata": {},
   "source": [
    "<a id='cosmic_cluster'></a>"
   ]
  },
  {
   "cell_type": "markdown",
   "metadata": {},
   "source": [
    "## Clustering: cosmic classification\n",
    "* 1\n",
    "* 2\n",
    "* 3"
   ]
  },
  {
   "cell_type": "code",
   "execution_count": null,
   "metadata": {},
   "outputs": [],
   "source": [
    "u_ev, u_out = chipsnet.utils.process_ds(config, \"uniform_cosmic\", [\"cosmic_vtx\"], model_cats=[\"t_cosmic_cat\"])\n",
    "cosmic_events = u_ev[u_ev[\"t_cosmic_cat\"] == 1][:5000]\n",
    "beam_events = u_ev[u_ev[\"t_cosmic_cat\"] == 0][:5000]\n",
    "events = pd.concat([cosmic_events, beam_events]).sample(frac=1).reset_index(drop=True)"
   ]
  },
  {
   "cell_type": "code",
   "execution_count": null,
   "metadata": {},
   "outputs": [],
   "source": [
    "pca_model = chipsnet.utils.model_from_conf(config, \"cosmic_vtx\")\n",
    "events = chipsnet.utils.run_pca(events, pca_model, verbose=True, components=2, standardise=True)\n",
    "cat_0_ev = events[events[\"t_cosmic_cat\"] == 0]\n",
    "cat_1_ev = events[events[\"t_cosmic_cat\"] == 1]"
   ]
  },
  {
   "cell_type": "code",
   "execution_count": null,
   "metadata": {},
   "outputs": [],
   "source": [
    "fig, axs = plt.subplots(1, 1, figsize=(8, 8))\n",
    "axs.margins(0.05) # Optional, just adds 5% padding to the autoscaling\n",
    "axs.plot(cat_1_ev.pca_0, cat_1_ev.pca_1, marker='.', linestyle='', ms=12, label=\"cosmic\", alpha=0.5)\n",
    "axs.plot(cat_0_ev.pca_0, cat_0_ev.pca_1, marker='.', linestyle='', ms=12, label=\"not cosmic\", alpha=0.5)\n",
    "axs.legend()\n",
    "axs.set_xlabel('pca-0', fontsize=17)\n",
    "axs.set_ylabel('pca-1', fontsize=17)\n",
    "chipsnet.plotting.save(save_path + \"pca\")"
   ]
  },
  {
   "cell_type": "code",
   "execution_count": null,
   "metadata": {},
   "outputs": [],
   "source": [
    "tsne_model = chipsnet.utils.model_from_conf(config, \"cosmic_vtx\")\n",
    "events = chipsnet.utils.run_tsne(events, tsne_model, components=2, standardise=True, max_events=10000)\n",
    "cat_0_ev = events[events[\"t_cosmic_cat\"] == 0]\n",
    "cat_1_ev = events[events[\"t_cosmic_cat\"] == 1]"
   ]
  },
  {
   "cell_type": "code",
   "execution_count": null,
   "metadata": {},
   "outputs": [],
   "source": [
    "fig, axs = plt.subplots(1, 1, figsize=(8, 8))\n",
    "axs.margins(0.05) # Optional, just adds 5% padding to the autoscaling\n",
    "axs.plot(cat_0_ev.tsne_0, cat_0_ev.tsne_1, marker='.', linestyle='', ms=12, label=\"not cosmic\", alpha=0.5)\n",
    "axs.plot(cat_1_ev.tsne_0, cat_1_ev.tsne_1, marker='.', linestyle='', ms=12, label=\"cosmic\", alpha=0.5)\n",
    "axs.legend()\n",
    "axs.set_xlabel('tsne-0', fontsize=17)\n",
    "axs.set_ylabel('tsne-1', fontsize=17)\n",
    "chipsnet.plotting.save(save_path + \"tsne\")"
   ]
  },
  {
   "cell_type": "code",
   "execution_count": null,
   "metadata": {},
   "outputs": [],
   "source": [
    "# Tidy up\n",
    "del u_ev, u_out, events"
   ]
  },
  {
   "cell_type": "markdown",
   "metadata": {},
   "source": [
    "<a id='beam_cluster'></a>"
   ]
  },
  {
   "cell_type": "markdown",
   "metadata": {},
   "source": [
    "## Clustering: beam classification\n",
    "* 1\n",
    "* 2\n",
    "* 3"
   ]
  },
  {
   "cell_type": "code",
   "execution_count": null,
   "metadata": {},
   "outputs": [],
   "source": [
    "u_ev, u_out = chipsnet.utils.process_ds(config, \"uniform\", [\"beam_primaries\"])\n",
    "nuel_event = u_ev[u_ev[\"t_comb_cat\"] == 0][:5000]\n",
    "numu_events = u_ev[u_ev[\"t_comb_cat\"] == 1][:5000]\n",
    "nc_events = u_ev[u_ev[\"t_comb_cat\"] == 2][:5000]\n",
    "events = pd.concat([nuel_event, numu_events, nc_events]).sample(frac=1).reset_index(drop=True)"
   ]
  },
  {
   "cell_type": "code",
   "execution_count": null,
   "metadata": {},
   "outputs": [],
   "source": [
    "pca_model = chipsnet.utils.model_from_conf(config, \"beam_primaries\")\n",
    "events = chipsnet.utils.run_pca(events, pca_model, verbose=True, components=2, standardise=True)\n",
    "cat_0_ev = events[events[\"t_comb_cat\"] == 0]\n",
    "cat_1_ev = events[events[\"t_comb_cat\"] == 1]\n",
    "cat_2_ev = events[events[\"t_comb_cat\"] == 2]"
   ]
  },
  {
   "cell_type": "code",
   "execution_count": null,
   "metadata": {},
   "outputs": [],
   "source": [
    "fig, axs = plt.subplots(1, 1, figsize=(8, 8))\n",
    "axs.margins(0.05) # Optional, just adds 5% padding to the autoscaling\n",
    "axs.plot(cat_0_ev.pca_0, cat_0_ev.pca_1, marker='.', linestyle='', ms=12, label=\"nuel-cc\", alpha=0.5, color=\"green\")\n",
    "axs.plot(cat_1_ev.pca_0, cat_1_ev.pca_1, marker='.', linestyle='', ms=12, label=\"numu-cc\", alpha=0.5, color=\"blue\")\n",
    "axs.plot(cat_2_ev.pca_0, cat_2_ev.pca_1, marker='.', linestyle='', ms=12, label=\"nc\", alpha=0.5, color=\"red\")\n",
    "axs.legend()\n",
    "axs.set_xlabel('pca-0', fontsize=17)\n",
    "axs.set_ylabel('pca-1', fontsize=17)\n",
    "chipsnet.plotting.save(save_path + \"pca\")"
   ]
  },
  {
   "cell_type": "code",
   "execution_count": null,
   "metadata": {},
   "outputs": [],
   "source": [
    "tsne_model = chipsnet.utils.model_from_conf(config, \"beam_primaries\")\n",
    "events = chipsnet.utils.run_tsne(events, tsne_model, components=2, standardise=True, max_events=10000)\n",
    "cat_0_ev = events[events.t_comb_cat == 0]\n",
    "cat_1_ev = events[events.t_comb_cat == 1]\n",
    "cat_2_ev = events[events.t_comb_cat == 2]"
   ]
  },
  {
   "cell_type": "code",
   "execution_count": null,
   "metadata": {},
   "outputs": [],
   "source": [
    "fig, axs = plt.subplots(1, 1, figsize=(8, 8))\n",
    "axs.margins(0.05) # Optional, just adds 5% padding to the autoscaling\n",
    "axs.plot(cat_0_ev.tsne_0, cat_0_ev.tsne_1, marker='.', linestyle='', ms=12, label=\"nuel-cc\", alpha=0.5, color=\"green\")\n",
    "axs.plot(cat_1_ev.tsne_0, cat_1_ev.tsne_1, marker='.', linestyle='', ms=12, label=\"numu-cc\", alpha=0.5, color=\"blue\")\n",
    "axs.plot(cat_2_ev.tsne_0, cat_2_ev.tsne_1, marker='.', linestyle='', ms=12, label=\"nc\", alpha=0.5, color=\"red\")\n",
    "axs.legend()\n",
    "axs.set_xlabel('tsne-0', fontsize=17)\n",
    "axs.set_ylabel('tsne-1', fontsize=17)\n",
    "chipsnet.plotting.save(save_path + \"tsne\")"
   ]
  },
  {
   "cell_type": "code",
   "execution_count": null,
   "metadata": {},
   "outputs": [],
   "source": [
    "# Tidy up\n",
    "del u_ev, u_out, events"
   ]
  },
  {
   "cell_type": "markdown",
   "metadata": {},
   "source": [
    "<a id='energy_cluster'></a>"
   ]
  },
  {
   "cell_type": "markdown",
   "metadata": {},
   "source": [
    "## Clustering: energy estimation\n",
    "* 1\n",
    "* 2\n",
    "* 3"
   ]
  },
  {
   "cell_type": "code",
   "execution_count": null,
   "metadata": {},
   "outputs": [],
   "source": [
    "u_ev, u_out = chipsnet.utils.predict_energies(config, \"uniform\", [\"beam_primaries\"])"
   ]
  },
  {
   "cell_type": "markdown",
   "metadata": {},
   "source": [
    "<a id='cosmic_explain'></a>"
   ]
  },
  {
   "cell_type": "markdown",
   "metadata": {},
   "source": [
    "## Explanation: cosmic classification\n",
    "* 1\n",
    "* 2\n",
    "* 3"
   ]
  },
  {
   "cell_type": "markdown",
   "metadata": {},
   "source": [
    "<a id='beam_explain'></a>"
   ]
  },
  {
   "cell_type": "markdown",
   "metadata": {},
   "source": [
    "## Explanation: beam classification\n",
    "* 1\n",
    "* 2\n",
    "* 3"
   ]
  },
  {
   "cell_type": "code",
   "execution_count": null,
   "metadata": {},
   "outputs": [],
   "source": [
    "explain_ev, explain_out = chipsnet.utils.process_ds(config, \"stacked_noreco\")"
   ]
  },
  {
   "cell_type": "code",
   "execution_count": null,
   "metadata": {},
   "outputs": [],
   "source": [
    "grad_cam_model = chipsnet.utils.model_from_conf(config, \"explain\")\n",
    "grad_cams_1 = chipsnet.utils.explain_gradcam(explain_ev, grad_cam_model, 10, output=\"t_nu_nc_cat\", layer_name=\"block0_path0_conv1\")\n",
    "grad_cams_2 = chipsnet.utils.explain_gradcam(explain_ev, grad_cam_model, 10, output=\"t_nu_nc_cat\", layer_name=\"block1_path0_conv1\")\n",
    "grad_cams_3 = chipsnet.utils.explain_gradcam(explain_ev, grad_cam_model, 10, output=\"t_nu_nc_cat\", layer_name=\"block2_conv1\")"
   ]
  },
  {
   "cell_type": "code",
   "execution_count": null,
   "metadata": {},
   "outputs": [],
   "source": [
    "event = 2\n",
    "fig, axs = plt.subplots(1, 3, figsize=(15, 12), gridspec_kw={'hspace': 0.3})\n",
    "plt.setp(axs, xticks=[0, 16, 32, 48, 64], yticks=[0, 16, 32, 48, 64])\n",
    "axs[0].imshow(grad_cams_1[event], cmap='Reds', origin='lower')\n",
    "axs[0].set(xlabel='$\\phi$ bins', ylabel='$\\\\theta$ bins', title='GradCam Block 1')\n",
    "axs[1].imshow(grad_cams_2[event], cmap='Reds', origin='lower')\n",
    "axs[1].set(xlabel='$\\phi$ bins', ylabel='$\\\\theta$ bins', title='GradCam Block 2')\n",
    "axs[2].imshow(grad_cams_3[event], cmap='Reds', origin='lower')\n",
    "axs[2].set(xlabel='$\\phi$ bins', ylabel='$\\\\theta$ bins', title='GradCam Block 3')\n",
    "chipsnet.plotting.save(save_path + \"grad_cam\")"
   ]
  },
  {
   "cell_type": "code",
   "execution_count": null,
   "metadata": {},
   "outputs": [],
   "source": [
    "activation_model = chipsnet.utils.model_from_conf(config, \"explain\")\n",
    "activations_1 = chipsnet.utils.explain_activation(explain_ev, activation_model, 10, output=\"t_nu_nc_cat\", layer_name=\"block0_path0_conv1\")\n",
    "activations_2 = chipsnet.utils.explain_activation(explain_ev, activation_model, 10, output=\"t_nu_nc_cat\", layer_name=\"block1_path0_conv1\")\n",
    "activations_3 = chipsnet.utils.explain_activation(explain_ev, activation_model, 10, output=\"t_nu_nc_cat\", layer_name=\"block2_conv1\")"
   ]
  },
  {
   "cell_type": "code",
   "execution_count": null,
   "metadata": {},
   "outputs": [],
   "source": [
    "event = 1\n",
    "fig, axs = plt.subplots(3, 1, figsize=(8, 24))\n",
    "plt.rc('grid', linestyle=\"-\", color='black')\n",
    "\n",
    "axs[0].set_xticks([0, 32, 64, 96, 128, 160, 192, 224, 256])\n",
    "axs[0].set_yticks([0, 32, 64, 96, 128, 160, 192, 224, 256])\n",
    "axs[0].set_xticklabels('')\n",
    "axs[0].set_yticklabels('')\n",
    "extent = (0, 256, 256, 0)\n",
    "axs[0].imshow(activations_1[event], cmap='Reds', origin='lower', extent=extent)\n",
    "axs[0].set_title('Block 1 Activations')\n",
    "axs[0].grid()\n",
    "\n",
    "extent = (0, 192, 192, 0)\n",
    "axs[1].set_xticks([0, 16, 32, 48, 64, 80, 96, 112, 128, 144, 160, 176, 192])\n",
    "axs[1].set_yticks([0, 16, 32, 48, 64, 80, 96, 112, 128, 144, 160, 176, 192])\n",
    "axs[1].set_xticklabels('')\n",
    "axs[1].set_yticklabels('')\n",
    "axs[1].imshow(activations_2[event], cmap='Reds', origin='lower', extent=extent)\n",
    "axs[1].set_title('Block 2 Activations')\n",
    "axs[1].grid()\n",
    "\n",
    "extent = (0, 128, 128, 0)\n",
    "axs[2].set_xticks([0, 8, 16, 24, 32, 40, 48, 56, 64, 72, 80, 88, 96, 104, 112, 120, 128])\n",
    "axs[2].set_yticks([0, 8, 16, 24, 32, 40, 48, 56, 64, 72, 80, 88, 96, 104, 112, 120, 128])\n",
    "axs[2].set_xticklabels('')\n",
    "axs[2].set_yticklabels('')\n",
    "axs[2].imshow(activations_3[event], cmap='Reds', origin='lower', extent=extent)\n",
    "axs[2].set_title('Block 3 Activations')\n",
    "axs[2].grid()\n",
    "\n",
    "chipsnet.plotting.save(save_path + \"activations\")"
   ]
  },
  {
   "cell_type": "code",
   "execution_count": null,
   "metadata": {},
   "outputs": [],
   "source": [
    "# Tidy up\n",
    "del explain_ev, explain_out"
   ]
  },
  {
   "cell_type": "markdown",
   "metadata": {},
   "source": [
    "<a id='energy_explain'></a>"
   ]
  },
  {
   "cell_type": "markdown",
   "metadata": {},
   "source": [
    "## Explanation: energy estimation\n",
    "* 1\n",
    "* 2\n",
    "* 3"
   ]
  }
 ],
 "metadata": {
  "kernelspec": {
   "display_name": "Python 3",
   "language": "python",
   "name": "python3"
  },
  "language_info": {
   "codemirror_mode": {
    "name": "ipython",
    "version": 3
   },
   "file_extension": ".py",
   "mimetype": "text/x-python",
   "name": "python",
   "nbconvert_exporter": "python",
   "pygments_lexer": "ipython3",
   "version": "3.8.3"
  }
 },
 "nbformat": 4,
 "nbformat_minor": 4
}
