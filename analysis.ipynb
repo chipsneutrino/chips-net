{
 "cells": [
  {
   "cell_type": "markdown",
   "metadata": {},
   "source": [
    "# chips-net analysis\n",
    "\n",
    "This notebook contains the full analysis of chipsnet showing the full path taken to the final version...\n",
    "\n",
    "## Finding the best models\n",
    "- [ ] [Exploring the data](#explore)\n",
    "- [ ] [Which image representation is best?](#repr)\n",
    "- [ ] [Which channel configuration is best?](#channel)\n",
    "- [ ] [Which training sample is best?](#sample)\n",
    "- [ ] [Which categorisation is best?](#cat)\n",
    "- [ ] [Does vertex help cosmic classifier?](#cosmic)\n",
    "- [ ] [Does primary count help beam classifier?](#beam)\n",
    "- [ ] [Does lepton energy help neutrino energy estimation?](#energy)\n",
    "- [ ] [Different sample energy estimation](#energy_samples)\n",
    "- [ ] [Final performance and comparison with old reco/pid](#final)\n",
    "\n",
    "## Explainability and resilience\n",
    "- [ ] [Model calibration sensitivity: cosmic classification](#cosmic_calib)\n",
    "- [ ] [Model calibration sensitivity: beam classification](#beam_calib)\n",
    "- [ ] [Model calibration sensitivity: energy estimation](#energy_calib)\n",
    "- [ ] [Clustering: cosmic classification](#cosmic_cluster)\n",
    "- [ ] [Clustering: beam classification](#beam_cluster)\n",
    "- [ ] [Explanation: cosmic classification](#cosmic_explain)\n",
    "- [ ] [Explanation: beam classification](#beam_explain)\n",
    "- [ ] [Explanation: energy estimation](#energy_explain)"
   ]
  },
  {
   "cell_type": "code",
   "execution_count": null,
   "metadata": {
    "tags": [
     "parameters"
    ]
   },
   "outputs": [],
   "source": [
    "# Default input parameters for this notebook, they are overridden by 'papermill' at runtime if specified\n",
    "config_path = \"./config/analysis/eval.yaml\"\n",
    "save_path = \"./data/output/\"\n",
    "nuel_map_file = \"/unix/chips/jtingey/production/beam_all/nuel/map/chips_1200/selected_000_sim_map.root\"\n",
    "numu_map_file = \"/unix/chips/jtingey/production/beam_all/numu/map/chips_1200/selected_000_sim_map.root\"\n",
    "cosmic_map_file = \"/unix/chips/jtingey/production/cosmic_all/map/chips_1200/selected_000_sim_map.root\""
   ]
  },
  {
   "cell_type": "code",
   "execution_count": null,
   "metadata": {},
   "outputs": [],
   "source": [
    "# Standard inports\n",
    "import os\n",
    "import logging\n",
    "import importlib\n",
    "\n",
    "import numpy as np\n",
    "import pandas as pd\n",
    "import matplotlib\n",
    "import matplotlib.pyplot as plt\n",
    "import matplotlib.patches as patches\n",
    "from sklearn.metrics import classification_report\n",
    "from sklearn.metrics import confusion_matrix\n",
    "import seaborn as sns\n",
    "import mplhep as hep\n",
    "import uproot\n",
    "from scipy.stats import norm\n",
    "\n",
    "# Setup Tensorflow with correct logging and GPU's for inference\n",
    "import tensorflow as tf\n",
    "os.environ['TF_CPP_MIN_LOG_LEVEL'] = '3'\n",
    "logging.disable(logging.CRITICAL)\n",
    "gpus = tf.config.list_physical_devices('GPU')\n",
    "if tf.config.list_physical_devices('GPU'):\n",
    "    try:  # Currently, memory growth needs to be the same across GPUs\n",
    "        for gpu in gpus:\n",
    "            tf.config.experimental.set_memory_growth(gpu, True)\n",
    "    except RuntimeError as e:  # Memory growth must be set before GPUs have been initialized\n",
    "        print(e)\n",
    "\n",
    "import chipsnet.config\n",
    "import chipsnet.data\n",
    "import chipsnet.models\n",
    "import chipsnet.utils\n",
    "import chipsnet.plotting\n",
    "from chipsnet.utils import process_ds\n",
    "\n",
    "# Setup matplotlib style using mplhep\n",
    "extra_styling = {\n",
    "    \"text.usetex\": True,\n",
    "    \"pgf.texsystem\": \"pdflatex\",\n",
    "    \"pgf.rcfonts\": False,\n",
    "    \"font.family\": \"serif\",\n",
    "    \"font.serif\": \"Computer Modern Roman\",\n",
    "    \"axes.xmargin\": 0\n",
    "}\n",
    "plt.style.use([hep.style.ROOT, extra_styling])"
   ]
  },
  {
   "cell_type": "code",
   "execution_count": null,
   "metadata": {},
   "outputs": [],
   "source": [
    "# Reload method to import chipsnet modules on the fly if changes are made to them\n",
    "config = chipsnet.config.get(config_path)\n",
    "def reload():\n",
    "    importlib.reload(chipsnet.config)\n",
    "    importlib.reload(chipsnet.data)\n",
    "    importlib.reload(chipsnet.models)\n",
    "    importlib.reload(chipsnet.utils)\n",
    "    importlib.reload(chipsnet.plotting)\n",
    "    config = chipsnet.config.get(config_path)"
   ]
  },
  {
   "cell_type": "markdown",
   "metadata": {},
   "source": [
    "# Finding the best models"
   ]
  },
  {
   "cell_type": "markdown",
   "metadata": {},
   "source": [
    "<a id='explore'></a>"
   ]
  },
  {
   "cell_type": "markdown",
   "metadata": {},
   "source": [
    "## Exploring the data (explore)\n",
    "* 1\n",
    "* 2\n",
    "* 3"
   ]
  },
  {
   "cell_type": "code",
   "execution_count": null,
   "metadata": {},
   "outputs": [],
   "source": [
    "both_ev, both_out = process_ds(config, \"both_cosmic\")\n",
    "flux_ev, flux_out = process_ds(config, \"flux_cosmic\")\n",
    "uniform_ev, uniform_out = process_ds(config, \"uniform_cosmic\")"
   ]
  },
  {
   "cell_type": "code",
   "execution_count": null,
   "metadata": {},
   "outputs": [],
   "source": [
    "fig, axs = plt.subplots(1, 1, figsize=(18, 5), gridspec_kw={'hspace': 0.3})\n",
    "cats = np.arange(5)\n",
    "axs.bar(\n",
    "    cats, \n",
    "    [len(both_ev[(both_ev.t_nu_type == 0) & (both_ev.t_sign_type == 0) & (both_ev.t_cosmic_cat == 0)]), \n",
    "     len(both_ev[(both_ev.t_nu_type == 0) & (both_ev.t_sign_type == 1) & (both_ev.t_cosmic_cat == 0)]), \n",
    "     len(both_ev[(both_ev.t_nu_type == 1) & (both_ev.t_sign_type == 0) & (both_ev.t_cosmic_cat == 0)]), \n",
    "     len(both_ev[(both_ev.t_nu_type == 1) & (both_ev.t_sign_type == 1) & (both_ev.t_cosmic_cat == 0)]), \n",
    "     len(both_ev[both_ev.t_cosmic_cat == 1])],\n",
    "    color=\"firebrick\")\n",
    "axs.set_xticks(cats)\n",
    "axs.set_xticklabels(('$\\\\nu_{e}$', '$\\\\bar{\\\\nu_{e}}$', '$\\\\nu_{\\mu}$', '$\\\\bar{\\\\nu_{\\mu}}$', 'cosmic muons'))\n",
    "axs.set_ylabel(\"Test events\")\n",
    "chipsnet.plotting.save(save_path + \"nu_types\")"
   ]
  },
  {
   "cell_type": "code",
   "execution_count": null,
   "metadata": {},
   "outputs": [],
   "source": [
    "data_both = [\n",
    "    len(both_ev[both_ev[\"t_nu_nc_cat\"] == i])\n",
    "    for i in range(len(chipsnet.data.MAP_NU_NC_COMB_CAT[\"labels\"]))\n",
    "]\n",
    "cats = np.arange(len(chipsnet.data.MAP_NU_NC_COMB_CAT[\"labels\"]))\n",
    "width = 0.45\n",
    "\n",
    "fig, axs = plt.subplots(1, 1, figsize=(18, 5), gridspec_kw={\"hspace\": 0.3})\n",
    "axs.bar(cats, data_both, color=\"royalblue\", width=width, label=\"training sample\")\n",
    "axs.set_xticks(cats)\n",
    "axs.set_xticklabels(chipsnet.data.MAP_NU_NC_COMB_CAT[\"labels\"], fontsize=14, rotation=\"vertical\")\n",
    "axs.set_ylabel(\"Testing events\")\n",
    "axs.set_yscale('log')\n",
    "chipsnet.plotting.save(save_path + \"training_sample\")"
   ]
  },
  {
   "cell_type": "code",
   "execution_count": null,
   "metadata": {},
   "outputs": [],
   "source": [
    "chipsnet.plotting.plot_cats(uniform_ev, flux_ev, chipsnet.data.MAP_INT_TYPE, save_path)"
   ]
  },
  {
   "cell_type": "code",
   "execution_count": null,
   "metadata": {},
   "outputs": [],
   "source": [
    "chipsnet.plotting.plot_cats(uniform_ev, flux_ev, chipsnet.data.MAP_ALL_CAT, save_path)"
   ]
  },
  {
   "cell_type": "code",
   "execution_count": null,
   "metadata": {},
   "outputs": [],
   "source": [
    "chipsnet.plotting.plot_cats(uniform_ev, flux_ev, chipsnet.data.MAP_FULL_COMB_CAT, save_path)"
   ]
  },
  {
   "cell_type": "code",
   "execution_count": null,
   "metadata": {},
   "outputs": [],
   "source": [
    "chipsnet.plotting.plot_cats(uniform_ev, flux_ev, chipsnet.data.MAP_NU_NC_COMB_CAT, save_path)"
   ]
  },
  {
   "cell_type": "code",
   "execution_count": null,
   "metadata": {},
   "outputs": [],
   "source": [
    "chipsnet.plotting.plot_cats(uniform_ev, flux_ev, chipsnet.data.MAP_NC_COMB_CAT, save_path)"
   ]
  },
  {
   "cell_type": "code",
   "execution_count": null,
   "metadata": {},
   "outputs": [],
   "source": [
    "line_g = matplotlib.lines.Line2D([], [], c='green')\n",
    "line_r = matplotlib.lines.Line2D([], [], c='red')\n",
    "\n",
    "fig, axs = plt.subplots(1, 3, figsize=(18, 5), gridspec_kw={'hspace': 0.3})\n",
    "axs[0].hist(flux_ev[\"t_vtx_x\"]/100, range=(-12.5, 12.5), bins=25, color='green', histtype='step')\n",
    "axs[0].hist(flux_ev[\"r_vtx_x\"]*1250/100, range=(-12.5, 12.5), bins=25, color='red', histtype='step')\n",
    "#axs[0].legend(loc=\"upper left\", handles=[line_g, line_r], labels=[\"true\", \"reco\"])\n",
    "axs[0].set_xlabel('Vertex x-position (m)', fontsize=20)\n",
    "axs[0].set_ylabel('Frequency', fontsize=20)\n",
    "\n",
    "axs[1].hist(flux_ev[\"t_vtx_y\"]/100, range=(-12.5, 12.5), bins=25, color='green', histtype='step')\n",
    "axs[1].hist(flux_ev[\"r_vtx_y\"]*1250/100, range=(-12.5, 12.5), bins=25, color='red', histtype='step')\n",
    "#axs[1].legend(loc=\"upper left\", handles=[line_g, line_r], labels=[\"true\", \"reco\"])\n",
    "axs[1].set_xlabel('Vertex y-position (m)', fontsize=20)\n",
    "\n",
    "axs[2].hist(flux_ev[\"t_vtx_z\"]/100, range=(-6, 10), bins=25, color='green', histtype='step')\n",
    "axs[2].hist(flux_ev[\"r_vtx_z\"]*600/100, range=(-6, 10), bins=25, color='red', histtype='step')\n",
    "#axs[2].legend(loc=\"upper left\", handles=[line_g, line_r], labels=[\"true\", \"reco\"])\n",
    "axs[2].set_xlabel('Vertex z-position (m)', fontsize=20)\n",
    "chipsnet.plotting.save(save_path + \"vtx_positions\")"
   ]
  },
  {
   "cell_type": "code",
   "execution_count": null,
   "metadata": {},
   "outputs": [],
   "source": [
    "fig, axs = plt.subplots(1, 3, figsize=(18, 5), gridspec_kw={'hspace': 0.3})\n",
    "axs[0].hist(flux_ev[\"t_vtx_x\"]/100-(flux_ev[\"r_vtx_x\"]*1250/100), range=(-7, 2), bins=50, color='black', histtype='step')\n",
    "axs[0].set_xlabel('Vertex true-reco x-position (m)', fontsize=20)\n",
    "axs[0].set_ylabel('Frequency', fontsize=20)\n",
    "\n",
    "axs[1].hist(flux_ev[\"t_vtx_y\"]/100-(flux_ev[\"r_vtx_y\"]*1250/100), range=(-2, 2), bins=50, color='black', histtype='step')\n",
    "axs[1].set_xlabel('Vertex true-reco y-position (m)', fontsize=20)\n",
    "\n",
    "axs[2].hist(flux_ev[\"t_vtx_z\"]/100-(flux_ev[\"r_vtx_z\"]*600/100), range=(-2, 8), bins=50, color='black', histtype='step')\n",
    "axs[2].set_xlabel('Vertex true-reco z-position (m)', fontsize=20)\n",
    "chipsnet.plotting.save(save_path + \"true_reco_vtx\")"
   ]
  },
  {
   "cell_type": "code",
   "execution_count": null,
   "metadata": {},
   "outputs": [],
   "source": [
    "line_g = matplotlib.lines.Line2D([], [], c='green')\n",
    "line_b = matplotlib.lines.Line2D([], [], c='blue')\n",
    "line_r = matplotlib.lines.Line2D([], [], c='red')\n",
    "\n",
    "fig, axs = plt.subplots(1, 1, figsize=(8, 5), gridspec_kw={'hspace': 0.3})\n",
    "axs.hist(flux_ev[flux_ev[\"t_comb_cat\"] == 0][\"t_nu_energy\"]/1000, weights=flux_ev[flux_ev[\"t_comb_cat\"] == 0][\"w\"],\n",
    "         range=(0, 10), bins=40, color='green', histtype='step', density=True)\n",
    "axs.hist(flux_ev[flux_ev[\"t_comb_cat\"] == 1][\"t_nu_energy\"]/1000, weights=flux_ev[flux_ev[\"t_comb_cat\"] == 1][\"w\"],\n",
    "         range=(0, 10), bins=40, color='blue', histtype='step', density=True)\n",
    "axs.hist(flux_ev[flux_ev[\"t_comb_cat\"] == 2][\"t_nu_energy\"]/1000, weights=flux_ev[flux_ev[\"t_comb_cat\"] == 2][\"w\"],\n",
    "         range=(0, 10), bins=40, color='red', histtype='step', density=True)\n",
    "axs.legend(loc=\"upper left\", handles=[line_g, line_b, line_r], labels=[\"$\\\\nu_{e}$ CC\", \"$\\\\nu_{\\mu}$ CC\", \"NC\"])\n",
    "axs.set_xlabel('Neutrino energy (GeV)', fontsize=20)\n",
    "axs.set_ylabel('Fraction of events', fontsize=20)\n",
    "chipsnet.plotting.save(save_path + \"nu_energies\")"
   ]
  },
  {
   "cell_type": "code",
   "execution_count": null,
   "metadata": {},
   "outputs": [],
   "source": [
    "# Setup an images dictionary to hold example images\n",
    "image_size = [64, 64]\n",
    "images_dict = {\"r_raw_charge_map_origin\": [], \"r_raw_charge_map_iso\": [], \"r_raw_charge_map_vtx\": [],\n",
    "               \"r_raw_time_map_origin\": [], \"r_raw_time_map_iso\": [], \"r_raw_time_map_vtx\": [], \"r_raw_hit_hough_map_vtx\": []}\n",
    "               \n",
    "# Load the images into the dictionary\n",
    "nuel_file = uproot.open(nuel_map_file)\n",
    "numu_file = uproot.open(numu_map_file)\n",
    "cosmic_file = uproot.open(cosmic_map_file)\n",
    "for image_name in images_dict.keys():\n",
    "    images_dict[image_name].extend(nuel_file['reco'].array(image_name))\n",
    "    images_dict[image_name].extend(numu_file['reco'].array(image_name))\n",
    "    images_dict[image_name].extend(cosmic_file['reco'].array(image_name))\n",
    "\n",
    "# Calculate fraction of hits in the endcaps\n",
    "cap_total = 0\n",
    "barrel_total = 0\n",
    "for event in images_dict['r_raw_charge_map_vtx']:\n",
    "    sections = np.split(event, [18, 46], axis=0)\n",
    "    cap_total += (sections[0].sum() + sections[2].sum())\n",
    "    barrel_total += sections[1].sum()\n",
    "\n",
    "# This is with cosmic events included\n",
    "print(\"Fraction of deposited charge in endcaps = {}\".format(cap_total/(cap_total+barrel_total)))"
   ]
  },
  {
   "cell_type": "code",
   "execution_count": null,
   "metadata": {},
   "outputs": [],
   "source": [
    "chipsnet.plotting.plot_hit_time(images_dict, 1, save_path)"
   ]
  },
  {
   "cell_type": "code",
   "execution_count": null,
   "metadata": {},
   "outputs": [],
   "source": [
    "chipsnet.plotting.plot_hough(images_dict, 1, save_path)"
   ]
  },
  {
   "cell_type": "code",
   "execution_count": null,
   "metadata": {},
   "outputs": [],
   "source": [
    "chipsnet.plotting.plot_8bit_range(images_dict, save_path=save_path)"
   ]
  },
  {
   "cell_type": "code",
   "execution_count": null,
   "metadata": {},
   "outputs": [],
   "source": [
    "fig, axs = plt.subplots(2, 2, figsize=(16, 10), gridspec_kw={'hspace': 0.3})\n",
    "axs[0, 0].hist(flux_ev[flux_ev.t_comb_cat == 0]['r_raw_total_digi_q'], color='green',\n",
    "               histtype='step', range=(0, 5000), bins=40, density=True, label=\"$\\\\nu_{e}$ CC\")\n",
    "axs[0, 0].hist(flux_ev[flux_ev.t_comb_cat == 1]['r_raw_total_digi_q'], color='blue', \n",
    "               histtype='step', range=(0, 5000), bins=40, density=True, label=\"$\\\\nu_{\\mu}$ CC\")\n",
    "axs[0, 0].hist(flux_ev[flux_ev.t_comb_cat == 2]['r_raw_total_digi_q'], color='red', \n",
    "               histtype='step', range=(0, 5000), bins=40, density=True, label=\"NC\")\n",
    "axs[0, 0].hist(flux_ev[flux_ev.t_comb_cat == 3]['r_raw_total_digi_q'], color='black', \n",
    "               histtype='step', range=(0, 5000), bins=40, density=True, label=\"Cosmic\")\n",
    "axs[0, 0].set(xlabel='Total collected charge (p.e)', ylabel='Frequency')\n",
    "axs[0, 0].axvspan(0, config.eval.cuts.q, alpha=0.5, color='grey')\n",
    "axs[0, 0].legend()\n",
    "\n",
    "axs[0, 1].hist(flux_ev[flux_ev.t_comb_cat == 0]['r_first_ring_height'], color='green',\n",
    "               histtype='step', range=(0, 5000), bins=40, density=True, label=\"$\\\\nu_{e}$ CC\")\n",
    "axs[0, 1].hist(flux_ev[flux_ev.t_comb_cat == 1]['r_first_ring_height'], color='blue', \n",
    "               histtype='step', range=(0, 5000), bins=40, density=True, label=\"$\\\\nu_{\\mu}$ CC\")\n",
    "axs[0, 1].hist(flux_ev[flux_ev.t_comb_cat == 2]['r_first_ring_height'], color='red', \n",
    "               histtype='step', range=(0, 5000), bins=40, density=True, label=\"NC\")\n",
    "axs[0, 1].hist(flux_ev[flux_ev.t_comb_cat == 3]['r_first_ring_height'], color='black', \n",
    "               histtype='step', range=(0, 5000), bins=40, density=True, label=\"Cosmic\")\n",
    "axs[0, 1].set(xlabel='Hough ring height (p.e)', ylabel='Frequency')\n",
    "axs[0, 1].axvspan(0, config.eval.cuts.h, alpha=0.5, color='grey')\n",
    "axs[0, 1].legend()\n",
    "\n",
    "axs[1, 0].hist(flux_ev[flux_ev.t_comb_cat == 0]['r_dirTheta'], color='green',\n",
    "               histtype='step', range=(-1, 1), bins=64, density=True, label=\"$\\\\nu_{e}$ CC\")\n",
    "axs[1, 0].hist(flux_ev[flux_ev.t_comb_cat == 1]['r_dirTheta'], color='blue', \n",
    "               histtype='step', range=(-1, 1), bins=64, density=True, label=\"$\\\\nu_{\\mu}$ CC\")\n",
    "axs[1, 0].hist(flux_ev[flux_ev.t_comb_cat == 2]['r_dirTheta'], color='red', \n",
    "               histtype='step', range=(-1, 1), bins=64, density=True, label=\"NC\")\n",
    "axs[1, 0].hist(flux_ev[flux_ev.t_comb_cat == 3]['r_dirTheta'], color='black', \n",
    "               histtype='step', range=(-1, 1), bins=64, density=True, label=\"Cosmic\")\n",
    "axs[1, 0].set(xlabel='Reco theta direction (cos($\\\\theta$))', ylabel='Frequency')\n",
    "axs[1, 0].axvspan(-1, -config.eval.cuts.theta, alpha=0.5, color='grey')\n",
    "axs[1, 0].axvspan(config.eval.cuts.theta, 1, alpha=0.5, color='grey')\n",
    "axs[1, 0].legend()\n",
    "\n",
    "axs[1, 1].hist(flux_ev[flux_ev.t_comb_cat == 0]['r_dirPhi']*3.14159, color='green',\n",
    "               histtype='step', range=(-3.2, 3.2), bins=64, density=True, label=\"$\\\\nu_{e}$ CC\")\n",
    "axs[1, 1].hist(flux_ev[flux_ev.t_comb_cat == 1]['r_dirPhi']*3.14159, color='blue', \n",
    "               histtype='step', range=(-3.2, 3.2), bins=64, density=True, label=\"$\\\\nu_{\\mu}$ CC\")\n",
    "axs[1, 1].hist(flux_ev[flux_ev.t_comb_cat == 2]['r_dirPhi']*3.14159, color='red', \n",
    "               histtype='step', range=(-3.2, 3.2), bins=64, density=True, label=\"NC\")\n",
    "axs[1, 1].hist(flux_ev[flux_ev.t_comb_cat == 3]['r_dirPhi']*3.14159, color='black', \n",
    "               histtype='step', range=(-3.2, 3.2), bins=64, density=True, label=\"Cosmic\")\n",
    "axs[1, 1].set(xlabel='Reco phi direction (radians)', ylabel='Frequency')\n",
    "axs[1, 1].axvspan(-3.2, -config.eval.cuts.phi*3.14159, alpha=0.5, color='grey')\n",
    "axs[1, 1].axvspan(config.eval.cuts.phi*3.14159, 3.2, alpha=0.5, color='grey')\n",
    "axs[1, 1].legend()\n",
    "chipsnet.plotting.save(save_path + \"simple_cuts\")"
   ]
  },
  {
   "cell_type": "code",
   "execution_count": null,
   "metadata": {},
   "outputs": [],
   "source": [
    "# Tidy up\n",
    "del both_ev, both_out\n",
    "del flux_ev, flux_out\n",
    "del uniform_ev, uniform_out\n",
    "del images_dict"
   ]
  },
  {
   "cell_type": "markdown",
   "metadata": {},
   "source": [
    "<a id='repr'></a>"
   ]
  },
  {
   "cell_type": "markdown",
   "metadata": {},
   "source": [
    "## Which image representation is best? (repr)\n",
    "* 1\n",
    "* 2\n",
    "* 3"
   ]
  },
  {
   "cell_type": "code",
   "execution_count": null,
   "metadata": {},
   "outputs": [],
   "source": [
    "v_ev, v_out = process_ds(config, \"v_ct_flux\", [\"repr_v_ct\"])  # Vertex theta/phi repr\n",
    "o_ev, o_out = process_ds(config, \"o_ct_flux\", [\"repr_o_ct\"])  # Origin theta/phi repr\n",
    "i_ev, i_out = process_ds(config, \"i_ct_flux\", [\"repr_i_ct\"])  # Origin x+/x- repr"
   ]
  },
  {
   "cell_type": "code",
   "execution_count": null,
   "metadata": {},
   "outputs": [],
   "source": [
    "chipsnet.plotting.plot_curves([v_out, o_out, i_out], save_path+\"repr_curves\")"
   ]
  },
  {
   "cell_type": "code",
   "execution_count": null,
   "metadata": {},
   "outputs": [],
   "source": [
    "chipsnet.plotting.plot_e_hists([v_out, o_out, i_out], v_ev, save_path+\"repr_hists\")"
   ]
  },
  {
   "cell_type": "code",
   "execution_count": null,
   "metadata": {},
   "outputs": [],
   "source": [
    "chipsnet.plotting.plot_history_comparison(config, [\"repr_v_ct\", \"repr_o_ct\", \"repr_i_ct\"], save_path+\"repr_history\")"
   ]
  },
  {
   "cell_type": "code",
   "execution_count": null,
   "metadata": {},
   "outputs": [],
   "source": [
    "chipsnet.utils.print_output_comparison([v_out, o_out, i_out])"
   ]
  },
  {
   "cell_type": "code",
   "execution_count": null,
   "metadata": {},
   "outputs": [],
   "source": [
    "# Tidy up\n",
    "del v_ev, v_out\n",
    "del o_ev, o_out\n",
    "del i_ev, i_out"
   ]
  },
  {
   "cell_type": "markdown",
   "metadata": {},
   "source": [
    "<a id='channel'></a>"
   ]
  },
  {
   "cell_type": "markdown",
   "metadata": {},
   "source": [
    "## Which channel configuration is best? (channel)\n",
    "* 1\n",
    "* 2\n",
    "* 3"
   ]
  },
  {
   "cell_type": "code",
   "execution_count": null,
   "metadata": {},
   "outputs": [],
   "source": [
    "c_ev, c_out = process_ds(config, \"v_c_flux\", [\"repr_v_c\"])  # Just charge channel\n",
    "ct_ev, ct_out = process_ds(config, \"v_ct_flux\", [\"repr_v_ct\"])  # Charge+time channels\n",
    "cth_ev, cth_out = process_ds(config,\"v_cth_flux\", [\"repr_v_cth\"])  # Charge+time+hough channels"
   ]
  },
  {
   "cell_type": "code",
   "execution_count": null,
   "metadata": {},
   "outputs": [],
   "source": [
    "chipsnet.plotting.plot_curves([c_out, ct_out, cth_out], save_path+\"channel_curves\")"
   ]
  },
  {
   "cell_type": "code",
   "execution_count": null,
   "metadata": {},
   "outputs": [],
   "source": [
    "chipsnet.plotting.plot_e_hists([c_out, ct_out, cth_out], c_ev, save_path+\"channel_hists\")"
   ]
  },
  {
   "cell_type": "code",
   "execution_count": null,
   "metadata": {},
   "outputs": [],
   "source": [
    "chipsnet.plotting.plot_history_comparison(config, [\"repr_v_c\", \"repr_v_ct\", \"repr_v_cth\"], save_path+\"channel_history\")"
   ]
  },
  {
   "cell_type": "code",
   "execution_count": null,
   "metadata": {},
   "outputs": [],
   "source": [
    "chipsnet.utils.print_output_comparison([c_out, ct_out, cth_out])"
   ]
  },
  {
   "cell_type": "code",
   "execution_count": null,
   "metadata": {},
   "outputs": [],
   "source": [
    "# Tidy up\n",
    "del c_ev, c_out\n",
    "del ct_ev, ct_out\n",
    "del cth_ev, cth_out"
   ]
  },
  {
   "cell_type": "markdown",
   "metadata": {},
   "source": [
    "<a id='sample'></a>"
   ]
  },
  {
   "cell_type": "markdown",
   "metadata": {},
   "source": [
    "## Which training sample is best? (sample)\n",
    "* 1\n",
    "* 2\n",
    "* 3"
   ]
  },
  {
   "cell_type": "code",
   "execution_count": null,
   "metadata": {},
   "outputs": [],
   "source": [
    "b_ev, b_out = process_ds(config, \"flux\", [\"sample_both\"])  # Both: flux and uniform sample\n",
    "f_ev, f_out = process_ds(config, \"flux\", [\"sample_flux\"])  # Flux sample\n",
    "u_ev, u_out = process_ds(config, \"flux\", [\"sample_uniform\"])  # Uniform sample"
   ]
  },
  {
   "cell_type": "code",
   "execution_count": null,
   "metadata": {},
   "outputs": [],
   "source": [
    "chipsnet.plotting.plot_curves([b_out, f_out, u_out], save_path+\"sample_curves\")"
   ]
  },
  {
   "cell_type": "code",
   "execution_count": null,
   "metadata": {},
   "outputs": [],
   "source": [
    "chipsnet.plotting.plot_e_hists([b_out, f_out, u_out], b_ev, save_path+\"sample_hists\")"
   ]
  },
  {
   "cell_type": "code",
   "execution_count": null,
   "metadata": {},
   "outputs": [],
   "source": [
    "chipsnet.plotting.plot_history_comparison(config, [\"sample_both\", \"sample_flux\", \"sample_uniform\"], save_path+\"sample_history\")"
   ]
  },
  {
   "cell_type": "code",
   "execution_count": null,
   "metadata": {},
   "outputs": [],
   "source": [
    "chipsnet.utils.print_output_comparison([b_out, f_out, u_out])"
   ]
  },
  {
   "cell_type": "code",
   "execution_count": null,
   "metadata": {},
   "outputs": [],
   "source": [
    "chipsnet.plotting.plot_combined_values(b_ev, \"sample_both_\", save_path+\"sample_both_values\")"
   ]
  },
  {
   "cell_type": "code",
   "execution_count": null,
   "metadata": {},
   "outputs": [],
   "source": [
    "chipsnet.plotting.plot_combined_values(f_ev, \"sample_flux_\", save_path+\"sample_flux_values\")"
   ]
  },
  {
   "cell_type": "code",
   "execution_count": null,
   "metadata": {},
   "outputs": [],
   "source": [
    "chipsnet.plotting.plot_combined_values(u_ev, \"sample_uniform_\", save_path+\"sample_uniform_values\")"
   ]
  },
  {
   "cell_type": "code",
   "execution_count": null,
   "metadata": {},
   "outputs": [],
   "source": [
    "plt.figure(figsize=(16,8))\n",
    "sns.heatmap(b_out[\"all_matrices\"][0], annot=False, vmin=0.0, vmax=1.0)\n",
    "plt.xlabel('True', fontsize = 30)\n",
    "plt.ylabel('Predicted', fontsize = 30)\n",
    "plt.show()"
   ]
  },
  {
   "cell_type": "code",
   "execution_count": null,
   "metadata": {},
   "outputs": [],
   "source": [
    "plt.figure(figsize=(16,8))\n",
    "sns.heatmap(f_out[\"all_matrices\"][0], annot=False, vmin=0.0, vmax=1.0)\n",
    "plt.xlabel('True', fontsize = 30)\n",
    "plt.ylabel('Predicted', fontsize = 30)\n",
    "plt.show()"
   ]
  },
  {
   "cell_type": "code",
   "execution_count": null,
   "metadata": {},
   "outputs": [],
   "source": [
    "plt.figure(figsize=(16,8))\n",
    "sns.heatmap(u_out[\"all_matrices\"][0], annot=False, vmin=0.0, vmax=1.0)\n",
    "plt.xlabel('True', fontsize = 30)\n",
    "plt.ylabel('Predicted', fontsize = 30)\n",
    "plt.show()"
   ]
  },
  {
   "cell_type": "code",
   "execution_count": null,
   "metadata": {},
   "outputs": [],
   "source": [
    "# Tidy up\n",
    "del b_ev, b_out\n",
    "del f_ev, f_out\n",
    "del u_ev, u_out"
   ]
  },
  {
   "cell_type": "markdown",
   "metadata": {},
   "source": [
    "<a id='cat'></a>"
   ]
  },
  {
   "cell_type": "markdown",
   "metadata": {},
   "source": [
    "## Which categorisation is best? (cat)\n",
    "* 1\n",
    "* 2\n",
    "* 3"
   ]
  },
  {
   "cell_type": "code",
   "execution_count": null,
   "metadata": {},
   "outputs": [],
   "source": [
    "# t_final_cat model\n",
    "final_ev, final_out = process_ds(config, \"flux\", [\"cat_t_final_cat\"], [\"t_final_cat\"])\n",
    "# t_all_cat model\n",
    "all_ev, all_out = process_ds(config, \"flux\", [\"cat_t_all_cat\"], [\"t_all_cat\"])\n",
    "# t_comb_cat model\n",
    "comb_ev, comb_out = process_ds(config, \"flux\", [\"cat_t_comb_cat\"], [\"t_comb_cat\"])\n",
    "# t_nu_nc_cat model\n",
    "nu_nc_ev, nu_nc_out = process_ds(config, \"flux\", [\"cat_t_nu_nc_cat\"], [\"t_nu_nc_cat\"])\n",
    "# t_nc_cat model\n",
    "nc_ev, nc_out = process_ds(config, \"flux\", [\"cat_t_nc_cat\"], [\"t_nc_cat\"])\n",
    "# [\"t_comb_cat\", \"t_cc_type\", \"t_nc_type\"] model\n",
    "split_ev, split_out = process_ds(config, \"flux\", [\"cat_split\"], [\"t_comb_cat\"])\n",
    "# [\"t_comb_cat\", \"t_cc_type\", \"t_nc_type\"] model, with learnt multitask weights\n",
    "split_learn_ev, split_learn_out = process_ds(config, \"flux\", [\"cat_split_learn\"], [\"t_comb_cat\"])  "
   ]
  },
  {
   "cell_type": "code",
   "execution_count": null,
   "metadata": {},
   "outputs": [],
   "source": [
    "chipsnet.plotting.plot_curves([nu_nc_out, all_out, final_out, split_out], save_path+\"cat_curves\")"
   ]
  },
  {
   "cell_type": "code",
   "execution_count": null,
   "metadata": {},
   "outputs": [],
   "source": [
    "chipsnet.plotting.plot_e_hists([nu_nc_out, all_out, final_out, split_out], nu_nc_ev, save_path+\"cat_hists\")"
   ]
  },
  {
   "cell_type": "code",
   "execution_count": null,
   "metadata": {},
   "outputs": [],
   "source": [
    "chipsnet.utils.print_output_comparison([final_out, all_out, comb_out, nu_nc_out, nc_out, split_out, split_learn_out])"
   ]
  },
  {
   "cell_type": "code",
   "execution_count": null,
   "metadata": {},
   "outputs": [],
   "source": [
    "# Tidy up\n",
    "del final_ev, final_out\n",
    "del all_ev, all_out\n",
    "del comb_ev, comb_out\n",
    "del nu_nc_ev, nu_nc_out\n",
    "del nc_ev, nc_out\n",
    "del split_ev, split_out\n",
    "del split_learn_ev, split_learn_out"
   ]
  },
  {
   "cell_type": "markdown",
   "metadata": {},
   "source": [
    "<a id='cosmic'></a>"
   ]
  },
  {
   "cell_type": "markdown",
   "metadata": {},
   "source": [
    "## Does vertex help cosmic classifier? (cosmic)\n",
    "* 1\n",
    "* 2\n",
    "* 3"
   ]
  },
  {
   "cell_type": "code",
   "execution_count": null,
   "metadata": {},
   "outputs": [],
   "source": [
    "# t_cosmic_cat model\n",
    "c_ev, c_out = process_ds(config,\"flux_cosmic\", [\"cosmic\"])\n",
    "# [\"t_cosmic_cat\", \"t_vtx_x\", \"t_vtx_y\", \"t_vtx_z\", \"t_vtx_t\"] model\n",
    "c_vtx_ev, c_vtx_out = process_ds(config, \"flux_cosmic\", [\"cosmic_vtx\"])\n",
    "# [\"t_cosmic_cat\", \"t_vtx_x\", \"t_vtx_y\", \"t_vtx_z\", \"t_vtx_t\"] model, with learnt multitask weights\n",
    "c_vtx_learn_ev, c_vtx_learn_out = process_ds(config, \"flux_cosmic\", [\"cosmic_vtx_learn\"])"
   ]
  },
  {
   "cell_type": "code",
   "execution_count": null,
   "metadata": {},
   "outputs": [],
   "source": [
    "# Tidy up\n",
    "del c_ev, c_out\n",
    "del c_vtx_ev, c_vtx_out\n",
    "del c_vtx_learn_ev, c_vtx_learn_out"
   ]
  },
  {
   "cell_type": "markdown",
   "metadata": {},
   "source": [
    "<a id='beam'></a>"
   ]
  },
  {
   "cell_type": "markdown",
   "metadata": {},
   "source": [
    "## Does primary count help beam classifier? (beam)\n",
    "* 1\n",
    "* 2\n",
    "* 3"
   ]
  },
  {
   "cell_type": "code",
   "execution_count": null,
   "metadata": {},
   "outputs": [],
   "source": [
    "# t_nu_nc_cat model\n",
    "b_ev, b_out = process_ds(config, \"flux\", [\"beam\"])\n",
    "# [\"t_nu_nc_cat\", \"prim_p\", \"prim_cp\", \"prim_np\"] model\n",
    "b_prim_ev, b_prim_out = process_ds(config, \"flux\", [\"beam_primaries\"])\n",
    "# [\"t_nu_nc_cat\", \"prim_p\", \"prim_cp\", \"prim_np\"] model, with learnt multitask weights\n",
    "b_prim_learn_ev, b_prim_learn_out = process_ds(config, \"flux\", [\"beam_primaries_learn\"])"
   ]
  },
  {
   "cell_type": "code",
   "execution_count": null,
   "metadata": {},
   "outputs": [],
   "source": [
    "chipsnet.plotting.plot_curves([b_out, b_prim_out, b_prim_learn_out], save_path+\"beam_curves\")"
   ]
  },
  {
   "cell_type": "code",
   "execution_count": null,
   "metadata": {},
   "outputs": [],
   "source": [
    "chipsnet.plotting.plot_e_hists([b_out, b_prim_out, b_prim_learn_out], beam_ev, save_path+\"beam_hists\")"
   ]
  },
  {
   "cell_type": "code",
   "execution_count": null,
   "metadata": {},
   "outputs": [],
   "source": [
    "chipsnet.utils.print_output_comparison([b_out, b_prim_out, b_prim_learn_out])"
   ]
  },
  {
   "cell_type": "code",
   "execution_count": null,
   "metadata": {},
   "outputs": [],
   "source": [
    "# Tidy up\n",
    "del b_ev, b_out\n",
    "del b_prim_ev, b_prim_out\n",
    "del b_prim_learn_ev, b_prim_learn_out"
   ]
  },
  {
   "cell_type": "markdown",
   "metadata": {},
   "source": [
    "<a id='energy'></a>"
   ]
  },
  {
   "cell_type": "markdown",
   "metadata": {},
   "source": [
    "## Does lepton energy help neutrino energy estimation? (energy)\n",
    "* 1\n",
    "* 2\n",
    "* 3"
   ]
  },
  {
   "cell_type": "code",
   "execution_count": null,
   "metadata": {},
   "outputs": [],
   "source": [
    "# t_nu_energy model\n",
    "e_ev, e_out = process_ds(config, \"flux\", [\"energy\"])\n",
    "# [\"t_nu_energy\", \"t_lep_energy\"] model\n",
    "e_lep_ev, e_lep_out = process_ds(config, \"flux\", [\"energy_lepton\"])\n",
    "# # [\"t_nu_energy\", \"t_lep_energy\"] model, with learnt multitask weights\n",
    "e_lep_learn_ev, e_lep_learn_out = process_ds(config, \"flux\", [\"energy_lepton_learn\"])"
   ]
  },
  {
   "cell_type": "code",
   "execution_count": null,
   "metadata": {},
   "outputs": [],
   "source": [
    "# Tidy up\n",
    "del e_ev, e_out\n",
    "del e_lep_ev, e_lep_out\n",
    "del e_lep_learn_ev, e_lep_learn_out"
   ]
  },
  {
   "cell_type": "markdown",
   "metadata": {},
   "source": [
    "<a id='energy_samples'></a>"
   ]
  },
  {
   "cell_type": "markdown",
   "metadata": {},
   "source": [
    "## Different sample energy estimation (energy_samples)\n",
    "* 1\n",
    "* 2\n",
    "* 3"
   ]
  },
  {
   "cell_type": "code",
   "execution_count": null,
   "metadata": {},
   "outputs": [],
   "source": [
    "# All the different interaction type samples and associated models\n",
    "nuel_cccoh_ev = chipsnet.utils.predict_energies(config, \"nuel_cccoh\", [\"nuel_cccoh_energy\"])\n",
    "nuel_ccdis_ev = chipsnet.utils.predict_energies(config, \"nuel_ccdis\", [\"nuel_ccdis_energy\"])\n",
    "nuel_ccqel_ev = chipsnet.utils.predict_energies(config, \"nuel_ccqel\", [\"nuel_ccqel_energy\"])\n",
    "nuel_ccres_ev = chipsnet.utils.predict_energies(config, \"nuel_ccres\", [\"nuel_ccres_energy\"])\n",
    "nuel_ccmec_ev = chipsnet.utils.predict_energies(config, \"nuel_ccmec\", [\"nuel_ccmec_energy\"])\n",
    "nuel_ccqelmec_ev = chipsnet.utils.predict_energies(config, \"nuel_ccqelmec\", [\"nuel_ccqelmec_energy\"])\n",
    "numu_cccoh_ev = chipsnet.utils.predict_energies(config, \"numu_cccoh\", [\"numu_cccoh_energy\"])\n",
    "numu_ccdis_ev = chipsnet.utils.predict_energies(config, \"numu_ccdis\", [\"numu_ccdis_energy\"])\n",
    "numu_ccqel_ev = chipsnet.utils.predict_energies(config, \"numu_ccqel\", [\"numu_ccqel_energy\"])\n",
    "numu_ccres_ev = chipsnet.utils.predict_energies(config, \"numu_ccres\", [\"numu_ccres_energy\"])\n",
    "numu_ccmec_ev = chipsnet.utils.predict_energies(config, \"numu_ccmec\", [\"numu_ccmec_energy\"])\n",
    "numu_ccqelmec_ev = chipsnet.utils.predict_energies(config, \"numu_ccqelmec\", [\"numu_ccqelmec_energy\"])\n",
    "flux_ev = chipsnet.utils.predict_energies(config, \"flux\", [\"nuel_cc_energy\", \"numu_cc_energy\", \"nc_energy\"])"
   ]
  },
  {
   "cell_type": "code",
   "execution_count": null,
   "metadata": {},
   "outputs": [],
   "source": [
    "e_range = [[0, 8000], [0, 8000]]\n",
    "e_bins = [40, 40]\n",
    "fig, axs = plt.subplots(5, 2, figsize=(10, 20), gridspec_kw={\"hspace\": 0.1, \"wspace\": 0.1})\n",
    "axs[0, 0].hist2d(nuel_cccoh_ev[\"t_nuEnergy\"], nuel_cccoh_ev[\"nuel_cccoh_energy_pred_t_nuEnergy\"],\n",
    "                 range=e_range, bins=e_bins, cmap=\"Reds\")\n",
    "axs[0, 0].grid()\n",
    "axs[0, 0].label_outer()\n",
    "axs[0, 0].set(ylabel=r\"Reco energy (MeV)\")\n",
    "axs[0, 0].set_title(r\"nuel\")\n",
    "axs[1, 0].hist2d(nuel_ccdis_ev[\"t_nuEnergy\"], nuel_ccdis_ev[\"nuel_ccdis_energy_pred_t_nuEnergy\"],\n",
    "                 range=e_range, bins=e_bins, cmap=\"Reds\")\n",
    "axs[1, 0].grid()\n",
    "axs[1, 0].label_outer()\n",
    "axs[1, 0].set(ylabel=r\"Reco energy (MeV)\")\n",
    "axs[2, 0].hist2d(nuel_ccqel_ev[\"t_nuEnergy\"], nuel_ccqel_ev[\"nuel_ccqel_energy_pred_t_nuEnergy\"],\n",
    "                 range=e_range, bins=e_bins, cmap=\"Reds\")\n",
    "axs[2, 0].grid()\n",
    "axs[2, 0].label_outer()\n",
    "axs[2, 0].set(ylabel=r\"Reco energy (MeV)\")\n",
    "axs[3, 0].hist2d(nuel_ccres_ev[\"t_nuEnergy\"], nuel_ccres_ev[\"nuel_ccres_energy_pred_t_nuEnergy\"],\n",
    "                 range=e_range, bins=e_bins, cmap=\"Reds\")\n",
    "axs[3, 0].grid()\n",
    "axs[3, 0].label_outer()\n",
    "axs[3, 0].set(ylabel=r\"Reco energy (MeV)\")\n",
    "axs[4, 0].hist2d(nuel_ccmec_ev[\"t_nuEnergy\"], nuel_ccmec_ev[\"nuel_ccmec_energy_pred_t_nuEnergy\"],\n",
    "                 range=e_range, bins=e_bins, cmap=\"Reds\")\n",
    "axs[4, 0].grid()\n",
    "axs[4, 0].label_outer()\n",
    "axs[4, 0].set(xlabel=r\"True energy (MeV)\", ylabel=r\"Reco energy (MeV)\")\n",
    "axs[0, 1].hist2d(numu_cccoh_ev[\"t_nuEnergy\"], numu_cccoh_ev[\"numu_cccoh_energy_pred_t_nuEnergy\"],\n",
    "                 range=e_range, bins=e_bins, cmap=\"Reds\")\n",
    "axs[0, 1].grid()\n",
    "axs[0, 1].label_outer()\n",
    "axs[0, 1].set_title(r\"numu\")\n",
    "axs[0, 1].text(8000, 2250, \"CC-COH\", rotation=-90)\n",
    "axs[1, 1].hist2d(numu_ccdis_ev[\"t_nuEnergy\"], numu_ccdis_ev[\"numu_ccdis_energy_pred_t_nuEnergy\"],\n",
    "                 range=e_range, bins=e_bins, cmap=\"Reds\")\n",
    "axs[1, 1].grid()\n",
    "axs[1, 1].label_outer()\n",
    "axs[1, 1].text(8000, 2250, \"CC-DIS\", rotation=-90)\n",
    "axs[2, 1].hist2d(numu_ccqel_ev[\"t_nuEnergy\"], numu_ccqel_ev[\"numu_ccqel_energy_pred_t_nuEnergy\"],\n",
    "                 range=e_range, bins=e_bins, cmap=\"Reds\")\n",
    "axs[2, 1].grid()\n",
    "axs[2, 1].label_outer()\n",
    "axs[2, 1].text(8000, 2250, \"CC-QEL\", rotation=-90)\n",
    "axs[3, 1].hist2d(numu_ccres_ev[\"t_nuEnergy\"], numu_ccres_ev[\"numu_ccres_energy_pred_t_nuEnergy\"],\n",
    "                 range=e_range, bins=e_bins, cmap=\"Reds\")\n",
    "axs[3, 1].grid()\n",
    "axs[3, 1].label_outer()\n",
    "axs[3, 1].text(8000, 2250, \"CC-RES\", rotation=-90)\n",
    "axs[4, 1].hist2d(numu_ccmec_ev[\"t_nuEnergy\"], numu_ccmec_ev[\"numu_ccmec_energy_pred_t_nuEnergy\"],\n",
    "                 range=e_range, bins=e_bins, cmap=\"Reds\")\n",
    "axs[4, 1].grid()\n",
    "axs[4, 1].label_outer()\n",
    "axs[4, 1].set(xlabel=r\"True energy (MeV)\")\n",
    "axs[4, 1].text(8000, 2250, \"CC-MEC\", rotation=-90)\n",
    "chipsnet.plotting.save(save_path + \"true_vs_reco_energy_cc\")"
   ]
  },
  {
   "cell_type": "code",
   "execution_count": null,
   "metadata": {},
   "outputs": [],
   "source": [
    "e_range = [[0, 8000], [0, 8000]]\n",
    "e_bins = [40, 40]\n",
    "fig, axs = plt.subplots(1, 3, figsize=(15, 4), gridspec_kw={\"hspace\": 0.1, \"wspace\": 0.1})\n",
    "axs[0].hist2d(flux_ev[flux_ev[\"t_comb_cat\"] == 0][\"t_nuEnergy\"], flux_ev[flux_ev[\"t_comb_cat\"] == 0][\"nuel_cc_energy_pred_t_nuEnergy\"],\n",
    "              range=e_range, bins=e_bins, weights=flux_ev[flux_ev[\"t_comb_cat\"] == 0][\"w\"], cmap=\"Reds\")\n",
    "axs[0].grid()\n",
    "axs[0].label_outer()\n",
    "axs[0].set(xlabel=r\"True energy (MeV)\", ylabel=r\"Reco energy (MeV)\")\n",
    "axs[0].set_title(r\"Nuel CC\")\n",
    "axs[1].hist2d(flux_ev[flux_ev[\"t_comb_cat\"] == 1][\"t_nuEnergy\"], flux_ev[flux_ev[\"t_comb_cat\"] == 1][\"numu_cc_energy_pred_t_nuEnergy\"],\n",
    "              range=e_range, bins=e_bins, weights=flux_ev[flux_ev[\"t_comb_cat\"] == 1][\"w\"], cmap=\"Reds\")\n",
    "axs[1].grid()\n",
    "axs[1].label_outer()\n",
    "axs[1].set(xlabel=r\"True energy (MeV)\")\n",
    "axs[1].set_title(r\"Numu CC\")\n",
    "axs[2].hist2d(flux_ev[flux_ev[\"t_comb_cat\"] == 2][\"t_nuEnergy\"], flux_ev[flux_ev[\"t_comb_cat\"] == 2][\"nc_energy_pred_t_nuEnergy\"],\n",
    "              range=e_range, bins=e_bins, weights=flux_ev[flux_ev[\"t_comb_cat\"] == 2][\"w\"], cmap=\"Reds\")\n",
    "axs[2].grid()\n",
    "axs[2].label_outer()\n",
    "axs[2].set(xlabel=r\"True energy (MeV)\")\n",
    "axs[2].set_title(r\"NC\")\n",
    "chipsnet.plotting.save(save_path + \"true_vs_reco_energy_comb\")"
   ]
  },
  {
   "cell_type": "code",
   "execution_count": null,
   "metadata": {},
   "outputs": [],
   "source": [
    "nuel_cccoh_ev['true_reco_frac_nuEnergy'] = (nuel_cccoh_ev[\"t_nuEnergy\"] - nuel_cccoh_ev[\"nuel_cccoh_energy_pred_t_nuEnergy\"]) / nuel_cccoh_ev[\"t_nuEnergy\"]\n",
    "nuel_ccdis_ev['true_reco_frac_nuEnergy'] = (nuel_ccdis_ev[\"t_nuEnergy\"] - nuel_ccdis_ev[\"nuel_ccdis_energy_pred_t_nuEnergy\"]) / nuel_ccdis_ev[\"t_nuEnergy\"]\n",
    "nuel_ccqel_ev['true_reco_frac_nuEnergy'] = (nuel_ccqel_ev[\"t_nuEnergy\"] - nuel_ccqel_ev[\"nuel_ccqel_energy_pred_t_nuEnergy\"]) / nuel_ccqel_ev[\"t_nuEnergy\"]\n",
    "nuel_ccres_ev['true_reco_frac_nuEnergy'] = (nuel_ccres_ev[\"t_nuEnergy\"] - nuel_ccres_ev[\"nuel_ccres_energy_pred_t_nuEnergy\"]) / nuel_ccres_ev[\"t_nuEnergy\"]\n",
    "nuel_ccmec_ev['true_reco_frac_nuEnergy'] = (nuel_ccmec_ev[\"t_nuEnergy\"] - nuel_ccmec_ev[\"nuel_ccmec_energy_pred_t_nuEnergy\"]) / nuel_ccmec_ev[\"t_nuEnergy\"]\n",
    "numu_cccoh_ev['true_reco_frac_nuEnergy'] = (numu_cccoh_ev[\"t_nuEnergy\"] - numu_cccoh_ev[\"numu_cccoh_energy_pred_t_nuEnergy\"]) / numu_cccoh_ev[\"t_nuEnergy\"]\n",
    "numu_ccdis_ev['true_reco_frac_nuEnergy'] = (numu_ccdis_ev[\"t_nuEnergy\"] - numu_ccdis_ev[\"numu_ccdis_energy_pred_t_nuEnergy\"]) / numu_ccdis_ev[\"t_nuEnergy\"]\n",
    "numu_ccqel_ev['true_reco_frac_nuEnergy'] = (numu_ccqel_ev[\"t_nuEnergy\"] - numu_ccqel_ev[\"numu_ccqel_energy_pred_t_nuEnergy\"]) / numu_ccqel_ev[\"t_nuEnergy\"]\n",
    "numu_ccres_ev['true_reco_frac_nuEnergy'] = (numu_ccres_ev[\"t_nuEnergy\"] - numu_ccres_ev[\"numu_ccres_energy_pred_t_nuEnergy\"]) / numu_ccres_ev[\"t_nuEnergy\"]\n",
    "numu_ccmec_ev['true_reco_frac_nuEnergy'] = (numu_ccmec_ev[\"t_nuEnergy\"] - numu_ccmec_ev[\"numu_ccmec_energy_pred_t_nuEnergy\"]) / numu_ccmec_ev[\"t_nuEnergy\"]"
   ]
  },
  {
   "cell_type": "code",
   "execution_count": null,
   "metadata": {},
   "outputs": [],
   "source": [
    "def frac_e_vs_e(events, low=500, high=8000, bin_size=500):\n",
    "    e_list, std_list = [], []\n",
    "    for energy in range(low, high, bin_size):\n",
    "        subset = events[(events[\"t_nuEnergy\"] >= energy)]\n",
    "        subset = subset[(events[\"t_nuEnergy\"] <= (energy + bin_size))]\n",
    "        mu, std = norm.fit(subset['true_reco_frac_nuEnergy'])\n",
    "        std_list.append(std)\n",
    "        e_list.append(energy+(bin_size/2))\n",
    "    return (e_list, std_list)\n",
    "\n",
    "def frac_e_vs_vtxX(events, low=-1250, high=1250, bin_size=100):\n",
    "    vtx_list, std_list = [], []\n",
    "    for vtx in range(low, high, bin_size):\n",
    "        subset = events[(events[\"t_vtxX\"] >= vtx)]\n",
    "        subset = subset[(events[\"t_vtxX\"] <= (vtx + bin_size))]\n",
    "        mu, std = norm.fit(subset['true_reco_frac_nuEnergy'])\n",
    "        std_list.append(std)\n",
    "        vtx_list.append(vtx+(bin_size/2))\n",
    "    return (vtx_list, std_list)"
   ]
  },
  {
   "cell_type": "code",
   "execution_count": null,
   "metadata": {},
   "outputs": [],
   "source": [
    "fig, axs = plt.subplots(5, 2, figsize=(10, 20), gridspec_kw={\"hspace\": 0.1, \"wspace\": 0.1})\n",
    "e_list, std_list = frac_e_vs_e(nuel_cccoh_ev)\n",
    "axs[0, 0].plot(e_list, std_list)\n",
    "axs[0, 0].label_outer()\n",
    "axs[0, 0].set(ylabel=r\"(True-reco)/true E\")\n",
    "axs[0, 0].set_title(r\"nuel\")\n",
    "axs[0, 0].set_ylim(0, 0.5)\n",
    "axs[0, 0].grid()\n",
    "e_list, std_list = frac_e_vs_e(nuel_ccdis_ev)\n",
    "axs[1, 0].plot(e_list, std_list)\n",
    "axs[1, 0].label_outer()\n",
    "axs[1, 0].set(ylabel=r\"(True-reco)/true E\")\n",
    "axs[1, 0].set_ylim(0, 0.5)\n",
    "axs[1, 0].grid()\n",
    "e_list, std_list = frac_e_vs_e(nuel_ccqel_ev)\n",
    "axs[2, 0].plot(e_list, std_list)\n",
    "axs[2, 0].label_outer()\n",
    "axs[2, 0].set(ylabel=r\"(True-reco)/true E\")\n",
    "axs[2, 0].set_ylim(0, 0.5)\n",
    "axs[2, 0].grid()\n",
    "e_list, std_list = frac_e_vs_e(nuel_ccres_ev)\n",
    "axs[3, 0].plot(e_list, std_list)\n",
    "axs[3, 0].label_outer()\n",
    "axs[3, 0].set(ylabel=r\"(True-reco)/true E\")\n",
    "axs[3, 0].set_ylim(0, 0.5)\n",
    "axs[3, 0].grid()\n",
    "e_list, std_list = frac_e_vs_e(nuel_ccmec_ev)\n",
    "axs[4, 0].plot(e_list, std_list)\n",
    "axs[4, 0].label_outer()\n",
    "axs[4, 0].set(xlabel=r\"Neutrino energy (MeV)\", ylabel=r\"(True-reco)/true E\")\n",
    "axs[4, 0].set_ylim(0, 0.5)\n",
    "axs[4, 0].grid()\n",
    "e_list, std_list = frac_e_vs_e(numu_cccoh_ev)\n",
    "axs[0, 1].plot(e_list, std_list)\n",
    "axs[0, 1].label_outer()\n",
    "axs[0, 1].set_title(r\"numu\")\n",
    "axs[0, 1].text(8000, 0.15, \"CC-COH\", rotation=-90)\n",
    "axs[0, 1].set_ylim(0, 0.5)\n",
    "axs[0, 1].grid()\n",
    "e_list, std_list = frac_e_vs_e(numu_ccdis_ev)\n",
    "axs[1, 1].plot(e_list, std_list)\n",
    "axs[1, 1].label_outer()\n",
    "axs[1, 1].text(8000, 0.15, \"CC-DIS\", rotation=-90)\n",
    "axs[1, 1].set_ylim(0, 0.5)\n",
    "axs[1, 1].grid()\n",
    "e_list, std_list = frac_e_vs_e(numu_ccqel_ev)\n",
    "axs[2, 1].plot(e_list, std_list)\n",
    "axs[2, 1].label_outer()\n",
    "axs[2, 1].text(8000, 0.15, \"CC-QEL\", rotation=-90)\n",
    "axs[2, 1].set_ylim(0, 0.5)\n",
    "axs[2, 1].grid()\n",
    "e_list, std_list = frac_e_vs_e(numu_ccres_ev)\n",
    "axs[3, 1].plot(e_list, std_list)\n",
    "axs[3, 1].label_outer()\n",
    "axs[3, 1].text(8000, 0.15, \"CC-RES\", rotation=-90)\n",
    "axs[3, 1].set_ylim(0, 0.5)\n",
    "axs[3, 1].grid()\n",
    "e_list, std_list = frac_e_vs_e(numu_ccmec_ev)\n",
    "axs[4, 1].plot(e_list, std_list)\n",
    "axs[4, 1].label_outer()\n",
    "axs[4, 1].set(xlabel=r\"Neutrino energy (MeV)\")\n",
    "axs[4, 1].text(8000, 0.15, \"CC-MEC\", rotation=-90)\n",
    "axs[4, 1].set_ylim(0, 0.5)\n",
    "axs[4, 1].grid()\n",
    "chipsnet.plotting.save(save_path + \"true_vs_frac_energy\")"
   ]
  },
  {
   "cell_type": "code",
   "execution_count": null,
   "metadata": {},
   "outputs": [],
   "source": [
    "fig, axs = plt.subplots(5, 2, figsize=(10, 20), gridspec_kw={\"hspace\": 0.1, \"wspace\": 0.1})\n",
    "e_list, std_list = frac_e_vs_vtxX(nuel_cccoh_ev)\n",
    "axs[0, 0].plot(e_list, std_list)\n",
    "axs[0, 0].label_outer()\n",
    "axs[0, 0].set(ylabel=r\"(True-reco)/true E\")\n",
    "axs[0, 0].set_title(r\"nuel\")\n",
    "axs[0, 0].set_ylim(0, 0.5)\n",
    "axs[0, 0].grid()\n",
    "e_list, std_list = frac_e_vs_vtxX(nuel_ccdis_ev)\n",
    "axs[1, 0].plot(e_list, std_list)\n",
    "axs[1, 0].label_outer()\n",
    "axs[1, 0].set(ylabel=r\"(True-reco)/true E\")\n",
    "axs[1, 0].set_ylim(0, 0.5)\n",
    "axs[1, 0].grid()\n",
    "e_list, std_list = frac_e_vs_vtxX(nuel_ccqel_ev)\n",
    "axs[2, 0].plot(e_list, std_list)\n",
    "axs[2, 0].label_outer()\n",
    "axs[2, 0].set(ylabel=r\"(True-reco)/true E\")\n",
    "axs[2, 0].set_ylim(0, 0.5)\n",
    "axs[2, 0].grid()\n",
    "e_list, std_list = frac_e_vs_vtxX(nuel_ccres_ev)\n",
    "axs[3, 0].plot(e_list, std_list)\n",
    "axs[3, 0].label_outer()\n",
    "axs[3, 0].set(ylabel=r\"(True-reco)/true E\")\n",
    "axs[3, 0].set_ylim(0, 0.5)\n",
    "axs[3, 0].grid()\n",
    "e_list, std_list = frac_e_vs_vtxX(nuel_ccmec_ev)\n",
    "axs[4, 0].plot(e_list, std_list)\n",
    "axs[4, 0].label_outer()\n",
    "axs[4, 0].set(xlabel=r\"Vertex x-position (cm)\", ylabel=r\"(True-reco)/true E\")\n",
    "axs[4, 0].set_ylim(0, 0.5)\n",
    "axs[4, 0].grid()\n",
    "e_list, std_list = frac_e_vs_vtxX(numu_cccoh_ev)\n",
    "axs[0, 1].plot(e_list, std_list)\n",
    "axs[0, 1].label_outer()\n",
    "axs[0, 1].set_title(r\"numu\")\n",
    "axs[0, 1].text(1200, 0.15, \"CC-COH\", rotation=-90)\n",
    "axs[0, 1].set_ylim(0, 0.5)\n",
    "axs[0, 1].grid()\n",
    "e_list, std_list = frac_e_vs_vtxX(numu_ccdis_ev)\n",
    "axs[1, 1].plot(e_list, std_list)\n",
    "axs[1, 1].label_outer()\n",
    "axs[1, 1].text(1200, 0.15, \"CC-DIS\", rotation=-90)\n",
    "axs[1, 1].set_ylim(0, 0.5)\n",
    "axs[1, 1].grid()\n",
    "e_list, std_list = frac_e_vs_vtxX(numu_ccqel_ev)\n",
    "axs[2, 1].plot(e_list, std_list)\n",
    "axs[2, 1].label_outer()\n",
    "axs[2, 1].text(1200, 0.15, \"CC-QEL\", rotation=-90)\n",
    "axs[2, 1].set_ylim(0, 0.5)\n",
    "axs[2, 1].grid()\n",
    "e_list, std_list = frac_e_vs_vtxX(numu_ccres_ev)\n",
    "axs[3, 1].plot(e_list, std_list)\n",
    "axs[3, 1].label_outer()\n",
    "axs[3, 1].text(1200, 0.15, \"CC-RES\", rotation=-90)\n",
    "axs[3, 1].set_ylim(0, 0.5)\n",
    "axs[3, 1].grid()\n",
    "e_list, std_list = frac_e_vs_vtxX(numu_ccmec_ev)\n",
    "axs[4, 1].plot(e_list, std_list)\n",
    "axs[4, 1].label_outer()\n",
    "axs[4, 1].set(xlabel=r\"Vertex x-position (cm)\")\n",
    "axs[4, 1].text(1200, 0.15, \"CC-MEC\", rotation=-90)\n",
    "axs[4, 1].set_ylim(0, 0.5)\n",
    "axs[4, 1].grid()\n",
    "chipsnet.plotting.save(save_path + \"vtx_vs_frac_energy\")"
   ]
  },
  {
   "cell_type": "code",
   "execution_count": null,
   "metadata": {},
   "outputs": [],
   "source": [
    "# Tidy up\n",
    "del nuel_cccoh_ev\n",
    "del nuel_ccdis_ev\n",
    "del nuel_ccqel_ev\n",
    "del nuel_ccres_ev\n",
    "del nuel_ccmec_ev\n",
    "del nuel_ccqelmec_ev\n",
    "del numu_cccoh_ev\n",
    "del numu_ccdis_ev\n",
    "del numu_ccqel_ev\n",
    "del numu_ccres_ev\n",
    "del numu_ccmec_ev\n",
    "del numu_ccqelmec_ev\n",
    "del flux_ev"
   ]
  },
  {
   "cell_type": "markdown",
   "metadata": {},
   "source": [
    "<a id='final'></a>"
   ]
  },
  {
   "cell_type": "markdown",
   "metadata": {},
   "source": [
    "## Final performance and comparison with old reco/pid (final)\n",
    "* 1\n",
    "* 2\n",
    "* 3"
   ]
  },
  {
   "cell_type": "code",
   "execution_count": null,
   "metadata": {},
   "outputs": [],
   "source": [
    "def combined_process(config, data_name, cosmic_name, beam_name):\n",
    "    # Get the dataframe from the dataset name\n",
    "    events = chipsnet.utils.data_from_conf(config, data_name).testing_df(config.eval.examples)\n",
    "    \n",
    "    # Run the cosmic model inference\n",
    "    events = chipsnet.utils.run_inference(\n",
    "        events,\n",
    "        chipsnet.utils.model_from_conf(config, cosmic_name),\n",
    "        unstack=config.data.unstack,\n",
    "        reco_pars=config.model.reco_pars\n",
    "    )\n",
    "    \n",
    "    # Run the beam model inference\n",
    "    events = chipsnet.utils.run_inference(\n",
    "        events,\n",
    "        chipsnet.utils.model_from_conf(config, beam_name),\n",
    "        unstack=config.data.unstack,\n",
    "        reco_pars=config.model.reco_pars\n",
    "    )\n",
    "    \n",
    "    # Apply the event weights\n",
    "    events = chipsnet.utils.apply_weights(\n",
    "        events,\n",
    "        total_num=config.eval.weights.total,\n",
    "        nuel_frac=config.eval.weights.nuel,\n",
    "        anuel_frac=config.eval.weights.anuel,\n",
    "        numu_frac=config.eval.weights.numu,\n",
    "        anumu_frac=config.eval.weights.anumu,\n",
    "        cosmic_frac=config.eval.weights.cosmic,\n",
    "        verbose=True,\n",
    "    )\n",
    "\n",
    "    # Apply the standard cuts\n",
    "    events = chipsnet.utils.apply_standard_cuts(\n",
    "        events,\n",
    "        cosmic_cut=config.eval.cuts.cosmic,\n",
    "        q_cut=config.eval.cuts.q,\n",
    "        h_cut=config.eval.cuts.h,\n",
    "        theta_cut=config.eval.cuts.theta,\n",
    "        phi_cut=config.eval.cuts.phi,\n",
    "        verbose=True,\n",
    "    )\n",
    "    \n",
    "    # Combine beam categories into fully combined ones\n",
    "    events = chipsnet.utils.full_comb_combine(events, \"t_nu_nc_cat\")\n",
    "    \n",
    "    # Run curve calculation\n",
    "    curves_output = chipsnet.utils.calculate_curves(events, verbose=True)\n",
    "    outputs = {\n",
    "        \"cuts\": [curves_output[\"cuts\"]],\n",
    "        \"sig_effs\": [curves_output[\"sig_effs\"]],\n",
    "        \"bkg_effs\": [curves_output[\"bkg_effs\"]],\n",
    "        \"purs\": [curves_output[\"purs\"]],\n",
    "        \"foms\": [curves_output[\"foms\"]],\n",
    "        \"fom_effs\": [curves_output[\"fom_effs\"]],\n",
    "        \"fom_purs\": [curves_output[\"fom_purs\"]],\n",
    "        \"sig_effs_auc\": [curves_output[\"sig_effs_auc\"]],\n",
    "        \"bkg_effs_auc\": [curves_output[\"bkg_effs_auc\"]],\n",
    "        \"pur_auc\": [curves_output[\"pur_auc\"]],\n",
    "        \"fom_auc\": [curves_output[\"fom_auc\"]],\n",
    "        \"roc_auc\": [curves_output[\"roc_auc\"]],\n",
    "        \"comb_matrices\": [],\n",
    "        \"all_matrices\": []\n",
    "    }\n",
    "    \n",
    "    # TODO: THINK ABOUT HOW TO DO CLASSIFICATION CORRECTLY, not just >0.5\n",
    "    # DO WE NEED TWO, ONE FOR COMB AND ONE MORE SPECIFIC\n",
    "    class_prefix = \"pred_t_comb_cat_\"\n",
    "    events[\"comb_cat_class\"] = events.apply(\n",
    "        chipsnet.utils.classify, axis=1, args=(3, class_prefix)\n",
    "    )\n",
    "    class_prefix = \"pred_t_nu_nc_cat_\"\n",
    "    events[\"nu_nc_cat_class\"] = events.apply(\n",
    "        chipsnet.utils.classify, axis=1, args=(18, class_prefix),\n",
    "    )\n",
    "    \n",
    "    # Calculate classification reports\n",
    "    comb_report = classification_report(\n",
    "        events[\"t_comb_cat\"],\n",
    "        events[\"comb_cat_class\"],\n",
    "        labels=[x for x in range(4)],\n",
    "        target_names=chipsnet.data.MAP_FULL_COMB_CAT[\"labels\"],\n",
    "        sample_weight=events[\"w\"],\n",
    "        zero_division=0,\n",
    "    )\n",
    "    print(comb_report)\n",
    "    cat_report = classification_report(\n",
    "        events[\"t_nu_nc_cat\"],\n",
    "        events[\"nu_nc_cat_class\"],\n",
    "        labels=[x for x in range(19)],\n",
    "        target_names=chipsnet.data.MAP_NU_NC_COMB_CAT[\"labels\"],\n",
    "        sample_weight=events[\"w\"],\n",
    "        zero_division=0,\n",
    "    )\n",
    "    print(cat_report)\n",
    "    \n",
    "    # Calculate confusion matrices\n",
    "    matrix_comb = confusion_matrix(\n",
    "        events[\"t_comb_cat\"],\n",
    "        events[\"comb_cat_class\"],\n",
    "        labels=[x for x in range(4)],\n",
    "        sample_weight=events[\"w\"],\n",
    "        normalize=\"true\",\n",
    "    )\n",
    "    matrix_comb = np.rot90(matrix_comb, 1)\n",
    "    matrix_comb = pd.DataFrame(matrix_comb)\n",
    "    outputs[\"comb_matrices\"] = [matrix_comb]\n",
    "\n",
    "    matrix_full = confusion_matrix(\n",
    "        events[\"t_nu_nc_cat\"],\n",
    "        events[\"nu_nc_cat_class\"],\n",
    "        labels=[x for x in range(19)],\n",
    "        sample_weight=events[\"w\"],\n",
    "        normalize=\"true\",\n",
    "    )\n",
    "    matrix_full = np.rot90(matrix_full, 1)\n",
    "    matrix_full = pd.DataFrame(matrix_full)\n",
    "    outputs[\"all_matrices\"] = [matrix_full]\n",
    "    \n",
    "    return events, outputs"
   ]
  },
  {
   "cell_type": "code",
   "execution_count": null,
   "metadata": {},
   "outputs": [],
   "source": [
    "events, outputs = combined_process(config, \"flux_cosmic\", \"cosmic_vtx\", \"beam_primaries\")"
   ]
  },
  {
   "cell_type": "code",
   "execution_count": null,
   "metadata": {},
   "outputs": [],
   "source": [
    "plt.figure(figsize=(10, 10))\n",
    "sns.heatmap(\n",
    "    outputs[\"comb_matrices\"][0],\n",
    "    annot=True, \n",
    "    vmin=0.0, \n",
    "    vmax=1.0,\n",
    "    xticklabels=chipsnet.data.MAP_FULL_COMB_CAT[\"labels\"],\n",
    "    yticklabels=chipsnet.data.MAP_FULL_COMB_CAT[\"labels\"][::-1],\n",
    "    cbar=False,\n",
    "    square=True,\n",
    "    linewidth=1,\n",
    "    linecolor=\"grey\",\n",
    "    cmap=\"Reds\")\n",
    "plt.tick_params(axis='both', which='both',\n",
    "                bottom=False, top=False, left=False, right=False)\n",
    "plt.xlabel('True category', fontsize = 30)\n",
    "plt.ylabel('Predicted category', fontsize = 30)\n",
    "plt.show()"
   ]
  },
  {
   "cell_type": "code",
   "execution_count": null,
   "metadata": {},
   "outputs": [],
   "source": [
    "fig, axs = plt.subplots(1, 1, figsize=(10, 10))\n",
    "sns.heatmap(\n",
    "    outputs[\"all_matrices\"][0],\n",
    "    annot=False, \n",
    "    vmin=0.0, \n",
    "    vmax=1.0,\n",
    "    xticklabels=chipsnet.data.MAP_NU_NC_COMB_CAT[\"labels\"],\n",
    "    yticklabels=chipsnet.data.MAP_NU_NC_COMB_CAT[\"labels\"][::-1],\n",
    "    cbar=False,\n",
    "    square=True,\n",
    "    linewidth=1,\n",
    "    linecolor=\"grey\",\n",
    "    cmap=\"Reds\")\n",
    "axs.tick_params(axis='both', which='both',\n",
    "                bottom=False, top=False, left=False, right=False)\n",
    "axs.set_xlabel('True category', fontsize = 30)\n",
    "axs.set_ylabel('Predicted category', fontsize = 30)\n",
    "axs.add_patch(patches.Rectangle((0, 13), 6, 6, linewidth=3, edgecolor='black', facecolor='none'))\n",
    "axs.add_patch(patches.Rectangle((6, 7), 6, 6, linewidth=3, edgecolor='black', facecolor='none'))\n",
    "axs.add_patch(patches.Rectangle((12, 1), 6, 6, linewidth=3, edgecolor='black', facecolor='none'))\n",
    "axs.add_patch(patches.Rectangle((18, 0), 1, 1, linewidth=3, edgecolor='black', facecolor='none'))\n",
    "plt.show()"
   ]
  },
  {
   "cell_type": "code",
   "execution_count": null,
   "metadata": {},
   "outputs": [],
   "source": [
    "chipsnet.plotting.plot_curves([outputs], save_path+\"final_curves\")"
   ]
  },
  {
   "cell_type": "code",
   "execution_count": null,
   "metadata": {},
   "outputs": [],
   "source": [
    "chipsnet.plotting.plot_e_hists([outputs], events, save_path+\"final_hists\")"
   ]
  },
  {
   "cell_type": "code",
   "execution_count": null,
   "metadata": {},
   "outputs": [],
   "source": [
    "chipsnet.plotting.plot_history_comparison(config, [\"cosmic_vtx\", \"beam_primaries\"], save_path+\"final_history\")"
   ]
  },
  {
   "cell_type": "code",
   "execution_count": null,
   "metadata": {},
   "outputs": [],
   "source": [
    "# Tidy up\n",
    "del final_ev, final_out"
   ]
  },
  {
   "cell_type": "markdown",
   "metadata": {},
   "source": [
    "# Explainability and resilience"
   ]
  },
  {
   "cell_type": "markdown",
   "metadata": {},
   "source": [
    "<a id='cosmic_calib'></a>"
   ]
  },
  {
   "cell_type": "markdown",
   "metadata": {},
   "source": [
    "## Model calibration sensitivity: cosmic classification (cosmic_calib)\n",
    "* 1\n",
    "* 2\n",
    "* 3"
   ]
  },
  {
   "cell_type": "code",
   "execution_count": null,
   "metadata": {},
   "outputs": [],
   "source": [
    "ev_0, out_0 = chipsnet.utils.process_ds(config, \"flux_cosmic\", [\"cosmic_vtx\"])\n",
    "ev_10, out_10 = chipsnet.utils.process_ds(config, \"flux_cosmic_factor_10\", [\"cosmic_vtx\"])\n",
    "ev_20, out_20 = chipsnet.utils.process_ds(config, \"flux_cosmic_factor_20\", [\"cosmic_vtx\"])\n",
    "ev_50, out_50 = chipsnet.utils.process_ds(config, \"flux_cosmic_factor_50\", [\"cosmic_vtx\"])"
   ]
  },
  {
   "cell_type": "code",
   "execution_count": null,
   "metadata": {},
   "outputs": [],
   "source": [
    "# Tidy up\n",
    "del ev_0, out_0\n",
    "del ev_10, out_10\n",
    "del ev_20, out_20\n",
    "del ev_50, out_50"
   ]
  },
  {
   "cell_type": "markdown",
   "metadata": {},
   "source": [
    "<a id='beam_calib'></a>"
   ]
  },
  {
   "cell_type": "markdown",
   "metadata": {},
   "source": [
    "## Model calibration sensitivity: beam classification (beam_calib)\n",
    "* 1\n",
    "* 2\n",
    "* 3"
   ]
  },
  {
   "cell_type": "code",
   "execution_count": null,
   "metadata": {},
   "outputs": [],
   "source": [
    "ev_0, out_0 = chipsnet.utils.process_ds(config, \"flux\", [\"beam_primaries\"])\n",
    "ev_10, out_10 = chipsnet.utils.process_ds(config, \"flux_factor_10\", [\"beam_primaries\"])\n",
    "ev_20, out_20 = chipsnet.utils.process_ds(config, \"flux_factor_20\", [\"beam_primaries\"])\n",
    "ev_50, out_50 = chipsnet.utils.process_ds(config, \"flux_factor_50\", [\"beam_primaries\"])"
   ]
  },
  {
   "cell_type": "code",
   "execution_count": null,
   "metadata": {},
   "outputs": [],
   "source": [
    "chipsnet.plotting.plot_curves([out_0, out_10, out_20, out_50], save_path+\"beam_calib_curves\")"
   ]
  },
  {
   "cell_type": "code",
   "execution_count": null,
   "metadata": {},
   "outputs": [],
   "source": [
    "chipsnet.plotting.plot_e_hists([out_0, out_10, out_20, out_50], ev_0, save_path+\"beam_calib_hists\")"
   ]
  },
  {
   "cell_type": "code",
   "execution_count": null,
   "metadata": {},
   "outputs": [],
   "source": [
    "chipsnet.utils.print_output_comparison([out_0, out_10, out_20, out_50])"
   ]
  },
  {
   "cell_type": "code",
   "execution_count": null,
   "metadata": {},
   "outputs": [],
   "source": [
    "# Tidy up\n",
    "del ev_0, out_0\n",
    "del ev_10, out_10\n",
    "del ev_20, out_20\n",
    "del ev_50, out_50"
   ]
  },
  {
   "cell_type": "markdown",
   "metadata": {},
   "source": [
    "<a id='energy_calib'></a>"
   ]
  },
  {
   "cell_type": "markdown",
   "metadata": {},
   "source": [
    "## Model calibration sensitivity: energy estimation (energy_calib)\n",
    "* 1\n",
    "* 2\n",
    "* 3"
   ]
  },
  {
   "cell_type": "code",
   "execution_count": null,
   "metadata": {},
   "outputs": [],
   "source": [
    "ev_0, out_0 = chipsnet.utils.predict_energies(config, \"flux\", [\"nuel_cc_energy\"])\n",
    "ev_10, out_10 = chipsnet.utils.predict_energies(config, \"flux_factor_10\", [\"nuel_cc_energy\"])\n",
    "ev_20, out_20 = chipsnet.utils.predict_energies(config, \"flux_factor_20\", [\"nuel_cc_energy\"])\n",
    "ev_50, out_50 = chipsnet.utils.predict_energies(config, \"flux_factor_50\", [\"nuel_cc_energy\"])"
   ]
  },
  {
   "cell_type": "code",
   "execution_count": null,
   "metadata": {},
   "outputs": [],
   "source": [
    "e_range = [[0, 8000], [0, 8000]]\n",
    "e_bins = [40, 40]\n",
    "fig, axs = plt.subplots(1, 4, figsize=(20, 4), gridspec_kw={\"hspace\": 0.1, \"wspace\": 0.1})\n",
    "axs[0].hist2d(v_cth_flux_ev[v_cth_flux_ev[\"t_comb_cat\"] == 0][\"t_nuEnergy\"], v_cth_flux_ev[v_cth_flux_ev[\"t_comb_cat\"] == 0][\"nuel_cc_energy_pred_t_nuEnergy\"],\n",
    "              range=e_range, bins=e_bins, weights=v_cth_flux_ev[v_cth_flux_ev[\"t_comb_cat\"] == 0][\"w\"], cmap=\"Reds\")\n",
    "axs[0].grid()\n",
    "axs[0].label_outer()\n",
    "axs[0].set(xlabel=r\"True energy (MeV)\", ylabel=r\"Reco energy (MeV)\")\n",
    "axs[0].set_title(r\"0\")\n",
    "axs[1].hist2d(v_cth_flux_10_ev[v_cth_flux_10_ev[\"t_comb_cat\"] == 0][\"t_nuEnergy\"], v_cth_flux_10_ev[v_cth_flux_10_ev[\"t_comb_cat\"] == 0][\"nuel_cc_energy_pred_t_nuEnergy\"],\n",
    "              range=e_range, bins=e_bins, weights=v_cth_flux_10_ev[v_cth_flux_10_ev[\"t_comb_cat\"] == 0][\"w\"], cmap=\"Reds\")\n",
    "axs[1].grid()\n",
    "axs[1].label_outer()\n",
    "axs[1].set(xlabel=r\"True energy (MeV)\")\n",
    "axs[1].set_title(r\"10\")\n",
    "axs[2].hist2d(v_cth_flux_20_ev[v_cth_flux_20_ev[\"t_comb_cat\"] == 0][\"t_nuEnergy\"], v_cth_flux_20_ev[v_cth_flux_20_ev[\"t_comb_cat\"] == 0][\"nuel_cc_energy_pred_t_nuEnergy\"],\n",
    "              range=e_range, bins=e_bins, weights=v_cth_flux_20_ev[v_cth_flux_20_ev[\"t_comb_cat\"] == 0][\"w\"], cmap=\"Reds\")\n",
    "axs[2].grid()\n",
    "axs[2].label_outer()\n",
    "axs[2].set(xlabel=r\"True energy (MeV)\")\n",
    "axs[2].set_title(r\"20\")\n",
    "axs[3].hist2d(v_cth_flux_50_ev[v_cth_flux_50_ev[\"t_comb_cat\"] == 0][\"t_nuEnergy\"], v_cth_flux_50_ev[v_cth_flux_50_ev[\"t_comb_cat\"] == 0][\"nuel_cc_energy_pred_t_nuEnergy\"],\n",
    "              range=e_range, bins=e_bins, weights=v_cth_flux_50_ev[v_cth_flux_50_ev[\"t_comb_cat\"] == 0][\"w\"], cmap=\"Reds\")\n",
    "axs[3].grid()\n",
    "axs[3].label_outer()\n",
    "axs[3].set(xlabel=r\"True energy (MeV)\")\n",
    "axs[3].set_title(r\"50\")\n",
    "chipsnet.plotting.save(save_path + \"true_vs_reco_energy_comb\")"
   ]
  },
  {
   "cell_type": "code",
   "execution_count": null,
   "metadata": {},
   "outputs": [],
   "source": [
    "v_cth_flux_ev['true_reco_frac_nuEnergy'] = (v_cth_flux_ev[\"t_nuEnergy\"] - v_cth_flux_ev[\"nuel_cc_energy_pred_t_nuEnergy\"]) / v_cth_flux_ev[\"t_nuEnergy\"]\n",
    "v_cth_flux_10_ev['true_reco_frac_nuEnergy'] = (v_cth_flux_10_ev[\"t_nuEnergy\"] - v_cth_flux_10_ev[\"nuel_cc_energy_pred_t_nuEnergy\"]) / v_cth_flux_10_ev[\"t_nuEnergy\"]\n",
    "v_cth_flux_20_ev['true_reco_frac_nuEnergy'] = (v_cth_flux_20_ev[\"t_nuEnergy\"] - v_cth_flux_20_ev[\"nuel_cc_energy_pred_t_nuEnergy\"]) / v_cth_flux_20_ev[\"t_nuEnergy\"]\n",
    "v_cth_flux_50_ev['true_reco_frac_nuEnergy'] = (v_cth_flux_50_ev[\"t_nuEnergy\"] - v_cth_flux_50_ev[\"nuel_cc_energy_pred_t_nuEnergy\"]) / v_cth_flux_50_ev[\"t_nuEnergy\"]"
   ]
  },
  {
   "cell_type": "code",
   "execution_count": null,
   "metadata": {},
   "outputs": [],
   "source": [
    "e_range = [[0, 8000], [0, 8000]]\n",
    "e_bins = [40, 40]\n",
    "fig, axs = plt.subplots(1, 4, figsize=(20, 4), gridspec_kw={\"hspace\": 0.1, \"wspace\": 0.1})\n",
    "e_list, std_list = frac_e_vs_e(v_cth_flux_ev)\n",
    "axs[0].plot(e_list, std_list)\n",
    "axs[0].grid()\n",
    "axs[0].label_outer()\n",
    "axs[0].set(xlabel=r\"True energy (MeV)\", ylabel=r\"Reco energy (MeV)\")\n",
    "axs[0].set_title(r\"0\")\n",
    "axs[0].set_ylim(0, 0.5)\n",
    "e_list, std_list = frac_e_vs_e(v_cth_flux_10_ev)\n",
    "axs[1].plot(e_list, std_list)\n",
    "axs[1].grid()\n",
    "axs[1].label_outer()\n",
    "axs[1].set(xlabel=r\"True energy (MeV)\")\n",
    "axs[1].set_title(r\"10\")\n",
    "axs[1].set_ylim(0, 0.5)\n",
    "e_list, std_list = frac_e_vs_e(v_cth_flux_20_ev)\n",
    "axs[2].plot(e_list, std_list)\n",
    "axs[2].grid()\n",
    "axs[2].label_outer()\n",
    "axs[2].set(xlabel=r\"True energy (MeV)\")\n",
    "axs[2].set_title(r\"20\")\n",
    "axs[2].set_ylim(0, 0.5)\n",
    "e_list, std_list = frac_e_vs_e(v_cth_flux_50_ev)\n",
    "axs[3].plot(e_list, std_list)\n",
    "axs[3].grid()\n",
    "axs[3].label_outer()\n",
    "axs[3].set(xlabel=r\"True energy (MeV)\")\n",
    "axs[3].set_title(r\"50\")\n",
    "axs[3].set_ylim(0, 0.5)\n",
    "chipsnet.plotting.save(save_path + \"true_vs_reco_energy_comb\")"
   ]
  },
  {
   "cell_type": "code",
   "execution_count": null,
   "metadata": {},
   "outputs": [],
   "source": [
    "# Tidy up\n",
    "del ev_0, out_0\n",
    "del ev_10, out_10\n",
    "del ev_20, out_20\n",
    "del ev_50, out_50"
   ]
  },
  {
   "cell_type": "markdown",
   "metadata": {},
   "source": [
    "<a id='cosmic_cluster'></a>"
   ]
  },
  {
   "cell_type": "markdown",
   "metadata": {},
   "source": [
    "## Clustering: cosmic classification\n",
    "* 1\n",
    "* 2\n",
    "* 3"
   ]
  },
  {
   "cell_type": "markdown",
   "metadata": {},
   "source": [
    "<a id='beam_cluster'></a>"
   ]
  },
  {
   "cell_type": "markdown",
   "metadata": {},
   "source": [
    "## Clustering: beam classification\n",
    "* 1\n",
    "* 2\n",
    "* 3"
   ]
  },
  {
   "cell_type": "code",
   "execution_count": null,
   "metadata": {},
   "outputs": [],
   "source": [
    "u_ev, u_out = chipsnet.utils.process_ds(config, \"uniform\", [\"beam_primaries\"])"
   ]
  },
  {
   "cell_type": "code",
   "execution_count": null,
   "metadata": {},
   "outputs": [],
   "source": [
    "pca_model = chipsnet.utils.model_from_conf(config, \"beam_primaries\")\n",
    "u_ev = chipsnet.utils.run_pca(u_ev, pca_model, verbose=True, components=2, standardise=True)\n",
    "cat_0_ev = u_ev[u_ev.t_comb_cat == 0]\n",
    "cat_1_ev = u_ev[u_ev.t_comb_cat == 1]\n",
    "cat_2_ev = u_ev[u_ev.t_comb_cat == 2]"
   ]
  },
  {
   "cell_type": "code",
   "execution_count": null,
   "metadata": {},
   "outputs": [],
   "source": [
    "fig, axs = plt.subplots(1, 1, figsize=(16, 8))\n",
    "axs.margins(0.05) # Optional, just adds 5% padding to the autoscaling\n",
    "axs.plot(cat_0_ev.pca_0, cat_0_ev.pca_1, marker='o', linestyle='', ms=12, label=\"nuel-cc\")\n",
    "axs.plot(cat_1_ev.pca_0, cat_1_ev.pca_1, marker='o', linestyle='', ms=12, label=\"numu-cc\")\n",
    "axs.plot(cat_2_ev.pca_0, cat_2_ev.pca_1, marker='o', linestyle='', ms=12, label=\"nc\")\n",
    "axs.legend()\n",
    "axs.set_xlabel('pca-0', fontsize=17)\n",
    "axs.set_ylabel('pca-1', fontsize=17)\n",
    "chipsnet.plotting.save(save_path + \"pca\")"
   ]
  },
  {
   "cell_type": "code",
   "execution_count": null,
   "metadata": {},
   "outputs": [],
   "source": [
    "tsne_model = chipsnet.utils.model_from_conf(config, \"beam_primaries\")\n",
    "u_ev = chipsnet.utils.run_tsne(u_ev, tsne_model, components=2, standardise=True, max_events=10000)\n",
    "cat_0_ev = u_ev[u_ev.t_comb_cat == 0]\n",
    "cat_1_ev = u_ev[u_ev.t_comb_cat == 1]\n",
    "cat_2_ev = u_ev[u_ev.t_comb_cat == 2]"
   ]
  },
  {
   "cell_type": "code",
   "execution_count": null,
   "metadata": {},
   "outputs": [],
   "source": [
    "fig, axs = plt.subplots(1, 1, figsize=(16, 8))\n",
    "axs.margins(0.05) # Optional, just adds 5% padding to the autoscaling\n",
    "axs.plot(cat_0_ev.tsne_0, cat_0_ev.tsne_1, marker='o', linestyle='', ms=12, label=\"nuel-cc\")\n",
    "axs.plot(cat_1_ev.tsne_0, cat_1_ev.tsne_1, marker='o', linestyle='', ms=12, label=\"numu-cc\")\n",
    "axs.plot(cat_2_ev.tsne_0, cat_2_ev.tsne_1, marker='o', linestyle='', ms=12, label=\"nc\")\n",
    "axs.legend()\n",
    "axs.set_xlabel('tsne-0', fontsize=17)\n",
    "axs.set_ylabel('tsne-1', fontsize=17)\n",
    "chipsnet.plotting.save(save_path + \"tsne\")"
   ]
  },
  {
   "cell_type": "code",
   "execution_count": null,
   "metadata": {},
   "outputs": [],
   "source": [
    "'''\n",
    "colors = [\"#004d00\", \"#009900\", \"#00e600\", \"#33ff33\", \n",
    "          \"#00004d\", \"#0000b3\", \"#1a1aff\", \"#8080ff\", \n",
    "          \"#660000\", \"#cc0000\", \"#ff3333\", \"#ff9999\",\n",
    "          \"#660000\", \"#cc0000\", \"#ff3333\", \"#ff9999\"]\n",
    "plt.figure(figsize=(16,8))\n",
    "sns.scatterplot(x=\"beam-tsne-0\", y=\"beam-tsne-1\", hue=u_eval.b_model.cat, palette=sns.color_palette(colors), data=beam_data, legend=\"full\", alpha=0.3)\n",
    "plt.show()\n",
    "'''"
   ]
  },
  {
   "cell_type": "code",
   "execution_count": null,
   "metadata": {},
   "outputs": [],
   "source": [
    "# Tidy up\n",
    "del u_ev, u_out"
   ]
  },
  {
   "cell_type": "markdown",
   "metadata": {},
   "source": [
    "<a id='cosmic_explain'></a>"
   ]
  },
  {
   "cell_type": "markdown",
   "metadata": {},
   "source": [
    "## Explanation: cosmic classification\n",
    "* 1\n",
    "* 2\n",
    "* 3"
   ]
  },
  {
   "cell_type": "markdown",
   "metadata": {},
   "source": [
    "<a id='beam_explain'></a>"
   ]
  },
  {
   "cell_type": "markdown",
   "metadata": {},
   "source": [
    "## Explanation: beam classification\n",
    "* 1\n",
    "* 2\n",
    "* 3"
   ]
  },
  {
   "cell_type": "code",
   "execution_count": null,
   "metadata": {},
   "outputs": [],
   "source": [
    "explain_ev, explain_out = chipsnet.utils.process_ds(config, \"stacked_noreco\")"
   ]
  },
  {
   "cell_type": "code",
   "execution_count": null,
   "metadata": {},
   "outputs": [],
   "source": [
    "grad_cam_model = chipsnet.utils.model_from_conf(config, \"explain\")\n",
    "grad_cams_1 = chipsnet.utils.explain_gradcam(explain_ev, grad_cam_model, 10, output=\"t_nu_nc_cat\", layer_name=\"block0_path0_conv1\")\n",
    "grad_cams_2 = chipsnet.utils.explain_gradcam(explain_ev, grad_cam_model, 10, output=\"t_nu_nc_cat\", layer_name=\"block1_path0_conv1\")\n",
    "grad_cams_3 = chipsnet.utils.explain_gradcam(explain_ev, grad_cam_model, 10, output=\"t_nu_nc_cat\", layer_name=\"block2_conv1\")"
   ]
  },
  {
   "cell_type": "code",
   "execution_count": null,
   "metadata": {},
   "outputs": [],
   "source": [
    "event = 2\n",
    "fig, axs = plt.subplots(1, 3, figsize=(15, 12), gridspec_kw={'hspace': 0.3})\n",
    "plt.setp(axs, xticks=[0, 16, 32, 48, 64], yticks=[0, 16, 32, 48, 64])\n",
    "axs[0].imshow(grad_cams_1[event], cmap='Reds', origin='lower')\n",
    "axs[0].set(xlabel='$\\phi$ bins', ylabel='$\\\\theta$ bins', title='GradCam Block 1')\n",
    "axs[1].imshow(grad_cams_2[event], cmap='Reds', origin='lower')\n",
    "axs[1].set(xlabel='$\\phi$ bins', ylabel='$\\\\theta$ bins', title='GradCam Block 2')\n",
    "axs[2].imshow(grad_cams_3[event], cmap='Reds', origin='lower')\n",
    "axs[2].set(xlabel='$\\phi$ bins', ylabel='$\\\\theta$ bins', title='GradCam Block 3')\n",
    "chipsnet.plotting.save(save_path + \"grad_cam\")"
   ]
  },
  {
   "cell_type": "code",
   "execution_count": null,
   "metadata": {},
   "outputs": [],
   "source": [
    "activation_model = chipsnet.utils.model_from_conf(config, \"explain\")\n",
    "activations_1 = chipsnet.utils.explain_activation(explain_ev, activation_model, 10, output=\"t_nu_nc_cat\", layer_name=\"block0_path0_conv1\")\n",
    "activations_2 = chipsnet.utils.explain_activation(explain_ev, activation_model, 10, output=\"t_nu_nc_cat\", layer_name=\"block1_path0_conv1\")\n",
    "activations_3 = chipsnet.utils.explain_activation(explain_ev, activation_model, 10, output=\"t_nu_nc_cat\", layer_name=\"block2_conv1\")"
   ]
  },
  {
   "cell_type": "code",
   "execution_count": null,
   "metadata": {},
   "outputs": [],
   "source": [
    "event = 1\n",
    "fig, axs = plt.subplots(1, 3, figsize=(20, 8))\n",
    "plt.rc('grid', linestyle=\"-\", color='black')\n",
    "\n",
    "axs[0].set_xticks([0, 32, 64, 96, 128, 160, 192, 224, 256])\n",
    "axs[0].set_yticks([0, 32, 64, 96, 128, 160, 192, 224, 256])\n",
    "axs[0].set_xticklabels('')\n",
    "axs[0].set_yticklabels('')\n",
    "extent = (0, 256, 256, 0)\n",
    "axs[0].imshow(activations_1[event], cmap='Reds', origin='lower', extent=extent)\n",
    "axs[0].set_title('Block 1 Activations')\n",
    "axs[0].grid()\n",
    "\n",
    "extent = (0, 192, 192, 0)\n",
    "axs[1].set_xticks([0, 16, 32, 48, 64, 80, 96, 112, 128, 144, 160, 176, 192])\n",
    "axs[1].set_yticks([0, 16, 32, 48, 64, 80, 96, 112, 128, 144, 160, 176, 192])\n",
    "axs[1].set_xticklabels('')\n",
    "axs[1].set_yticklabels('')\n",
    "axs[1].imshow(activations_2[event], cmap='Reds', origin='lower', extent=extent)\n",
    "axs[1].set_title('Block 2 Activations')\n",
    "axs[1].grid()\n",
    "\n",
    "extent = (0, 128, 128, 0)\n",
    "axs[2].set_xticks([0, 8, 16, 24, 32, 40, 48, 56, 64, 72, 80, 88, 96, 104, 112, 120, 128])\n",
    "axs[2].set_yticks([0, 8, 16, 24, 32, 40, 48, 56, 64, 72, 80, 88, 96, 104, 112, 120, 128])\n",
    "axs[2].set_xticklabels('')\n",
    "axs[2].set_yticklabels('')\n",
    "axs[2].imshow(activations_3[event], cmap='Reds', origin='lower', extent=extent)\n",
    "axs[2].set_title('Block 3 Activations')\n",
    "axs[2].grid()\n",
    "\n",
    "chipsnet.plotting.save(save_path + \"activations\")"
   ]
  },
  {
   "cell_type": "code",
   "execution_count": null,
   "metadata": {},
   "outputs": [],
   "source": [
    "# Tidy up\n",
    "del explain_ev, explain_out"
   ]
  },
  {
   "cell_type": "markdown",
   "metadata": {},
   "source": [
    "<a id='energy_explain'></a>"
   ]
  },
  {
   "cell_type": "markdown",
   "metadata": {},
   "source": [
    "## Explanation: energy estimation\n",
    "* 1\n",
    "* 2\n",
    "* 3"
   ]
  }
 ],
 "metadata": {
  "kernelspec": {
   "display_name": "Python 3",
   "language": "python",
   "name": "python3"
  },
  "language_info": {
   "codemirror_mode": {
    "name": "ipython",
    "version": 3
   },
   "file_extension": ".py",
   "mimetype": "text/x-python",
   "name": "python",
   "nbconvert_exporter": "python",
   "pygments_lexer": "ipython3",
   "version": "3.8.3"
  }
 },
 "nbformat": 4,
 "nbformat_minor": 4
}
