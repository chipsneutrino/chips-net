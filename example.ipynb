{
 "cells": [
  {
   "cell_type": "markdown",
   "metadata": {},
   "source": [
    "# CHIPS-CVN Example Notebook"
   ]
  },
  {
   "cell_type": "markdown",
   "metadata": {},
   "source": [
    "### Get Example ROOT Hit Maps"
   ]
  },
  {
   "cell_type": "code",
   "execution_count": 8,
   "metadata": {},
   "outputs": [
    {
     "name": "stdout",
     "output_type": "stream",
     "text": [
      "--2020-01-31 17:21:17--  http://www.hep.ucl.ac.uk/~jtingey/beam_nuel_qel_cc.tar\n",
      "Resolving www.hep.ucl.ac.uk (www.hep.ucl.ac.uk)... 128.40.4.8\n",
      "Connecting to www.hep.ucl.ac.uk (www.hep.ucl.ac.uk)|128.40.4.8|:80... connected.\n",
      "HTTP request sent, awaiting response... 200 OK\n",
      "Length: 241418240 (230M) [application/x-tar]\n",
      "Saving to: ‘example_data/beam_nuel_qel_cc.tar’\n",
      "\n",
      "beam_nuel_qel_cc.ta 100%[===================>] 230.23M   112MB/s    in 2.1s    \n",
      "\n",
      "2020-01-31 17:21:19 (112 MB/s) - ‘example_data/beam_nuel_qel_cc.tar’ saved [241418240/241418240]\n",
      "\n",
      "./beam_nuel_qel_cc/map/chips_1200_sk1pe/\n",
      "./beam_nuel_qel_cc/map/chips_1200_sk1pe/filtered_001_sim_map.root\n",
      "./beam_nuel_qel_cc/map/chips_1200_sk1pe/filtered_006_sim_map.root\n",
      "./beam_nuel_qel_cc/map/chips_1200_sk1pe/filtered_005_sim_map.root\n",
      "./beam_nuel_qel_cc/map/chips_1200_sk1pe/filtered_000_sim_map.root\n",
      "./beam_nuel_qel_cc/map/chips_1200_sk1pe/filtered_007_sim_map.root\n",
      "./beam_nuel_qel_cc/map/chips_1200_sk1pe/filtered_002_sim_map.root\n",
      "./beam_nuel_qel_cc/map/chips_1200_sk1pe/filtered_004_sim_map.root\n",
      "./beam_nuel_qel_cc/map/chips_1200_sk1pe/filtered_008_sim_map.root\n",
      "./beam_nuel_qel_cc/map/chips_1200_sk1pe/filtered_003_sim_map.root\n",
      "./beam_nuel_qel_cc/map/chips_1200_sk1pe/filtered_009_sim_map.root\n",
      "--2020-01-31 17:21:20--  http://www.hep.ucl.ac.uk/~jtingey/beam_numu_qel_cc.tar\n",
      "Resolving www.hep.ucl.ac.uk (www.hep.ucl.ac.uk)... 128.40.4.8\n",
      "Connecting to www.hep.ucl.ac.uk (www.hep.ucl.ac.uk)|128.40.4.8|:80... connected.\n",
      "HTTP request sent, awaiting response... 200 OK\n",
      "Length: 228505600 (218M) [application/x-tar]\n",
      "Saving to: ‘example_data/beam_numu_qel_cc.tar’\n",
      "\n",
      "beam_numu_qel_cc.ta 100%[===================>] 217.92M   112MB/s    in 1.9s    \n",
      "\n",
      "2020-01-31 17:21:22 (112 MB/s) - ‘example_data/beam_numu_qel_cc.tar’ saved [228505600/228505600]\n",
      "\n",
      "./beam_numu_qel_cc/map/chips_1200_sk1pe/\n",
      "./beam_numu_qel_cc/map/chips_1200_sk1pe/filtered_000_sim_map.root\n",
      "./beam_numu_qel_cc/map/chips_1200_sk1pe/filtered_001_sim_map.root\n",
      "./beam_numu_qel_cc/map/chips_1200_sk1pe/filtered_003_sim_map.root\n",
      "./beam_numu_qel_cc/map/chips_1200_sk1pe/filtered_002_sim_map.root\n",
      "./beam_numu_qel_cc/map/chips_1200_sk1pe/filtered_004_sim_map.root\n",
      "./beam_numu_qel_cc/map/chips_1200_sk1pe/filtered_005_sim_map.root\n",
      "./beam_numu_qel_cc/map/chips_1200_sk1pe/filtered_006_sim_map.root\n",
      "./beam_numu_qel_cc/map/chips_1200_sk1pe/filtered_007_sim_map.root\n",
      "./beam_numu_qel_cc/map/chips_1200_sk1pe/filtered_008_sim_map.root\n",
      "./beam_numu_qel_cc/map/chips_1200_sk1pe/filtered_009_sim_map.root\n"
     ]
    }
   ],
   "source": [
    "!mkdir example_data\n",
    "!wget -P example_data http://www.hep.ucl.ac.uk/~jtingey/beam_nuel_qel_cc.tar\n",
    "!tar -C example_data -xvf example_data/beam_nuel_qel_cc.tar\n",
    "!rm example_data/beam_nuel_qel_cc.tar\n",
    "!wget -P example_data http://www.hep.ucl.ac.uk/~jtingey/beam_numu_qel_cc.tar\n",
    "!tar -C example_data -xvf example_data/beam_numu_qel_cc.tar\n",
    "!rm example_data/beam_numu_qel_cc.tar"
   ]
  },
  {
   "cell_type": "markdown",
   "metadata": {},
   "source": [
    "### Convert ROOT Hit Maps to tfrecords"
   ]
  },
  {
   "cell_type": "code",
   "execution_count": 9,
   "metadata": {},
   "outputs": [
    {
     "name": "stdout",
     "output_type": "stream",
     "text": [
      "Processing job 0...\n",
      "Processing job 0...\n"
     ]
    }
   ],
   "source": [
    "import chipscvn.data as data\n",
    "\n",
    "# Firstly beam_nuel_qel_cc files\n",
    "nuel_creator = data.DataCreator(\"example_data/beam_nuel_qel_cc\", \"chips_1200_sk1pe\", 0.1, 10, True)\n",
    "nuel_creator.preprocess()\n",
    "\n",
    "# Secondly beam_numu_qel_cc_file\n",
    "numu_creator = data.DataCreator(\"example_data/beam_numu_qel_cc\", \"chips_1200_sk1pe\", 0.1, 10, True)\n",
    "numu_creator.preprocess()"
   ]
  },
  {
   "cell_type": "code",
   "execution_count": 9,
   "metadata": {},
   "outputs": [
    {
     "name": "stdout",
     "output_type": "stream",
     "text": [
      "---  4 Physical GPUs, 4 Logical GPUs ---\n",
      "Model: \"single_par_model\"\n",
      "_________________________________________________________________\n",
      "Layer (type)                 Output Shape              Param #   \n",
      "=================================================================\n",
      "img (InputLayer)             [(None, 64, 64, 3)]       0         \n",
      "_________________________________________________________________\n",
      "conv2d_24 (Conv2D)           (None, 64, 64, 64)        1792      \n",
      "_________________________________________________________________\n",
      "conv2d_25 (Conv2D)           (None, 62, 62, 64)        36928     \n",
      "_________________________________________________________________\n",
      "max_pooling2d_12 (MaxPooling (None, 31, 31, 64)        0         \n",
      "_________________________________________________________________\n",
      "dropout_16 (Dropout)         (None, 31, 31, 64)        0         \n",
      "_________________________________________________________________\n",
      "conv2d_26 (Conv2D)           (None, 31, 31, 128)       73856     \n",
      "_________________________________________________________________\n",
      "conv2d_27 (Conv2D)           (None, 29, 29, 128)       147584    \n",
      "_________________________________________________________________\n",
      "max_pooling2d_13 (MaxPooling (None, 14, 14, 128)       0         \n",
      "_________________________________________________________________\n",
      "dropout_17 (Dropout)         (None, 14, 14, 128)       0         \n",
      "_________________________________________________________________\n",
      "flatten_4 (Flatten)          (None, 25088)             0         \n",
      "_________________________________________________________________\n",
      "dense_4 (Dense)              (None, 256)               6422784   \n",
      "_________________________________________________________________\n",
      "dropout_18 (Dropout)         (None, 256)               0         \n",
      "_________________________________________________________________\n",
      "lepEnergy (Dense)            (None, 1)                 257       \n",
      "=================================================================\n",
      "Total params: 6,683,201\n",
      "Trainable params: 6,683,201\n",
      "Non-trainable params: 0\n",
      "_________________________________________________________________\n"
     ]
    }
   ],
   "source": [
    "import chipscvn.utils as utils\n",
    "import chipscvn.config as config\n",
    "import chipscvn.data as data\n",
    "import chipscvn.models as models\n",
    "import chipscvn.trainers as trainer\n",
    "\n",
    "utils.gpu_setup()  # Setup the GPU's so they work on all machines\n",
    "config = config.process_config(\"config/example_energy_estimation.yml\")\n",
    "data_loader = data.DataLoader(config)\n",
    "model = utils.get_model(config)\n",
    "model.summarise()\n",
    "trainer = utils.get_trainer(config, model, data_loader)"
   ]
  },
  {
   "cell_type": "code",
   "execution_count": 10,
   "metadata": {},
   "outputs": [
    {
     "name": "stdout",
     "output_type": "stream",
     "text": [
      "Epoch 1/3\n",
      "246/246 [==============================] - 7s 28ms/step - loss: 1419183.6848 - mae: 743.1565 - mse: 1419184.1250 - val_loss: 213404.5185 - val_mae: 335.7448 - val_mse: 213404.5156\n",
      "Epoch 2/3\n",
      "246/246 [==============================] - 6s 25ms/step - loss: 216531.2696 - mae: 332.3323 - mse: 216531.3281 - val_loss: 183197.9237 - val_mae: 298.3668 - val_mse: 183197.9219\n",
      "Epoch 3/3\n",
      "246/246 [==============================] - 6s 25ms/step - loss: 172910.4808 - mae: 293.4533 - mse: 172910.5312 - val_loss: 155775.3617 - val_mae: 267.4023 - val_mse: 155775.3594\n"
     ]
    }
   ],
   "source": [
    "trainer.train()"
   ]
  }
 ],
 "metadata": {
  "kernelspec": {
   "display_name": "Python 3",
   "language": "python",
   "name": "python3"
  },
  "language_info": {
   "codemirror_mode": {
    "name": "ipython",
    "version": 3
   },
   "file_extension": ".py",
   "mimetype": "text/x-python",
   "name": "python",
   "nbconvert_exporter": "python",
   "pygments_lexer": "ipython3",
   "version": "3.7.6"
  }
 },
 "nbformat": 4,
 "nbformat_minor": 2
}
