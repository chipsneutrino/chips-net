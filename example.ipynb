{
 "cells": [
  {
   "cell_type": "markdown",
   "metadata": {},
   "source": [
    "# CHIPS-CVN Example Notebook"
   ]
  },
  {
   "cell_type": "markdown",
   "metadata": {},
   "source": [
    "## Get Example ROOT Hit Maps\n",
    "\n",
    "Firstly we must download some data to work with. We will download some beam $\\nu_{e}$ and $\\nu_{\\mu}$ charged-current (CC), quasi-elastic (QEL) events. There are 20000 events for each, which will be stored in ./example_data (everything in this notebook assumes this relative path)."
   ]
  },
  {
   "cell_type": "code",
   "execution_count": 1,
   "metadata": {},
   "outputs": [
    {
     "name": "stdout",
     "output_type": "stream",
     "text": [
      "beam_nuel_qel_cc.ta 100%[===================>] 230.23M   112MB/s    in 2.1s    \n",
      "beam_numu_qel_cc.ta 100%[===================>] 217.92M   112MB/s    in 1.9s    \n"
     ]
    }
   ],
   "source": [
    "!mkdir example_data\n",
    "!wget -q --show-progress -P example_data http://www.hep.ucl.ac.uk/~jtingey/beam_nuel_qel_cc.tar\n",
    "!tar -C example_data -xf example_data/beam_nuel_qel_cc.tar\n",
    "!rm example_data/beam_nuel_qel_cc.tar\n",
    "!wget -q --show-progress -P example_data http://www.hep.ucl.ac.uk/~jtingey/beam_numu_qel_cc.tar\n",
    "!tar -C example_data -xf example_data/beam_numu_qel_cc.tar\n",
    "!rm example_data/beam_numu_qel_cc.tar"
   ]
  },
  {
   "cell_type": "markdown",
   "metadata": {},
   "source": [
    "## Setup the GPUs\n",
    "\n",
    "We need to first initialise the GPUs"
   ]
  },
  {
   "cell_type": "code",
   "execution_count": 2,
   "metadata": {},
   "outputs": [
    {
     "name": "stdout",
     "output_type": "stream",
     "text": [
      "---  4 Physical GPUs, 4 Logical GPUs ---\n"
     ]
    }
   ],
   "source": [
    "import chipscvn.utils as utils\n",
    "utils.gpu_setup()  # Setup the GPU's"
   ]
  },
  {
   "cell_type": "markdown",
   "metadata": {},
   "source": [
    "## Convert ROOT Hit Maps to tfrecords\n",
    "\n",
    "We first convert the ROOT hit map files into .tfrecords files, so Tensorflow (TF) can load them on-the-fly when training. These contain serialised \"examples\" containing \"features\" and \"labels\". We also split the data into TRAIN, VALIDATION and TEST sets. The DataCreator class in the data module does this (by default it does this in parralel)"
   ]
  },
  {
   "cell_type": "code",
   "execution_count": 3,
   "metadata": {},
   "outputs": [
    {
     "name": "stdout",
     "output_type": "stream",
     "text": [
      "Processing nuel events...\n",
      "Processing job 0...\n",
      "Processing numu events...\n",
      "Processing job 0...\n"
     ]
    }
   ],
   "source": [
    "import chipscvn.data as data\n",
    "\n",
    "# Firstly beam_nuel_qel_cc (input_directory, geometry_name, test/val fraction, join, single_thread)\n",
    "print(\"Processing nuel events...\")\n",
    "nuel_creator = data.DataCreator(\"./example_data/beam_nuel_qel_cc\", \"chips_1200_sk1pe\", 0.1, 10, True)\n",
    "nuel_creator.preprocess()\n",
    "\n",
    "# Secondly beam_numu_qel_cc (input_directory, geometry_name, test/val fraction, join, single_thread)\n",
    "print(\"Processing numu events...\")\n",
    "numu_creator = data.DataCreator(\"./example_data/beam_numu_qel_cc\", \"chips_1200_sk1pe\", 0.1, 10, True)\n",
    "numu_creator.preprocess()"
   ]
  },
  {
   "cell_type": "markdown",
   "metadata": {},
   "source": [
    "## The Configuration File\n",
    "\n",
    "Everything in chips-cvn is controlled by a YAML (YAML Ain't Markup Language) configuration file, which is similar to JSON. This makes dealing with the large amount of possible parameters much, much easier. The file is split into different sections for the different functional sections of the code."
   ]
  },
  {
   "cell_type": "code",
   "execution_count": 4,
   "metadata": {},
   "outputs": [
    {
     "name": "stdout",
     "output_type": "stream",
     "text": [
      "---\r\n",
      "exp: # Variables that define the experiment\r\n",
      "    name: \"energy_estimation_example\"\r\n",
      "    experiment_dir: \"experiments/\"\r\n",
      "data: # Variables used to load the data\r\n",
      "    input_dirs: \r\n",
      "        - \"example_data/beam_nuel_qel_cc/tf/chips_1200_sk1pe/\"\r\n",
      "    img_shape: [64, 64, 3]\r\n",
      "    batch_size: 64\r\n",
      "    max_examples: 2500\r\n",
      "model: # Variables used in building the model\r\n",
      "    name: \"single_par\"\r\n",
      "    parameter: \"lepEnergy\"\r\n",
      "    lr: 0.001\r\n",
      "    dense_units: 256\r\n",
      "    dropout: 0.0\r\n",
      "    kernel_size: 3\r\n",
      "    filters: 64\r\n",
      "trainer: # Variables used by the trainer\r\n",
      "    num_epochs: 5\r\n",
      "    es_delta: 5\r\n",
      "    es_epochs: 5\r\n",
      "study: # We list the number of trials and then all the variables we want to tune\r\n",
      "    trials: 200\r\n",
      "    data:\r\n",
      "        batch_size: [32, 64, 128]\r\n",
      "    model:\r\n",
      "        lr: [0.0005, 0.01]\r\n",
      "        dense_units: [64, 128]\r\n",
      "        dropout: [0.0, 0.5]\r\n",
      "        kernel_size: [3, 5]\r\n",
      "        filters: [32, 64, 128]\r\n",
      "eval: # Variables used by the evaluator\r\n",
      "    input_dirs: \r\n",
      "        - \"example_data/beam_nuel_qel_cc/tf/chips_1200_sk1pe/\"\r\n",
      "        "
     ]
    }
   ],
   "source": [
    "!cat config/example_energy_estimation.yml  # Look at the example energy estimation configuration file"
   ]
  },
  {
   "cell_type": "markdown",
   "metadata": {},
   "source": [
    "## Look at an Event\n",
    "\n",
    "To inspect some example events we will use the \"DataLoader\" from the data module that creates TF datasets from the .tfrecords files and just look at a few events and what they contain. Each \"example\" in the dataset is a tuple of two things the \"image\" and the \"labels\"."
   ]
  },
  {
   "cell_type": "code",
   "execution_count": 5,
   "metadata": {},
   "outputs": [
    {
     "name": "stdout",
     "output_type": "stream",
     "text": [
      "Batch type: <class 'tuple'>, Elements: 2\n",
      "(64, 64, 64, 3)\n",
      "dict_keys(['pdg', 'type', 'vtxX', 'vtxY', 'vtxZ', 'dirTheta', 'dirPhi', 'nuEnergy', 'lepEnergy'])\n"
     ]
    }
   ],
   "source": [
    "import matplotlib.pyplot as plt\n",
    "import chipscvn.config as config\n",
    "\n",
    "conf = config.process_config(\"config/example_energy_estimation.yml\")  # Load the example configuration\n",
    "data_loader = data.DataLoader(conf)  # Setup the DataLoader using the configuration\n",
    "\n",
    "dataset = data_loader.train_data()  # Get the training dataset from the DataLoader\n",
    "for example in dataset.take(1):  # Dataset is iterable, take first batch of 64 examples\n",
    "    print(\"Batch type: \" + str(type(example)) + \", Elements: \" + str(len(example)))\n",
    "    print(str(example[0].shape))  # Print the image tensor shape\n",
    "    print(example[1].keys())  # Print the labels dictionary keys"
   ]
  },
  {
   "cell_type": "code",
   "execution_count": 6,
   "metadata": {},
   "outputs": [
    {
     "data": {
      "image/png": "[encoded data removed]",
      "text/plain": [
       "<Figure size 1080x504 with 6 Axes>"
      ]
     },
     "metadata": {
      "needs_background": "light"
     },
     "output_type": "display_data"
    }
   ],
   "source": [
    "for example in dataset.take(1):  # Dataset is iterable, take first batch of 64 examples\n",
    "    image = example[0][0].numpy()  # Get the first \"image\" in the batch\n",
    "    charge, time, hough = image[:, :, 0], image[:, :, 1], image[:, :, 2]\n",
    "    \n",
    "    plt.figure(1, figsize=(15, 7))\n",
    "    plt.subplot(131)\n",
    "    plt.title('charge channel')\n",
    "    plt.imshow(charge)\n",
    "    plt.colorbar(orientation='horizontal')\n",
    "\n",
    "    plt.subplot(132)\n",
    "    plt.title('time channel')\n",
    "    plt.imshow(time)\n",
    "    plt.colorbar(orientation='horizontal')\n",
    "    \n",
    "    plt.subplot(133)\n",
    "    plt.title('hough channel')\n",
    "    plt.imshow(hough)    \n",
    "    plt.colorbar(orientation='horizontal')\n",
    "    \n",
    "    plt.show()"
   ]
  },
  {
   "cell_type": "markdown",
   "metadata": {},
   "source": [
    "## Train a Simple Energy Estimation Network\n",
    "\n",
    "As a first example we will train a simple Convolutional Neural Network to estimate the $\\nu_{e}$ energy in $\\nu_{e}$ QEL-CC events."
   ]
  },
  {
   "cell_type": "code",
   "execution_count": 7,
   "metadata": {},
   "outputs": [
    {
     "name": "stdout",
     "output_type": "stream",
     "text": [
      "Model: \"single_par_model\"\n",
      "_________________________________________________________________\n",
      "Layer (type)                 Output Shape              Param #   \n",
      "=================================================================\n",
      "img (InputLayer)             [(None, 64, 64, 3)]       0         \n",
      "_________________________________________________________________\n",
      "conv2d (Conv2D)              (None, 64, 64, 64)        1792      \n",
      "_________________________________________________________________\n",
      "conv2d_1 (Conv2D)            (None, 62, 62, 64)        36928     \n",
      "_________________________________________________________________\n",
      "max_pooling2d (MaxPooling2D) (None, 31, 31, 64)        0         \n",
      "_________________________________________________________________\n",
      "dropout (Dropout)            (None, 31, 31, 64)        0         \n",
      "_________________________________________________________________\n",
      "conv2d_2 (Conv2D)            (None, 31, 31, 128)       73856     \n",
      "_________________________________________________________________\n",
      "conv2d_3 (Conv2D)            (None, 29, 29, 128)       147584    \n",
      "_________________________________________________________________\n",
      "max_pooling2d_1 (MaxPooling2 (None, 14, 14, 128)       0         \n",
      "_________________________________________________________________\n",
      "dropout_1 (Dropout)          (None, 14, 14, 128)       0         \n",
      "_________________________________________________________________\n",
      "flatten (Flatten)            (None, 25088)             0         \n",
      "_________________________________________________________________\n",
      "dense (Dense)                (None, 256)               6422784   \n",
      "_________________________________________________________________\n",
      "dropout_2 (Dropout)          (None, 256)               0         \n",
      "_________________________________________________________________\n",
      "lepEnergy (Dense)            (None, 1)                 257       \n",
      "=================================================================\n",
      "Total params: 6,683,201\n",
      "Trainable params: 6,683,201\n",
      "Non-trainable params: 0\n",
      "_________________________________________________________________\n",
      "Epoch 1/5\n",
      "246/246 [==============================] - 9s 37ms/step - loss: 1074725.4150 - mae: 659.0270 - mse: 1074725.6250 - val_loss: 190687.6117 - val_mae: 308.5728 - val_mse: 190687.6094\n",
      "Epoch 2/5\n",
      "246/246 [==============================] - 6s 25ms/step - loss: 197664.1772 - mae: 314.0757 - mse: 197664.1719 - val_loss: 179776.2299 - val_mae: 290.0148 - val_mse: 179776.2344\n",
      "Epoch 3/5\n",
      "246/246 [==============================] - 6s 25ms/step - loss: 169688.5878 - mae: 288.6599 - mse: 169688.6250 - val_loss: 158085.9617 - val_mae: 266.8817 - val_mse: 158085.9844\n",
      "Epoch 4/5\n",
      "246/246 [==============================] - 6s 25ms/step - loss: 161639.3331 - mae: 284.5756 - mse: 161639.3281 - val_loss: 162785.8841 - val_mae: 268.9908 - val_mse: 162785.9219\n",
      "Epoch 5/5\n",
      "246/246 [==============================] - 6s 25ms/step - loss: 144785.7600 - mae: 266.9619 - mse: 144785.8125 - val_loss: 147884.6531 - val_mae: 252.8371 - val_mse: 147884.6719\n"
     ]
    }
   ],
   "source": [
    "import chipscvn.config as config\n",
    "import chipscvn.data as data\n",
    "import chipscvn.models as models\n",
    "import chipscvn.trainers as trainer\n",
    "\n",
    "conf = config.process_config(\"config/example_energy_estimation.yml\") # Load the nuel configuration\n",
    "data_loader = data.DataLoader(conf)                                  # Setup the TF datasets\n",
    "model = utils.get_model(conf)                                        # Create the model\n",
    "model.summarise()                                                    # Print model summary\n",
    "\n",
    "model_trainer = utils.get_trainer(conf, model, data_loader)          # Setup the model train\n",
    "model_trainer.train()                                                # Train the model"
   ]
  },
  {
   "cell_type": "markdown",
   "metadata": {},
   "source": [
    "## Test the train model\n",
    "\n",
    "Whenever you run a training \"experiment\" chips-cvn creates a directory containing various outputs in the ./experiments directory.\n",
    "\n",
    "- Model weights, saved at the end of each epoch\n",
    "- Tensorboard files\n",
    "- Image of the model structure\n",
    "\n",
    "We can now test the model on the test dataset by loading the trained model and evaluating its performance. We will not load the model here as we already have it fully trained in memory..."
   ]
  },
  {
   "cell_type": "code",
   "execution_count": 9,
   "metadata": {},
   "outputs": [
    {
     "name": "stdout",
     "output_type": "stream",
     "text": [
      "Welcome to JupyROOT 6.18/04\n",
      "     30/Unknown - 0s 13ms/step - loss: 126482.9531 - mae: 240.2522 - mse: 126482.9531[126482.953125, 240.25217, 126482.95]\n",
      "--- 1.015367031097412 seconds to test model ---\n"
     ]
    },
    {
     "data": {
      "text/html": [
       "\n",
       "<div id=\"root_plot_1\"\n",
       "     style=\"width: 796px; height: 572px\">\n",
       "</div>\n",
       "\n",
       "<script>\n",
       " requirejs.config({\n",
       "     paths: {\n",
       "       'JSRootCore' : 'https://root.cern.ch/js/notebook//scripts/JSRootCore',\n",
       "     }\n",
       "   });\n",
       " require(['JSRootCore'],\n",
       "     function(Core) {\n",
       "       var obj = Core.JSONR_unref({\"_typename\":\"TCanvas\",\"fUniqueID\":0,\"fBits\":53673992,\"fLineColor\":1,\"fLineStyle\":1,\"fLineWidth\":1,\"fFillColor\":0,\"fFillStyle\":1001,\"fLeftMargin\":0.1,\"fRightMargin\":0.1,\"fBottomMargin\":0.1,\"fTopMargin\":0.1,\"fXfile\":2,\"fYfile\":2,\"fAfile\":1,\"fXstat\":0.99,\"fYstat\":0.99,\"fAstat\":2,\"fFrameFillColor\":0,\"fFrameLineColor\":1,\"fFrameFillStyle\":1001,\"fFrameLineStyle\":1,\"fFrameLineWidth\":1,\"fFrameBorderSize\":1,\"fFrameBorderMode\":0,\"fX1\":-1000.00001490116,\"fY1\":-13.3875009974465,\"fX2\":1000.00001490116,\"fY2\":120.487500997447,\"fXtoAbsPixelk\":398.00005,\"fXtoPixelk\":398.00005,\"fXtoPixel\":0.397999994069338,\"fYtoAbsPixelk\":514.800046590614,\"fYtoPixelk\":514.800046590614,\"fYtoPixel\":-4.27264232662211,\"fUtoAbsPixelk\":5e-5,\"fUtoPixelk\":5e-5,\"fUtoPixel\":796,\"fVtoAbsPixelk\":572.00005,\"fVtoPixelk\":572,\"fVtoPixel\":-572,\"fAbsPixeltoXk\":-1000.00001490116,\"fPixeltoXk\":-1000.00001490116,\"fPixeltoX\":2.51256285151046,\"fAbsPixeltoYk\":120.487500997447,\"fPixeltoYk\":-13.3875009974465,\"fPixeltoY\":-0.234047206284778,\"fXlowNDC\":0,\"fYlowNDC\":0,\"fXUpNDC\":0,\"fYUpNDC\":0,\"fWNDC\":1,\"fHNDC\":1,\"fAbsXlowNDC\":0,\"fAbsYlowNDC\":0,\"fAbsWNDC\":1,\"fAbsHNDC\":1,\"fUxmin\":-800,\"fUymin\":0,\"fUxmax\":800,\"fUymax\":107.1,\"fTheta\":30,\"fPhi\":30,\"fAspectRatio\":0,\"fNumber\":0,\"fTickx\":0,\"fTicky\":0,\"fLogx\":0,\"fLogy\":0,\"fLogz\":0,\"fPadPaint\":0,\"fCrosshair\":0,\"fCrosshairPos\":0,\"fBorderSize\":2,\"fBorderMode\":0,\"fModified\":false,\"fGridx\":false,\"fGridy\":false,\"fAbsCoord\":false,\"fEditable\":true,\"fFixedAspectRatio\":false,\"fPrimitives\":{\"_typename\":\"TList\",\"name\":\"TList\",\"arr\":[{\"_typename\":\"TFrame\",\"fUniqueID\":0,\"fBits\":50331656,\"fLineColor\":1,\"fLineStyle\":1,\"fLineWidth\":1,\"fFillColor\":0,\"fFillStyle\":1001,\"fX1\":-800,\"fY1\":0,\"fX2\":800,\"fY2\":107.1,\"fBorderSize\":1,\"fBorderMode\":0},{\"_typename\":\"TH1F\",\"fUniqueID\":0,\"fBits\":50331656,\"fName\":\"resolution_h\",\"fTitle\":\"resolution\",\"fLineColor\":602,\"fLineStyle\":1,\"fLineWidth\":1,\"fFillColor\":0,\"fFillStyle\":1001,\"fMarkerColor\":1,\"fMarkerStyle\":1,\"fMarkerSize\":1,\"fNcells\":52,\"fXaxis\":{\"_typename\":\"TAxis\",\"fUniqueID\":0,\"fBits\":50331648,\"fName\":\"xaxis\",\"fTitle\":\"\",\"fNdivisions\":510,\"fAxisColor\":1,\"fLabelColor\":1,\"fLabelFont\":42,\"fLabelOffset\":0.005,\"fLabelSize\":0.035,\"fTickLength\":0.03,\"fTitleOffset\":1,\"fTitleSize\":0.035,\"fTitleColor\":1,\"fTitleFont\":42,\"fNbins\":50,\"fXmin\":-800,\"fXmax\":800,\"fXbins\":[],\"fFirst\":0,\"fLast\":0,\"fBits2\":0,\"fTimeDisplay\":false,\"fTimeFormat\":\"\",\"fLabels\":null,\"fModLabs\":null},\"fYaxis\":{\"_typename\":\"TAxis\",\"fUniqueID\":0,\"fBits\":50331648,\"fName\":\"yaxis\",\"fTitle\":\"\",\"fNdivisions\":510,\"fAxisColor\":1,\"fLabelColor\":1,\"fLabelFont\":42,\"fLabelOffset\":0.005,\"fLabelSize\":0.035,\"fTickLength\":0.03,\"fTitleOffset\":0,\"fTitleSize\":0.035,\"fTitleColor\":1,\"fTitleFont\":42,\"fNbins\":1,\"fXmin\":0,\"fXmax\":1,\"fXbins\":[],\"fFirst\":0,\"fLast\":0,\"fBits2\":0,\"fTimeDisplay\":false,\"fTimeFormat\":\"\",\"fLabels\":null,\"fModLabs\":null},\"fZaxis\":{\"_typename\":\"TAxis\",\"fUniqueID\":0,\"fBits\":50331648,\"fName\":\"zaxis\",\"fTitle\":\"\",\"fNdivisions\":510,\"fAxisColor\":1,\"fLabelColor\":1,\"fLabelFont\":42,\"fLabelOffset\":0.005,\"fLabelSize\":0.035,\"fTickLength\":0.03,\"fTitleOffset\":1,\"fTitleSize\":0.035,\"fTitleColor\":1,\"fTitleFont\":42,\"fNbins\":1,\"fXmin\":0,\"fXmax\":1,\"fXbins\":[],\"fFirst\":0,\"fLast\":0,\"fBits2\":0,\"fTimeDisplay\":false,\"fTimeFormat\":\"\",\"fLabels\":null,\"fModLabs\":null},\"fBarOffset\":0,\"fBarWidth\":1000,\"fEntries\":1920,\"fTsumw\":1866,\"fTsumw2\":1866,\"fTsumwx\":144530.60333252,\"fTsumwx2\":134125063.644243,\"fMaximum\":-1111,\"fMinimum\":-1111,\"fNormFactor\":0,\"fContour\":[],\"fSumw2\":[],\"fOption\":\"\",\"fFunctions\":{\"_typename\":\"TList\",\"name\":\"TList\",\"arr\":[{\"_typename\":\"TPaveStats\",\"fUniqueID\":0,\"fBits\":50331657,\"fLineColor\":1,\"fLineStyle\":1,\"fLineWidth\":1,\"fFillColor\":0,\"fFillStyle\":1001,\"fX1\":560.000040531159,\"fY1\":90.3656263465528,\"fX2\":960.000052452089,\"fY2\":111.785626186961,\"fX1NDC\":0.780000016093254,\"fY1NDC\":0.775000005960464,\"fX2NDC\":0.980000019073486,\"fY2NDC\":0.935000002384186,\"fBorderSize\":1,\"fInit\":1,\"fShadowColor\":1,\"fCornerRadius\":0,\"fOption\":\"brNDC\",\"fName\":\"stats\",\"fTextAngle\":0,\"fTextSize\":0,\"fTextAlign\":12,\"fTextColor\":1,\"fTextFont\":42,\"fLabel\":\"\",\"fLongest\":18,\"fMargin\":0.05,\"fLines\":{\"_typename\":\"TList\",\"name\":\"TList\",\"arr\":[{\"_typename\":\"TLatex\",\"fUniqueID\":0,\"fBits\":50331648,\"fName\":\"\",\"fTitle\":\"resolution_h\",\"fTextAngle\":0,\"fTextSize\":0.0368,\"fTextAlign\":0,\"fTextColor\":0,\"fTextFont\":0,\"fX\":0,\"fY\":0,\"fLineColor\":1,\"fLineStyle\":1,\"fLineWidth\":2,\"fLimitFactorSize\":3,\"fOriginSize\":0.0368000008165836},{\"_typename\":\"TLatex\",\"fUniqueID\":0,\"fBits\":50331648,\"fName\":\"\",\"fTitle\":\"Entries = 1920   \",\"fTextAngle\":0,\"fTextSize\":0,\"fTextAlign\":0,\"fTextColor\":0,\"fTextFont\":0,\"fX\":0,\"fY\":0,\"fLineColor\":1,\"fLineStyle\":1,\"fLineWidth\":2,\"fLimitFactorSize\":3,\"fOriginSize\":0.04},{\"_typename\":\"TLatex\",\"fUniqueID\":0,\"fBits\":50331648,\"fName\":\"\",\"fTitle\":\"Mean  =  77.45\",\"fTextAngle\":0,\"fTextSize\":0,\"fTextAlign\":0,\"fTextColor\":0,\"fTextFont\":0,\"fX\":0,\"fY\":0,\"fLineColor\":1,\"fLineStyle\":1,\"fLineWidth\":2,\"fLimitFactorSize\":3,\"fOriginSize\":0.04},{\"_typename\":\"TLatex\",\"fUniqueID\":0,\"fBits\":50331648,\"fName\":\"\",\"fTitle\":\"Std Dev   =  256.7\",\"fTextAngle\":0,\"fTextSize\":0,\"fTextAlign\":0,\"fTextColor\":0,\"fTextFont\":0,\"fX\":0,\"fY\":0,\"fLineColor\":1,\"fLineStyle\":1,\"fLineWidth\":2,\"fLimitFactorSize\":3,\"fOriginSize\":0.04}],\"opt\":[\"\",\"\",\"\",\"\"]},\"fOptFit\":0,\"fOptStat\":1111,\"fFitFormat\":\"5.4g\",\"fStatFormat\":\"6.4g\",\"fParent\":{\"$ref\":3}}],\"opt\":[\"brNDC\"]},\"fBufferSize\":0,\"fBuffer\":[],\"fBinStatErrOpt\":0,\"fStatOverflows\":2,\"fArray\":[7,1,2,0,5,0,0,7,3,6,7,10,7,9,23,21,17,43,51,36,60,69,84,86,86,102,91,98,94,95,86,87,81,62,66,51,43,41,34,42,27,34,21,19,14,13,10,5,7,8,2,47]},{\"_typename\":\"TPaveText\",\"fUniqueID\":0,\"fBits\":50331657,\"fLineColor\":1,\"fLineStyle\":1,\"fLineWidth\":1,\"fFillColor\":0,\"fFillStyle\":0,\"fX1\":-194.623118478,\"fY1\":112.4550014064,\"fX2\":194.623118478,\"fY2\":119.818126625838,\"fX1NDC\":0.402688442211055,\"fY1NDC\":0.940000003948808,\"fX2NDC\":0.597311557788945,\"fY2NDC\":0.995000004768372,\"fBorderSize\":0,\"fInit\":1,\"fShadowColor\":1,\"fCornerRadius\":0,\"fOption\":\"blNDC\",\"fName\":\"title\",\"fTextAngle\":0,\"fTextSize\":0,\"fTextAlign\":22,\"fTextColor\":1,\"fTextFont\":42,\"fLabel\":\"\",\"fLongest\":10,\"fMargin\":0.05,\"fLines\":{\"_typename\":\"TList\",\"name\":\"TList\",\"arr\":[{\"_typename\":\"TLatex\",\"fUniqueID\":0,\"fBits\":50331648,\"fName\":\"\",\"fTitle\":\"resolution\",\"fTextAngle\":0,\"fTextSize\":0,\"fTextAlign\":0,\"fTextColor\":0,\"fTextFont\":0,\"fX\":0,\"fY\":0,\"fLineColor\":1,\"fLineStyle\":1,\"fLineWidth\":2,\"fLimitFactorSize\":3,\"fOriginSize\":0.0467500016093254}],\"opt\":[\"\"]}}],\"opt\":[\"\",\"\",\"blNDC\"]},\"fExecs\":null,\"fName\":\"resolution_c\",\"fTitle\":\"resolution\",\"fNumPaletteColor\":0,\"fNextPaletteColor\":0,\"fDISPLAY\":\"$DISPLAY\",\"fDoubleBuffer\":0,\"fRetained\":true,\"fXsizeUser\":0,\"fYsizeUser\":0,\"fXsizeReal\":20,\"fYsizeReal\":15,\"fWindowTopX\":0,\"fWindowTopY\":0,\"fWindowWidth\":0,\"fWindowHeight\":0,\"fCw\":796,\"fCh\":572,\"fCatt\":{\"_typename\":\"TAttCanvas\",\"fXBetween\":2,\"fYBetween\":2,\"fTitleFromTop\":1.2,\"fXdate\":0.2,\"fYdate\":0.3,\"fAdate\":1},\"kMoveOpaque\":true,\"kResizeOpaque\":true,\"fHighLightColor\":2,\"fBatch\":true,\"kShowEventStatus\":false,\"kAutoExec\":true,\"kMenuBar\":true});\n",
       "       Core.draw(\"root_plot_1\", obj, \"\");\n",
       "     }\n",
       " );\n",
       "</script>\n"
      ],
      "text/plain": [
       "<IPython.core.display.HTML object>"
      ]
     },
     "metadata": {},
     "output_type": "display_data"
    }
   ],
   "source": [
    "import ROOT\n",
    "from root_numpy import fill_hist\n",
    "import chipscvn.evaluators as evaluators\n",
    "%jsroot on\n",
    "\n",
    "evaluator = utils.get_evaluator(conf)          # Setup the model train\n",
    "evaluator.run()                                                # Train the model\n",
    "labels, predictions = evaluators.predict(data_loader.test_data(), model)\n",
    "diff = labels['lepEnergy'] - predictions['lepEnergy']\n",
    "diff = diff.to_numpy()\n",
    "h = ROOT.TH1F(\"resolution_h\",\"resolution\",50,-800,800)\n",
    "fill_hist(h, diff)\n",
    "c = ROOT.TCanvas(\"resolution_c\",\"resolution\",800,600)\n",
    "h.Draw()\n",
    "c.Draw()"
   ]
  }
 ],
 "metadata": {
  "kernelspec": {
   "display_name": "Python 3",
   "language": "python",
   "name": "python3"
  },
  "language_info": {
   "codemirror_mode": {
    "name": "ipython",
    "version": 3
   },
   "file_extension": ".py",
   "mimetype": "text/x-python",
   "name": "python",
   "nbconvert_exporter": "python",
   "pygments_lexer": "ipython3",
   "version": "3.7.6"
  }
 },
 "nbformat": 4,
 "nbformat_minor": 4
}
